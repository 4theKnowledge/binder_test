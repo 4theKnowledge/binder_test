{
 "cells": [
  {
   "cell_type": "markdown",
   "metadata": {
    "slideshow": {
     "slide_type": "slide"
    }
   },
   "source": [
    "# Week 10.3.1 Topic Modelling using LDA\n",
    "\n",
    "## Preparation\n",
    "\n",
    "In this exercise, we will need to make sure the following packages are installed into your conda environment that runs this Jupyter notebook. \n",
    "\n",
    "`pip install gensim spacy pyLDAvis matplotlib numpy pandas`\n",
    "\n",
    "To view the list of modules or packages installed, use\n",
    "\n",
    "`conda list`\n",
    "\n",
    "Then install the ones you do not have. Once installed, we can then import them and be prepared for the rest of the exercise. "
   ]
  },
  {
   "cell_type": "code",
   "execution_count": 1,
   "metadata": {
    "slideshow": {
     "slide_type": "slide"
    }
   },
   "outputs": [],
   "source": [
    "import re\n",
    "import numpy as np\n",
    "import pandas as pd\n",
    "from pprint import pprint\n",
    "\n",
    "# Gensim\n",
    "import gensim\n",
    "import gensim.corpora as corpora\n",
    "from gensim.utils import simple_preprocess\n",
    "from gensim.models import CoherenceModel\n",
    "\n",
    "# spacy for lemmatization\n",
    "import spacy\n",
    "\n",
    "# Plotting tools\n",
    "import pyLDAvis\n",
    "import pyLDAvis.gensim  # don't skip this\n",
    "import matplotlib.pyplot as plt\n",
    "%matplotlib inline\n",
    "\n",
    "# Enable logging for gensim - optional\n",
    "import logging\n",
    "logging.basicConfig(format='%(asctime)s : %(levelname)s : %(message)s', level=logging.ERROR)\n",
    "\n",
    "import warnings\n",
    "warnings.filterwarnings(\"ignore\",category=DeprecationWarning)"
   ]
  },
  {
   "cell_type": "code",
   "execution_count": 2,
   "metadata": {},
   "outputs": [
    {
     "name": "stdout",
     "output_type": "stream",
     "text": [
      "Requirement already satisfied: en_core_web_sm==2.2.5 from https://github.com/explosion/spacy-models/releases/download/en_core_web_sm-2.2.5/en_core_web_sm-2.2.5.tar.gz#egg=en_core_web_sm==2.2.5 in c:\\users\\22917746\\appdata\\local\\programs\\python\\python36\\lib\\site-packages (2.2.5)\n",
      "Requirement already satisfied: spacy>=2.2.2 in c:\\users\\22917746\\appdata\\local\\programs\\python\\python36\\lib\\site-packages (from en_core_web_sm==2.2.5) (2.2.4)\n",
      "Requirement already satisfied: numpy>=1.15.0 in c:\\users\\22917746\\appdata\\local\\programs\\python\\python36\\lib\\site-packages (from spacy>=2.2.2->en_core_web_sm==2.2.5) (1.18.1)\n",
      "Requirement already satisfied: preshed<3.1.0,>=3.0.2 in c:\\users\\22917746\\appdata\\local\\programs\\python\\python36\\lib\\site-packages (from spacy>=2.2.2->en_core_web_sm==2.2.5) (3.0.2)\n",
      "Requirement already satisfied: requests<3.0.0,>=2.13.0 in c:\\users\\22917746\\appdata\\local\\programs\\python\\python36\\lib\\site-packages (from spacy>=2.2.2->en_core_web_sm==2.2.5) (2.22.0)\n",
      "Requirement already satisfied: setuptools in c:\\users\\22917746\\appdata\\local\\programs\\python\\python36\\lib\\site-packages (from spacy>=2.2.2->en_core_web_sm==2.2.5) (39.0.1)\n",
      "Requirement already satisfied: srsly<1.1.0,>=1.0.2 in c:\\users\\22917746\\appdata\\local\\programs\\python\\python36\\lib\\site-packages (from spacy>=2.2.2->en_core_web_sm==2.2.5) (1.0.2)\n",
      "Requirement already satisfied: cymem<2.1.0,>=2.0.2 in c:\\users\\22917746\\appdata\\local\\programs\\python\\python36\\lib\\site-packages (from spacy>=2.2.2->en_core_web_sm==2.2.5) (2.0.3)\n",
      "Requirement already satisfied: catalogue<1.1.0,>=0.0.7 in c:\\users\\22917746\\appdata\\local\\programs\\python\\python36\\lib\\site-packages (from spacy>=2.2.2->en_core_web_sm==2.2.5) (1.0.0)\n",
      "Requirement already satisfied: wasabi<1.1.0,>=0.4.0 in c:\\users\\22917746\\appdata\\local\\programs\\python\\python36\\lib\\site-packages (from spacy>=2.2.2->en_core_web_sm==2.2.5) (0.6.0)\n",
      "Requirement already satisfied: plac<1.2.0,>=0.9.6 in c:\\users\\22917746\\appdata\\local\\programs\\python\\python36\\lib\\site-packages (from spacy>=2.2.2->en_core_web_sm==2.2.5) (1.1.3)\n",
      "Requirement already satisfied: blis<0.5.0,>=0.4.0 in c:\\users\\22917746\\appdata\\local\\programs\\python\\python36\\lib\\site-packages (from spacy>=2.2.2->en_core_web_sm==2.2.5) (0.4.1)\n",
      "Requirement already satisfied: murmurhash<1.1.0,>=0.28.0 in c:\\users\\22917746\\appdata\\local\\programs\\python\\python36\\lib\\site-packages (from spacy>=2.2.2->en_core_web_sm==2.2.5) (1.0.2)\n",
      "Requirement already satisfied: thinc==7.4.0 in c:\\users\\22917746\\appdata\\local\\programs\\python\\python36\\lib\\site-packages (from spacy>=2.2.2->en_core_web_sm==2.2.5) (7.4.0)\n",
      "Requirement already satisfied: tqdm<5.0.0,>=4.38.0 in c:\\users\\22917746\\appdata\\roaming\\python\\python36\\site-packages (from spacy>=2.2.2->en_core_web_sm==2.2.5) (4.42.0)\n",
      "Requirement already satisfied: urllib3!=1.25.0,!=1.25.1,<1.26,>=1.21.1 in c:\\users\\22917746\\appdata\\local\\programs\\python\\python36\\lib\\site-packages (from requests<3.0.0,>=2.13.0->spacy>=2.2.2->en_core_web_sm==2.2.5) (1.24.3)\n",
      "Requirement already satisfied: certifi>=2017.4.17 in c:\\users\\22917746\\appdata\\local\\programs\\python\\python36\\lib\\site-packages (from requests<3.0.0,>=2.13.0->spacy>=2.2.2->en_core_web_sm==2.2.5) (2019.11.28)\n",
      "Requirement already satisfied: chardet<3.1.0,>=3.0.2 in c:\\users\\22917746\\appdata\\local\\programs\\python\\python36\\lib\\site-packages (from requests<3.0.0,>=2.13.0->spacy>=2.2.2->en_core_web_sm==2.2.5) (3.0.4)\n",
      "Requirement already satisfied: idna<2.9,>=2.5 in c:\\users\\22917746\\appdata\\local\\programs\\python\\python36\\lib\\site-packages (from requests<3.0.0,>=2.13.0->spacy>=2.2.2->en_core_web_sm==2.2.5) (2.8)\n",
      "Requirement already satisfied: importlib-metadata>=0.20; python_version < \"3.8\" in c:\\users\\22917746\\appdata\\local\\programs\\python\\python36\\lib\\site-packages (from catalogue<1.1.0,>=0.0.7->spacy>=2.2.2->en_core_web_sm==2.2.5) (1.5.0)\n",
      "Requirement already satisfied: zipp>=0.5 in c:\\users\\22917746\\appdata\\local\\programs\\python\\python36\\lib\\site-packages (from importlib-metadata>=0.20; python_version < \"3.8\"->catalogue<1.1.0,>=0.0.7->spacy>=2.2.2->en_core_web_sm==2.2.5) (2.2.0)\n",
      "[+] Download and installation successful\n",
      "You can now load the model via spacy.load('en_core_web_sm')\n",
      "[x] Couldn't link model to 'en'\n",
      "Creating a symlink in spacy/data failed. Make sure you have the required\n",
      "permissions and try re-running the command as admin, or use a virtualenv. You\n",
      "can still import the model as a module and call its load() method, or create the\n",
      "symlink manually.\n",
      "c:\\users\\22917746\\appdata\\local\\programs\\python\\python36\\lib\\site-packages\\en_core_web_sm\n",
      "-->\n",
      "c:\\users\\22917746\\appdata\\local\\programs\\python\\python36\\lib\\site-packages\\spacy\\data\\en\n",
      "[!] Download successful but linking failed\n",
      "Creating a shortcut link for 'en' didn't work (maybe you don't have admin\n",
      "permissions?), but you can still load the model via its full package name: nlp =\n",
      "spacy.load('en_core_web_sm')\n"
     ]
    },
    {
     "name": "stderr",
     "output_type": "stream",
     "text": [
      "You do not have sufficient privilege to perform this operation.\n"
     ]
    }
   ],
   "source": [
    "import sys\n",
    "# !{sys.executable} -m pip install spacy\n",
    "!{sys.executable} -m spacy download en"
   ]
  },
  {
   "cell_type": "markdown",
   "metadata": {
    "slideshow": {
     "slide_type": "slide"
    }
   },
   "source": [
    "### Define stop words"
   ]
  },
  {
   "cell_type": "code",
   "execution_count": 3,
   "metadata": {
    "slideshow": {
     "slide_type": "subslide"
    }
   },
   "outputs": [
    {
     "name": "stdout",
     "output_type": "stream",
     "text": [
      "['i',\n",
      " 'me',\n",
      " 'my',\n",
      " 'myself',\n",
      " 'we',\n",
      " 'our',\n",
      " 'ours',\n",
      " 'ourselves',\n",
      " 'you',\n",
      " \"you're\",\n",
      " \"you've\",\n",
      " \"you'll\",\n",
      " \"you'd\",\n",
      " 'your',\n",
      " 'yours',\n",
      " 'yourself',\n",
      " 'yourselves',\n",
      " 'he',\n",
      " 'him',\n",
      " 'his',\n",
      " 'himself',\n",
      " 'she',\n",
      " \"she's\",\n",
      " 'her',\n",
      " 'hers',\n",
      " 'herself',\n",
      " 'it',\n",
      " \"it's\",\n",
      " 'its',\n",
      " 'itself',\n",
      " 'they',\n",
      " 'them',\n",
      " 'their',\n",
      " 'theirs',\n",
      " 'themselves',\n",
      " 'what',\n",
      " 'which',\n",
      " 'who',\n",
      " 'whom',\n",
      " 'this',\n",
      " 'that',\n",
      " \"that'll\",\n",
      " 'these',\n",
      " 'those',\n",
      " 'am',\n",
      " 'is',\n",
      " 'are',\n",
      " 'was',\n",
      " 'were',\n",
      " 'be',\n",
      " 'been',\n",
      " 'being',\n",
      " 'have',\n",
      " 'has',\n",
      " 'had',\n",
      " 'having',\n",
      " 'do',\n",
      " 'does',\n",
      " 'did',\n",
      " 'doing',\n",
      " 'a',\n",
      " 'an',\n",
      " 'the',\n",
      " 'and',\n",
      " 'but',\n",
      " 'if',\n",
      " 'or',\n",
      " 'because',\n",
      " 'as',\n",
      " 'until',\n",
      " 'while',\n",
      " 'of',\n",
      " 'at',\n",
      " 'by',\n",
      " 'for',\n",
      " 'with',\n",
      " 'about',\n",
      " 'against',\n",
      " 'between',\n",
      " 'into',\n",
      " 'through',\n",
      " 'during',\n",
      " 'before',\n",
      " 'after',\n",
      " 'above',\n",
      " 'below',\n",
      " 'to',\n",
      " 'from',\n",
      " 'up',\n",
      " 'down',\n",
      " 'in',\n",
      " 'out',\n",
      " 'on',\n",
      " 'off',\n",
      " 'over',\n",
      " 'under',\n",
      " 'again',\n",
      " 'further',\n",
      " 'then',\n",
      " 'once',\n",
      " 'here',\n",
      " 'there',\n",
      " 'when',\n",
      " 'where',\n",
      " 'why',\n",
      " 'how',\n",
      " 'all',\n",
      " 'any',\n",
      " 'both',\n",
      " 'each',\n",
      " 'few',\n",
      " 'more',\n",
      " 'most',\n",
      " 'other',\n",
      " 'some',\n",
      " 'such',\n",
      " 'no',\n",
      " 'nor',\n",
      " 'not',\n",
      " 'only',\n",
      " 'own',\n",
      " 'same',\n",
      " 'so',\n",
      " 'than',\n",
      " 'too',\n",
      " 'very',\n",
      " 's',\n",
      " 't',\n",
      " 'can',\n",
      " 'will',\n",
      " 'just',\n",
      " 'don',\n",
      " \"don't\",\n",
      " 'should',\n",
      " \"should've\",\n",
      " 'now',\n",
      " 'd',\n",
      " 'll',\n",
      " 'm',\n",
      " 'o',\n",
      " 're',\n",
      " 've',\n",
      " 'y',\n",
      " 'ain',\n",
      " 'aren',\n",
      " \"aren't\",\n",
      " 'couldn',\n",
      " \"couldn't\",\n",
      " 'didn',\n",
      " \"didn't\",\n",
      " 'doesn',\n",
      " \"doesn't\",\n",
      " 'hadn',\n",
      " \"hadn't\",\n",
      " 'hasn',\n",
      " \"hasn't\",\n",
      " 'haven',\n",
      " \"haven't\",\n",
      " 'isn',\n",
      " \"isn't\",\n",
      " 'ma',\n",
      " 'mightn',\n",
      " \"mightn't\",\n",
      " 'mustn',\n",
      " \"mustn't\",\n",
      " 'needn',\n",
      " \"needn't\",\n",
      " 'shan',\n",
      " \"shan't\",\n",
      " 'shouldn',\n",
      " \"shouldn't\",\n",
      " 'wasn',\n",
      " \"wasn't\",\n",
      " 'weren',\n",
      " \"weren't\",\n",
      " 'won',\n",
      " \"won't\",\n",
      " 'wouldn',\n",
      " \"wouldn't\",\n",
      " 'from',\n",
      " 'subject',\n",
      " 're',\n",
      " 'edu',\n",
      " 'use']\n"
     ]
    }
   ],
   "source": [
    "# NLTK Stop words\n",
    "from nltk.corpus import stopwords\n",
    "stop_words = stopwords.words('english')\n",
    "stop_words.extend(['from', 'subject', 're', 'edu', 'use'])\n",
    "pprint(stop_words)"
   ]
  },
  {
   "cell_type": "markdown",
   "metadata": {
    "slideshow": {
     "slide_type": "slide"
    }
   },
   "source": [
    "### Import 20-Newsgroups dataset\n",
    "\n",
    "The 20-Newsgroups dataset contains about 11k newsgroups posts from 20 different topics. \n",
    "\n",
    "The dataset can be imported using `pandas.read_json` and we can see the dataset has 3 columns. The `target-name` is the category or topics that the news is manually assigned to. \n",
    "\n",
    "We choose to use this dataset because it has pre-assigned categories according to topics, so our clustering results can be readily compared. In real world data, this is not always easily available. "
   ]
  },
  {
   "cell_type": "code",
   "execution_count": 4,
   "metadata": {
    "slideshow": {
     "slide_type": "subslide"
    }
   },
   "outputs": [
    {
     "name": "stdout",
     "output_type": "stream",
     "text": [
      "['rec.autos' 'comp.sys.mac.hardware' 'comp.graphics' 'sci.space'\n",
      " 'talk.politics.guns' 'sci.med' 'comp.sys.ibm.pc.hardware'\n",
      " 'comp.os.ms-windows.misc' 'rec.motorcycles' 'talk.religion.misc'\n",
      " 'misc.forsale' 'alt.atheism' 'sci.electronics' 'comp.windows.x'\n",
      " 'rec.sport.hockey' 'rec.sport.baseball' 'soc.religion.christian'\n",
      " 'talk.politics.mideast' 'talk.politics.misc' 'sci.crypt']\n"
     ]
    },
    {
     "data": {
      "text/html": [
       "<div>\n",
       "<style scoped>\n",
       "    .dataframe tbody tr th:only-of-type {\n",
       "        vertical-align: middle;\n",
       "    }\n",
       "\n",
       "    .dataframe tbody tr th {\n",
       "        vertical-align: top;\n",
       "    }\n",
       "\n",
       "    .dataframe thead th {\n",
       "        text-align: right;\n",
       "    }\n",
       "</style>\n",
       "<table border=\"1\" class=\"dataframe\">\n",
       "  <thead>\n",
       "    <tr style=\"text-align: right;\">\n",
       "      <th></th>\n",
       "      <th>content</th>\n",
       "      <th>target</th>\n",
       "      <th>target_names</th>\n",
       "    </tr>\n",
       "  </thead>\n",
       "  <tbody>\n",
       "    <tr>\n",
       "      <th>0</th>\n",
       "      <td>From: lerxst@wam.umd.edu (where's my thing)\\nS...</td>\n",
       "      <td>7</td>\n",
       "      <td>rec.autos</td>\n",
       "    </tr>\n",
       "    <tr>\n",
       "      <th>1</th>\n",
       "      <td>From: guykuo@carson.u.washington.edu (Guy Kuo)...</td>\n",
       "      <td>4</td>\n",
       "      <td>comp.sys.mac.hardware</td>\n",
       "    </tr>\n",
       "    <tr>\n",
       "      <th>2</th>\n",
       "      <td>From: twillis@ec.ecn.purdue.edu (Thomas E Will...</td>\n",
       "      <td>4</td>\n",
       "      <td>comp.sys.mac.hardware</td>\n",
       "    </tr>\n",
       "    <tr>\n",
       "      <th>3</th>\n",
       "      <td>From: jgreen@amber (Joe Green)\\nSubject: Re: W...</td>\n",
       "      <td>1</td>\n",
       "      <td>comp.graphics</td>\n",
       "    </tr>\n",
       "    <tr>\n",
       "      <th>4</th>\n",
       "      <td>From: jcm@head-cfa.harvard.edu (Jonathan McDow...</td>\n",
       "      <td>14</td>\n",
       "      <td>sci.space</td>\n",
       "    </tr>\n",
       "  </tbody>\n",
       "</table>\n",
       "</div>"
      ],
      "text/plain": [
       "                                             content  target  \\\n",
       "0  From: lerxst@wam.umd.edu (where's my thing)\\nS...       7   \n",
       "1  From: guykuo@carson.u.washington.edu (Guy Kuo)...       4   \n",
       "2  From: twillis@ec.ecn.purdue.edu (Thomas E Will...       4   \n",
       "3  From: jgreen@amber (Joe Green)\\nSubject: Re: W...       1   \n",
       "4  From: jcm@head-cfa.harvard.edu (Jonathan McDow...      14   \n",
       "\n",
       "            target_names  \n",
       "0              rec.autos  \n",
       "1  comp.sys.mac.hardware  \n",
       "2  comp.sys.mac.hardware  \n",
       "3          comp.graphics  \n",
       "4              sci.space  "
      ]
     },
     "execution_count": 4,
     "metadata": {},
     "output_type": "execute_result"
    }
   ],
   "source": [
    "# Import Dataset\n",
    "df = pd.read_json('https://raw.githubusercontent.com/selva86/datasets/master/newsgroups.json')\n",
    "print(df.target_names.unique())\n",
    "df.head()"
   ]
  },
  {
   "cell_type": "markdown",
   "metadata": {},
   "source": [
    "## Pre-processing\n",
    "### Removing emails and newline characters\n",
    "\n",
    "We can use regular expressions for this purpose by untilising the `re` package."
   ]
  },
  {
   "cell_type": "code",
   "execution_count": 5,
   "metadata": {},
   "outputs": [
    {
     "name": "stdout",
     "output_type": "stream",
     "text": [
      "['From: (wheres my thing) Subject: WHAT car is this!? Nntp-Posting-Host: '\n",
      " 'rac3.wam.umd.edu Organization: University of Maryland, College Park Lines: '\n",
      " '15 I was wondering if anyone out there could enlighten me on this car I saw '\n",
      " 'the other day. It was a 2-door sports car, looked to be from the late 60s/ '\n",
      " 'early 70s. It was called a Bricklin. The doors were really small. In '\n",
      " 'addition, the front bumper was separate from the rest of the body. This is '\n",
      " 'all I know. If anyone can tellme a model name, engine specs, years of '\n",
      " 'production, where this car is made, history, or whatever info you have on '\n",
      " 'this funky looking car, please e-mail. Thanks, - IL ---- brought to you by '\n",
      " 'your neighborhood Lerxst ---- ']\n"
     ]
    }
   ],
   "source": [
    "# Convert to list\n",
    "data = df.content.values.tolist()\n",
    "\n",
    "# Remove Emails\n",
    "data = [re.sub('\\S*@\\S*\\s?', '', sent) for sent in data]\n",
    "\n",
    "# Remove new line characters\n",
    "data = [re.sub('\\s+', ' ', sent) for sent in data]\n",
    "\n",
    "# Remove distracting single quotes\n",
    "data = [re.sub(\"\\'\", \"\", sent) for sent in data]\n",
    "\n",
    "pprint(data[:1])"
   ]
  },
  {
   "cell_type": "markdown",
   "metadata": {},
   "source": [
    "### Tokenisation\n",
    "\n",
    "We need to break down each sentence into a list of words, for the data to be ready for consumption by `gensim`. The `simple_preprocess()` function is built for such purposes. We can also set the `deacc=True` to remove punctuations. "
   ]
  },
  {
   "cell_type": "code",
   "execution_count": 6,
   "metadata": {},
   "outputs": [
    {
     "name": "stdout",
     "output_type": "stream",
     "text": [
      "[['from', 'wheres', 'my', 'thing', 'subject', 'what', 'car', 'is', 'this', 'nntp', 'posting', 'host', 'rac', 'wam', 'umd', 'edu', 'organization', 'university', 'of', 'maryland', 'college', 'park', 'lines', 'was', 'wondering', 'if', 'anyone', 'out', 'there', 'could', 'enlighten', 'me', 'on', 'this', 'car', 'saw', 'the', 'other', 'day', 'it', 'was', 'door', 'sports', 'car', 'looked', 'to', 'be', 'from', 'the', 'late', 'early', 'it', 'was', 'called', 'bricklin', 'the', 'doors', 'were', 'really', 'small', 'in', 'addition', 'the', 'front', 'bumper', 'was', 'separate', 'from', 'the', 'rest', 'of', 'the', 'body', 'this', 'is', 'all', 'know', 'if', 'anyone', 'can', 'tellme', 'model', 'name', 'engine', 'specs', 'years', 'of', 'production', 'where', 'this', 'car', 'is', 'made', 'history', 'or', 'whatever', 'info', 'you', 'have', 'on', 'this', 'funky', 'looking', 'car', 'please', 'mail', 'thanks', 'il', 'brought', 'to', 'you', 'by', 'your', 'neighborhood', 'lerxst']]\n"
     ]
    }
   ],
   "source": [
    "def sent_to_words(sentences):\n",
    "    for sentence in sentences:\n",
    "        yield(gensim.utils.simple_preprocess(str(sentence), deacc=True))  # deacc=True removes punctuations\n",
    "\n",
    "data_words = list(sent_to_words(data))\n",
    "\n",
    "print(data_words[:1])"
   ]
  },
  {
   "cell_type": "markdown",
   "metadata": {},
   "source": [
    "### Creating bigram and trigrams - Gensim’s Phrases model\n",
    "\n",
    "Bigrams are two words frequently occurring together in the document. Trigrams are 3 words frequently occurring.\n",
    "\n",
    "Some examples in our example are: ‘front_bumper’, ‘oil_leak’, ‘maryland_college_park’ etc.\n",
    "\n",
    "Gensim’s Phrases model can build and implement the bigrams, trigrams, quadgrams and more. The two important arguments to Phrases are min_count and threshold. The higher the values of these param, the harder it is for words to be combined to bigrams."
   ]
  },
  {
   "cell_type": "code",
   "execution_count": 8,
   "metadata": {},
   "outputs": [
    {
     "name": "stdout",
     "output_type": "stream",
     "text": [
      "['from', 'wheres', 'my', 'thing', 'subject', 'what', 'car', 'is', 'this', 'nntp_posting_host', 'rac_wam_umd_edu', 'organization', 'university', 'of', 'maryland_college_park', 'lines', 'was', 'wondering', 'if', 'anyone', 'out', 'there', 'could', 'enlighten', 'me', 'on', 'this', 'car', 'saw', 'the', 'other', 'day', 'it', 'was', 'door', 'sports', 'car', 'looked', 'to', 'be', 'from', 'the', 'late', 'early', 'it', 'was', 'called', 'bricklin', 'the', 'doors', 'were', 'really', 'small', 'in', 'addition', 'the', 'front_bumper', 'was', 'separate', 'from', 'the', 'rest', 'of', 'the', 'body', 'this', 'is', 'all', 'know', 'if', 'anyone', 'can', 'tellme', 'model', 'name', 'engine', 'specs', 'years', 'of', 'production', 'where', 'this', 'car', 'is', 'made', 'history', 'or', 'whatever', 'info', 'you', 'have', 'on', 'this', 'funky', 'looking', 'car', 'please', 'mail', 'thanks', 'il', 'brought', 'to', 'you', 'by', 'your', 'neighborhood', 'lerxst']\n"
     ]
    }
   ],
   "source": [
    "# Build the bigram and trigram models\n",
    "bigram = gensim.models.Phrases(data_words, min_count=5, threshold=100) # higher threshold fewer phrases.\n",
    "trigram = gensim.models.Phrases(bigram[data_words], threshold=100)  \n",
    "\n",
    "# Faster way to get a sentence clubbed as a trigram/bigram\n",
    "bigram_mod = gensim.models.phrases.Phraser(bigram)\n",
    "trigram_mod = gensim.models.phrases.Phraser(trigram)\n",
    "\n",
    "# See trigram example\n",
    "print(trigram_mod[bigram_mod[data_words[0]]])"
   ]
  },
  {
   "cell_type": "markdown",
   "metadata": {},
   "source": [
    "### Build functions for the pre-processing pipeline\n",
    "\n",
    "Remove stopwords, make bigram and trigrams, and lemmatisation."
   ]
  },
  {
   "cell_type": "code",
   "execution_count": 9,
   "metadata": {},
   "outputs": [],
   "source": [
    "# Define functions for stopwords, bigrams, trigrams and lemmatization\n",
    "def remove_stopwords(texts):\n",
    "    return [[word for word in simple_preprocess(str(doc)) if word not in stop_words] for doc in texts]\n",
    "\n",
    "def make_bigrams(texts):\n",
    "    return [bigram_mod[doc] for doc in texts]\n",
    "\n",
    "def make_trigrams(texts):\n",
    "    return [trigram_mod[bigram_mod[doc]] for doc in texts]\n",
    "\n",
    "def lemmatization(texts, allowed_postags=['NOUN', 'ADJ', 'VERB', 'ADV']):\n",
    "    \"\"\"https://spacy.io/api/annotation\"\"\"\n",
    "    texts_out = []\n",
    "    for sent in texts:\n",
    "        doc = nlp(\" \".join(sent)) \n",
    "        texts_out.append([token.lemma_ for token in doc if token.pos_ in allowed_postags])\n",
    "    return texts_out"
   ]
  },
  {
   "cell_type": "markdown",
   "metadata": {},
   "source": [
    "Call the functions in order"
   ]
  },
  {
   "cell_type": "code",
   "execution_count": 10,
   "metadata": {},
   "outputs": [
    {
     "name": "stdout",
     "output_type": "stream",
     "text": [
      "[['where', 'thing', 'car', 'nntp_poste', 'host', 'park', 'line', 'wonder', 'could', 'enlighten', 'car', 'see', 'day', 'door', 'sport', 'car', 'look', 'late', 'early', 'call', 'bricklin', 'door', 'really', 'small', 'addition', 'separate', 'rest', 'body', 'know', 'tellme', 'model', 'name', 'engine', 'year', 'production', 'car', 'make', 'history', 'info', 'funky', 'look', 'car', 'mail', 'thank', 'bring', 'neighborhood', 'lerxst']]\n"
     ]
    }
   ],
   "source": [
    "# Remove Stop Words\n",
    "data_words_nostops = remove_stopwords(data_words)\n",
    "\n",
    "# Form Bigrams\n",
    "data_words_bigrams = make_bigrams(data_words_nostops)\n",
    "\n",
    "# Initialize spacy 'en' model, keeping only tagger component (for efficiency)\n",
    "# python3 -m spacy download en\n",
    "nlp = spacy.load('en_core_web_sm', disable=['parser', 'ner'])\n",
    "\n",
    "# Do lemmatization keeping only noun, adj, vb, adv\n",
    "data_lemmatized = lemmatization(data_words_bigrams, allowed_postags=['NOUN', 'ADJ', 'VERB', 'ADV'])\n",
    "\n",
    "print(data_lemmatized[:1])"
   ]
  },
  {
   "cell_type": "code",
   "execution_count": 11,
   "metadata": {},
   "outputs": [
    {
     "name": "stdout",
     "output_type": "stream",
     "text": [
      "[[(0, 1), (1, 1), (2, 1), (3, 1), (4, 1), (5, 5), (6, 1), (7, 1), (8, 2), (9, 1), (10, 1), (11, 1), (12, 1), (13, 1), (14, 1), (15, 1), (16, 1), (17, 1), (18, 1), (19, 1), (20, 2), (21, 1), (22, 1), (23, 1), (24, 1), (25, 1), (26, 1), (27, 1), (28, 1), (29, 1), (30, 1), (31, 1), (32, 1), (33, 1), (34, 1), (35, 1), (36, 1), (37, 1), (38, 1), (39, 1), (40, 1)]]\n"
     ]
    }
   ],
   "source": [
    "# Create Dictionary\n",
    "id2word = corpora.Dictionary(data_lemmatized)\n",
    "\n",
    "# Create Corpus\n",
    "texts = data_lemmatized\n",
    "\n",
    "# Term Document Frequency\n",
    "corpus = [id2word.doc2bow(text) for text in texts]\n",
    "\n",
    "# View\n",
    "print(corpus[:1])"
   ]
  },
  {
   "cell_type": "code",
   "execution_count": 12,
   "metadata": {},
   "outputs": [
    {
     "name": "stdout",
     "output_type": "stream",
     "text": [
      "[(0, 1), (1, 1), (2, 1), (3, 1), (4, 1), (5, 5), (6, 1), (7, 1), (8, 2), (9, 1), (10, 1), (11, 1), (12, 1), (13, 1), (14, 1), (15, 1), (16, 1), (17, 1), (18, 1), (19, 1), (20, 2), (21, 1), (22, 1), (23, 1), (24, 1), (25, 1), (26, 1), (27, 1), (28, 1), (29, 1), (30, 1), (31, 1), (32, 1), (33, 1), (34, 1), (35, 1), (36, 1), (37, 1), (38, 1), (39, 1), (40, 1)]\n"
     ]
    }
   ],
   "source": [
    "print(corpus[0])"
   ]
  },
  {
   "cell_type": "code",
   "execution_count": 13,
   "metadata": {},
   "outputs": [
    {
     "name": "stdout",
     "output_type": "stream",
     "text": [
      "addition\n"
     ]
    }
   ],
   "source": [
    "print(id2word[0])"
   ]
  },
  {
   "cell_type": "code",
   "execution_count": 14,
   "metadata": {},
   "outputs": [
    {
     "name": "stdout",
     "output_type": "stream",
     "text": [
      "(0, 1)\n"
     ]
    }
   ],
   "source": [
    "print(corpus[0][0])"
   ]
  },
  {
   "cell_type": "code",
   "execution_count": 15,
   "metadata": {},
   "outputs": [
    {
     "name": "stdout",
     "output_type": "stream",
     "text": [
      "[(5, 5), (8, 2), (20, 2), (0, 1), (1, 1), (2, 1), (3, 1), (4, 1), (6, 1), (7, 1), (9, 1), (10, 1), (11, 1), (12, 1), (13, 1), (14, 1), (15, 1), (16, 1), (17, 1), (18, 1), (19, 1), (21, 1), (22, 1), (23, 1), (24, 1), (25, 1), (26, 1), (27, 1), (28, 1), (29, 1), (30, 1), (31, 1), (32, 1), (33, 1), (34, 1), (35, 1), (36, 1), (37, 1), (38, 1), (39, 1), (40, 1)]\n"
     ]
    }
   ],
   "source": [
    "sorted_by_value = sorted(corpus[0], key=lambda kv: kv[1], reverse=True)\n",
    "print(sorted_by_value)"
   ]
  },
  {
   "cell_type": "code",
   "execution_count": 16,
   "metadata": {},
   "outputs": [
    {
     "data": {
      "text/plain": [
       "[('car', 5),\n",
       " ('door', 2),\n",
       " ('look', 2),\n",
       " ('addition', 1),\n",
       " ('body', 1),\n",
       " ('bricklin', 1),\n",
       " ('bring', 1),\n",
       " ('call', 1),\n",
       " ('could', 1),\n",
       " ('day', 1),\n",
       " ('early', 1),\n",
       " ('engine', 1),\n",
       " ('enlighten', 1),\n",
       " ('funky', 1),\n",
       " ('history', 1),\n",
       " ('host', 1),\n",
       " ('info', 1),\n",
       " ('know', 1),\n",
       " ('late', 1),\n",
       " ('lerxst', 1),\n",
       " ('line', 1),\n",
       " ('mail', 1),\n",
       " ('make', 1),\n",
       " ('model', 1),\n",
       " ('name', 1),\n",
       " ('neighborhood', 1),\n",
       " ('nntp_poste', 1),\n",
       " ('park', 1),\n",
       " ('production', 1),\n",
       " ('really', 1),\n",
       " ('rest', 1),\n",
       " ('see', 1),\n",
       " ('separate', 1),\n",
       " ('small', 1),\n",
       " ('sport', 1),\n",
       " ('tellme', 1),\n",
       " ('thank', 1),\n",
       " ('thing', 1),\n",
       " ('where', 1),\n",
       " ('wonder', 1),\n",
       " ('year', 1)]"
      ]
     },
     "execution_count": 16,
     "metadata": {},
     "output_type": "execute_result"
    }
   ],
   "source": [
    "# Human readable format of corpus (term-frequency)\n",
    "[(id2word[id], freq) for id, freq in sorted_by_value] "
   ]
  },
  {
   "cell_type": "code",
   "execution_count": 17,
   "metadata": {},
   "outputs": [],
   "source": [
    "# Build LDA model\n",
    "lda_model = gensim.models.ldamodel.LdaModel(corpus=corpus,\n",
    "                                           id2word=id2word,\n",
    "                                           num_topics=20, \n",
    "                                           random_state=100,\n",
    "                                           update_every=1,\n",
    "                                           chunksize=100,\n",
    "                                           passes=10,\n",
    "                                           alpha='auto',\n",
    "                                           per_word_topics=True)"
   ]
  },
  {
   "cell_type": "code",
   "execution_count": 18,
   "metadata": {},
   "outputs": [
    {
     "name": "stdout",
     "output_type": "stream",
     "text": [
      "[(0,\n",
      "  '0.097*\"black\" + 0.073*\"wing\" + 0.072*\"white\" + 0.048*\"vote\" + '\n",
      "  '0.041*\"flight\" + 0.028*\"devil\" + 0.027*\"capacity\" + 0.024*\"trace\" + '\n",
      "  '0.023*\"assist\" + 0.022*\"penalty\"'),\n",
      " (1,\n",
      "  '0.064*\"man\" + 0.040*\"god\" + 0.039*\"accept\" + 0.034*\"explain\" + '\n",
      "  '0.030*\"member\" + 0.029*\"age\" + 0.027*\"israeli\" + 0.027*\"season\" + '\n",
      "  '0.024*\"publish\" + 0.021*\"serious\"'),\n",
      " (2,\n",
      "  '0.130*\"board\" + 0.054*\"expansion\" + 0.032*\"looking\" + 0.016*\"stuff_delete\" '\n",
      "  '+ 0.011*\"rod\" + 0.000*\"reluctant\" + 0.000*\"wire\" + 0.000*\"connect\" + '\n",
      "  '0.000*\"worked\" + 0.000*\"blanking\"'),\n",
      " (3,\n",
      "  '0.060*\"reality\" + 0.053*\"picture\" + 0.050*\"object\" + 0.042*\"greek\" + '\n",
      "  '0.038*\"contain\" + 0.036*\"generate\" + 0.034*\"interface\" + 0.030*\"font\" + '\n",
      "  '0.029*\"concept\" + 0.026*\"workstation\"'),\n",
      " (4,\n",
      "  '0.215*\"ax\" + 0.182*\"max\" + 0.040*\"orbit\" + 0.035*\"satellite\" + '\n",
      "  '0.034*\"mission\" + 0.026*\"launch\" + 0.022*\"moon\" + 0.020*\"shuttle\" + '\n",
      "  '0.018*\"spacecraft\" + 0.017*\"lunar\"'),\n",
      " (5,\n",
      "  '0.032*\"kill\" + 0.024*\"child\" + 0.023*\"government\" + 0.022*\"people\" + '\n",
      "  '0.019*\"death\" + 0.018*\"attack\" + 0.017*\"country\" + 0.016*\"fire\" + '\n",
      "  '0.016*\"war\" + 0.015*\"woman\"'),\n",
      " (6,\n",
      "  '0.037*\"window\" + 0.034*\"card\" + 0.031*\"run\" + 0.028*\"problem\" + '\n",
      "  '0.027*\"computer\" + 0.026*\"bit\" + 0.025*\"thank\" + 0.024*\"driver\" + '\n",
      "  '0.024*\"price\" + 0.024*\"use\"'),\n",
      " (7,\n",
      "  '0.030*\"people\" + 0.023*\"say\" + 0.018*\"believe\" + 0.018*\"reason\" + '\n",
      "  '0.016*\"evidence\" + 0.014*\"may\" + 0.012*\"fact\" + 0.012*\"state\" + '\n",
      "  '0.011*\"mean\" + 0.011*\"claim\"'),\n",
      " (8,\n",
      "  '0.095*\"book\" + 0.068*\"physical\" + 0.062*\"science\" + 0.047*\"study\" + '\n",
      "  '0.032*\"author\" + 0.029*\"revelation\" + 0.027*\"avoid\" + 0.026*\"direct\" + '\n",
      "  '0.021*\"animal\" + 0.020*\"objective\"'),\n",
      " (9,\n",
      "  '0.062*\"program\" + 0.062*\"file\" + 0.059*\"mail\" + 0.045*\"send\" + '\n",
      "  '0.043*\"information\" + 0.035*\"list\" + 0.033*\"address\" + 0.031*\"email\" + '\n",
      "  '0.029*\"image\" + 0.028*\"copy\"'),\n",
      " (10,\n",
      "  '0.087*\"phone\" + 0.076*\"package\" + 0.052*\"nntp_posting\" + 0.051*\"route\" + '\n",
      "  '0.036*\"fax\" + 0.034*\"link\" + 0.032*\"btw\" + 0.032*\"primarily\" + '\n",
      "  '0.023*\"trick\" + 0.023*\"direction\"'),\n",
      " (11,\n",
      "  '0.182*\"drive\" + 0.119*\"car\" + 0.032*\"engine\" + 0.029*\"ride\" + 0.022*\"cop\" + '\n",
      "  '0.020*\"dealer\" + 0.019*\"mile\" + 0.018*\"buy\" + 0.017*\"road\" + '\n",
      "  '0.017*\"battery\"'),\n",
      " (12,\n",
      "  '0.085*\"player\" + 0.043*\"university\" + 0.033*\"switch\" + 0.032*\"cool\" + '\n",
      "  '0.029*\"printer\" + 0.028*\"baseball\" + 0.027*\"hot\" + 0.027*\"star\" + '\n",
      "  '0.020*\"blow\" + 0.020*\"helmet\"'),\n",
      " (13,\n",
      "  '0.098*\"software\" + 0.074*\"test\" + 0.051*\"pc\" + 0.044*\"product\" + '\n",
      "  '0.039*\"bus\" + 0.037*\"scsi\" + 0.031*\"internal\" + 0.030*\"device\" + '\n",
      "  '0.028*\"motif\" + 0.028*\"transfer\"'),\n",
      " (14,\n",
      "  '0.083*\"patient\" + 0.051*\"family\" + 0.045*\"box\" + 0.039*\"treatment\" + '\n",
      "  '0.038*\"disease\" + 0.036*\"doctor\" + 0.035*\"cd\" + 0.026*\"status\" + '\n",
      "  '0.025*\"medical\" + 0.024*\"wave\"'),\n",
      " (15,\n",
      "  '0.065*\"input\" + 0.053*\"eat\" + 0.049*\"material\" + 0.045*\"controller\" + '\n",
      "  '0.042*\"signal\" + 0.041*\"trust\" + 0.038*\"ground\" + 0.037*\"expensive\" + '\n",
      "  '0.031*\"output\" + 0.029*\"circuit\"'),\n",
      " (16,\n",
      "  '0.103*\"key\" + 0.057*\"gun\" + 0.055*\"chip\" + 0.047*\"public\" + '\n",
      "  '0.041*\"government\" + 0.029*\"encryption\" + 0.027*\"security\" + '\n",
      "  '0.025*\"private\" + 0.019*\"weapon\" + 0.018*\"secure\"'),\n",
      " (17,\n",
      "  '0.020*\"use\" + 0.018*\"also\" + 0.016*\"system\" + 0.014*\"may\" + 0.014*\"number\" '\n",
      "  '+ 0.013*\"new\" + 0.009*\"high\" + 0.008*\"work\" + 0.008*\"will\" + 0.008*\"need\"'),\n",
      " (18,\n",
      "  '0.078*\"team\" + 0.071*\"game\" + 0.055*\"year\" + 0.054*\"play\" + 0.050*\"win\" + '\n",
      "  '0.024*\"hit\" + 0.023*\"fan\" + 0.023*\"goal\" + 0.022*\"run\" + 0.022*\"score\"'),\n",
      " (19,\n",
      "  '0.039*\"would\" + 0.038*\"line\" + 0.033*\"write\" + 0.021*\"article\" + '\n",
      "  '0.020*\"know\" + 0.019*\"be\" + 0.018*\"go\" + 0.017*\"get\" + 0.015*\"think\" + '\n",
      "  '0.015*\"good\"')]\n"
     ]
    }
   ],
   "source": [
    "# Print the Keyword in the 10 topics\n",
    "pprint(lda_model.print_topics())\n",
    "doc_lda = lda_model[corpus]"
   ]
  },
  {
   "cell_type": "code",
   "execution_count": 19,
   "metadata": {},
   "outputs": [
    {
     "name": "stdout",
     "output_type": "stream",
     "text": [
      "\n",
      "Perplexity:  -12.920925268302248\n",
      "\n",
      "Coherence Score:  0.4349993277965744\n"
     ]
    }
   ],
   "source": [
    "# Compute Perplexity\n",
    "print('\\nPerplexity: ', lda_model.log_perplexity(corpus))  # a measure of how good the model is. lower the better.\n",
    "\n",
    "# Compute Coherence Score\n",
    "coherence_model_lda = CoherenceModel(model=lda_model, texts=data_lemmatized, dictionary=id2word, coherence='c_v')\n",
    "coherence_lda = coherence_model_lda.get_coherence()\n",
    "print('\\nCoherence Score: ', coherence_lda)"
   ]
  },
  {
   "cell_type": "code",
   "execution_count": 20,
   "metadata": {
    "scrolled": true
   },
   "outputs": [
    {
     "data": {
      "text/html": [
       "\n",
       "<link rel=\"stylesheet\" type=\"text/css\" href=\"https://cdn.rawgit.com/bmabey/pyLDAvis/files/ldavis.v1.0.0.css\">\n",
       "\n",
       "\n",
       "<div id=\"ldavis_el596818136836607441362927052\"></div>\n",
       "<script type=\"text/javascript\">\n",
       "\n",
       "var ldavis_el596818136836607441362927052_data = {\"mdsDat\": {\"x\": [0.35805669650833993, 0.3097966497444003, 0.3349898564833024, 0.13689538177003488, 0.14587080320414078, 0.07708558667654192, 0.05211192126942127, -0.02404170228414668, 0.014541713493123661, -0.08317496013473526, -0.0590485482300792, -0.09347062908019502, -0.14057769819842256, -0.1110271454804398, -0.1378367953808763, -0.12811749932190622, -0.14351974801346262, -0.14900434916480632, -0.1629465297522667, -0.19658300410796886], \"y\": [-0.05319210451414558, 0.08134524631103499, -0.17399055386721984, 0.31978737352325226, -0.20144139469117664, 0.2057943186138733, 0.004579226423822849, 0.018474323213441165, -0.10759869029945264, -0.019964969268058543, 0.11055202435016828, 0.013596772301129946, -0.023619654996069807, -0.009130441643435435, -0.027436523937609005, -0.03003298624890557, -0.02550417668865867, -0.022647829507776385, -0.02755975431138978, -0.03201020476282268], \"topics\": [1, 2, 3, 4, 5, 6, 7, 8, 9, 10, 11, 12, 13, 14, 15, 16, 17, 18, 19, 20], \"cluster\": [1, 1, 1, 1, 1, 1, 1, 1, 1, 1, 1, 1, 1, 1, 1, 1, 1, 1, 1, 1], \"Freq\": [35.99142074584961, 20.078922271728516, 15.996447563171387, 4.392612934112549, 4.198687553405762, 3.5282723903656006, 2.2350800037384033, 2.171359062194824, 2.1145424842834473, 1.3226518630981445, 1.243632435798645, 1.1970062255859375, 1.1209678649902344, 1.108069658279419, 0.7756779789924622, 0.7322709560394287, 0.6843098998069763, 0.6040323972702026, 0.4133199453353882, 0.09071702510118484]}, \"tinfo\": {\"Term\": [\"would\", \"line\", \"write\", \"ax\", \"year\", \"drive\", \"people\", \"max\", \"use\", \"key\", \"article\", \"program\", \"problem\", \"file\", \"system\", \"mail\", \"be\", \"team\", \"go\", \"good\", \"car\", \"say\", \"run\", \"game\", \"thank\", \"information\", \"man\", \"send\", \"know\", \"get\", \"write\", \"article\", \"be\", \"go\", \"want\", \"organization\", \"s\", \"really\", \"have\", \"sure\", \"back\", \"bad\", \"hear\", \"little\", \"put\", \"lot\", \"maybe\", \"turn\", \"pay\", \"remember\", \"money\", \"week\", \"like\", \"hard\", \"ill\", \"pretty\", \"couple\", \"internet\", \"friend\", \"guess\", \"get\", \"would\", \"enough\", \"could\", \"line\", \"good\", \"host\", \"know\", \"much\", \"still\", \"reply\", \"look\", \"try\", \"take\", \"think\", \"see\", \"time\", \"well\", \"come\", \"make\", \"thing\", \"tell\", \"say\", \"way\", \"number\", \"will\", \"space\", \"large\", \"build\", \"technology\", \"receive\", \"single\", \"add\", \"control\", \"design\", \"increase\", \"service\", \"research\", \"function\", \"section\", \"process\", \"field\", \"remove\", \"center\", \"release\", \"block\", \"detail\", \"method\", \"amount\", \"various\", \"develop\", \"hour\", \"main\", \"unit\", \"high\", \"cost\", \"rate\", \"nntp_poste\", \"datum\", \"low\", \"new\", \"level\", \"standard\", \"small\", \"require\", \"type\", \"power\", \"system\", \"use\", \"return\", \"provide\", \"also\", \"order\", \"note\", \"set\", \"base\", \"support\", \"may\", \"include\", \"work\", \"need\", \"part\", \"change\", \"call\", \"case\", \"first\", \"believe\", \"evidence\", \"fact\", \"claim\", \"sense\", \"exist\", \"true\", \"person\", \"faith\", \"word\", \"rule\", \"religion\", \"argument\", \"prove\", \"speak\", \"truth\", \"clear\", \"discussion\", \"belief\", \"human\", \"church\", \"young\", \"conclusion\", \"statement\", \"christian\", \"religious\", \"indeed\", \"jewish\", \"deny\", \"logic\", \"reason\", \"matter\", \"law\", \"life\", \"state\", \"people\", \"view\", \"mean\", \"agree\", \"say\", \"world\", \"issue\", \"many\", \"must\", \"may\", \"question\", \"point\", \"become\", \"right\", \"case\", \"make\", \"even\", \"however\", \"think\", \"window\", \"card\", \"sale\", \"color\", \"distribution_usa\", \"screen\", \"memory\", \"bike\", \"disk\", \"tape\", \"display\", \"graphic\", \"mode\", \"monitor\", \"video\", \"purchase\", \"external\", \"mouse\", \"manager\", \"apple\", \"convert\", \"processor\", \"rider\", \"blind\", \"resolution\", \"serial\", \"default\", \"icon\", \"utility\", \"brother\", \"machine\", \"price\", \"driver\", \"computer\", \"version\", \"offer\", \"sell\", \"model\", \"bit\", \"run\", \"problem\", \"thank\", \"fast\", \"use\", \"buy\", \"system\", \"kill\", \"fire\", \"war\", \"soldier\", \"city\", \"murder\", \"village\", \"military\", \"land\", \"turkish\", \"withdraw\", \"occupy\", \"arm\", \"population\", \"national\", \"gift\", \"town\", \"armenian\", \"door\", \"civilian\", \"male\", \"burn\", \"minority\", \"percent\", \"somehow\", \"girl\", \"inhabitant\", \"violation\", \"role\", \"islamic\", \"woman\", \"police\", \"house\", \"attack\", \"country\", \"child\", \"death\", \"government\", \"force\", \"die\", \"people\", \"fight\", \"live\", \"shoot\", \"year\", \"file\", \"mail\", \"email\", \"image\", \"copy\", \"entry\", \"server\", \"distribution\", \"faq\", \"format\", \"library\", \"network\", \"update\", \"map\", \"morality\", \"guilty\", \"info\", \"conference\", \"electrical\", \"import\", \"correction\", \"television\", \"partially\", \"observer\", \"mapping\", \"ray\", \"kinda\", \"automate\", \"submission\", \"tiff\", \"address\", \"program\", \"request\", \"list\", \"send\", \"page\", \"user\", \"information\", \"available\", \"code\", \"message\", \"source\", \"include\", \"name\", \"post\", \"application\", \"thank\", \"read\", \"team\", \"game\", \"play\", \"win\", \"hit\", \"fan\", \"goal\", \"score\", \"division\", \"cpu\", \"trade\", \"average\", \"boy\", \"upgrade\", \"dog\", \"stat\", \"draft\", \"yesterday\", \"blue\", \"tie\", \"club\", \"travel\", \"offense\", \"soul\", \"coverage\", \"pitch\", \"floppy\", \"brave\", \"staff\", \"era\", \"stupid\", \"year\", \"defense\", \"lose\", \"run\", \"final\", \"last\", \"pick\", \"next\", \"first\", \"point\", \"god\", \"accept\", \"member\", \"israeli\", \"season\", \"publish\", \"serious\", \"shall\", \"society\", \"respect\", \"moral\", \"practice\", \"pen\", \"table\", \"son\", \"assumption\", \"homosexual\", \"imply\", \"letter\", \"improve\", \"arab\", \"mirror\", \"anti\", \"creation\", \"acquire\", \"economic\", \"unlikely\", \"western\", \"sight\", \"father\", \"age\", \"exactly\", \"man\", \"explain\", \"community\", \"purpose\", \"whole\", \"key\", \"gun\", \"chip\", \"encryption\", \"security\", \"private\", \"weapon\", \"secure\", \"license\", \"tap\", \"firearm\", \"ide\", \"review\", \"blank\", \"headache\", \"rsa\", \"specify\", \"export\", \"algorithm\", \"capture\", \"distance\", \"restriction\", \"usage\", \"regulation\", \"packet\", \"investigation\", \"cryptography\", \"crack\", \"horse\", \"sheet\", \"public\", \"criminal\", \"protect\", \"government\", \"crime\", \"legal\", \"device\", \"carry\", \"right\", \"use\", \"book\", \"physical\", \"science\", \"study\", \"author\", \"revelation\", \"avoid\", \"direct\", \"animal\", \"objective\", \"interpretation\", \"benefit\", \"language\", \"statistic\", \"task\", \"prize\", \"daughter\", \"element\", \"interpret\", \"absolute\", \"relationship\", \"reward\", \"category\", \"birth\", \"phase\", \"advanced\", \"vision\", \"analogy\", \"introduction\", \"novel\", \"observation\", \"ready\", \"contain\", \"topic\", \"explain\", \"drive\", \"car\", \"engine\", \"ride\", \"cop\", \"mile\", \"battery\", \"decent\", \"accident\", \"factory\", \"cross\", \"up\", \"gear\", \"auto\", \"mid\", \"revolver\", \"amp\", \"luxury\", \"volt\", \"rear\", \"highway\", \"mileage\", \"turbo\", \"suspension\", \"sustain\", \"buying\", \"salesman\", \"driving\", \"handling\", \"closet\", \"dealer\", \"trip\", \"vehicle\", \"owner\", \"road\", \"safety\", \"front\", \"pull\", \"speed\", \"insurance\", \"buy\", \"light\", \"fast\", \"model\", \"driver\", \"price\", \"software\", \"test\", \"pc\", \"product\", \"bus\", \"scsi\", \"internal\", \"motif\", \"transfer\", \"cable\", \"aware\", \"procedure\", \"engineering\", \"laboratory\", \"motherboard\", \"unix\", \"clock\", \"connector\", \"pub\", \"fee\", \"extension\", \"vendor\", \"cluster\", \"restore\", \"fancy\", \"meter\", \"spec\", \"peripheral\", \"fatal\", \"designer\", \"bill\", \"fairly\", \"performance\", \"device\", \"factor\", \"speed\", \"ax\", \"max\", \"orbit\", \"satellite\", \"moon\", \"shuttle\", \"spacecraft\", \"lunar\", \"solar\", \"film\", \"movie\", \"scare\", \"plot\", \"secular\", \"planetary\", \"orbiter\", \"orbital\", \"winter\", \"thrust\", \"particle\", \"interior\", \"mission\", \"maneuver\", \"launch\", \"di_di\", \"bhjn\", \"gk\", \"pmfq\", \"pl_pl\", \"eqtm\", \"part\", \"player\", \"university\", \"switch\", \"cool\", \"printer\", \"baseball\", \"hot\", \"star\", \"blow\", \"helmet\", \"ice\", \"water\", \"oil\", \"cold\", \"cap\", \"canadian\", \"saturn\", \"remind\", \"quick\", \"nuclear\", \"deliver\", \"cylinder\", \"heat\", \"red\", \"improvement\", \"crazy\", \"motor\", \"soft\", \"bag\", \"smart\", \"wear\", \"sport\", \"reality\", \"picture\", \"object\", \"greek\", \"generate\", \"interface\", \"font\", \"concept\", \"workstation\", \"management\", \"anywhere\", \"universe\", \"routine\", \"button\", \"depth\", \"widget\", \"bounce\", \"programmer\", \"exposure\", \"variation\", \"mb\", \"infinite\", \"characteristic\", \"arbitrary\", \"compress\", \"competition\", \"generic\", \"deletion\", \"comprise\", \"roman\", \"contain\", \"scale\", \"text\", \"patient\", \"family\", \"box\", \"treatment\", \"disease\", \"doctor\", \"cd\", \"status\", \"medical\", \"wave\", \"ticket\", \"health\", \"violence\", \"immediate\", \"spring\", \"modem\", \"confirm\", \"automatically\", \"physician\", \"terminal\", \"diet\", \"severe\", \"campaign\", \"investment\", \"medicine\", \"discount\", \"diagnostic\", \"bury\", \"shock\", \"mad\", \"insurance\", \"treat\", \"risk\", \"input\", \"eat\", \"material\", \"controller\", \"signal\", \"trust\", \"expensive\", \"output\", \"circuit\", \"noise\", \"configuration\", \"dept\", \"own\", \"greatly_appreciate\", \"constitution\", \"japanese\", \"voltage\", \"tire\", \"impressive\", \"belt\", \"preferably\", \"unique\", \"timing\", \"accuracy\", \"domain\", \"maintenance\", \"dynamic\", \"recieve\", \"shaft\", \"acquisition\", \"ground\", \"phone\", \"package\", \"nntp_posting\", \"route\", \"fax\", \"link\", \"btw\", \"primarily\", \"trick\", \"direction\", \"highly\", \"buyer\", \"reflect\", \"sky\", \"proud\", \"dare\", \"suck\", \"catalog\", \"indication\", \"leadership\", \"survey\", \"forum\", \"sue\", \"repost\", \"creature\", \"formation\", \"enhancement\", \"desert\", \"primitive\", \"mailing\", \"black\", \"wing\", \"white\", \"vote\", \"flight\", \"devil\", \"capacity\", \"trace\", \"assist\", \"penalty\", \"mass\", \"strip\", \"crew\", \"dirty\", \"tour\", \"presentation\", \"leather\", \"module\", \"utilize\", \"horror\", \"stamp\", \"analyze\", \"abstract\", \"ssf\", \"dish\", \"qualified\", \"cone\", \"subtly\", \"schedule\", \"mission\", \"board\", \"expansion\", \"looking\", \"stuff_delete\", \"rod\", \"reluctant\", \"wire\", \"jolt\", \"worked\", \"jiggle\", \"medford\", \"blanking\", \"connect\", \"fpu\", \"shephard\", \"ethernet\", \"plutonium\", \"univesa\", \"bubble\", \"reprocess\", \"franchise\", \"ntsc\", \"fabricate\", \"vram\", \"flop\", \"flip\", \"din\", \"allotment\", \"nhls\", \"foreseeable\", \"admiral\", \"compatible\", \"template\", \"jet\", \"expand\", \"grade\", \"slot\", \"item\", \"frame\", \"hockey\", \"dollar\", \"pin\"], \"Freq\": [16156.0, 15862.0, 13427.0, 2717.0, 4625.0, 2551.0, 7509.0, 2300.0, 5989.0, 2467.0, 8624.0, 2698.0, 3864.0, 2466.0, 4626.0, 2355.0, 7564.0, 1975.0, 7480.0, 6108.0, 1670.0, 8574.0, 2866.0, 1804.0, 3194.0, 2139.0, 1889.0, 2108.0, 8484.0, 7177.0, 13426.173828125, 8622.95703125, 7563.70654296875, 7479.74658203125, 4505.07275390625, 3863.98828125, 3812.221435546875, 2982.304931640625, 2811.5068359375, 2595.897216796875, 2447.1884765625, 2125.468994140625, 2014.5596923828125, 1978.035400390625, 1914.169921875, 1881.226806640625, 1424.6864013671875, 1271.455810546875, 1268.5517578125, 1261.954833984375, 1209.32568359375, 1201.940673828125, 1179.60205078125, 1092.3314208984375, 921.9430541992188, 881.9033813476562, 850.129638671875, 840.9961547851562, 837.7520751953125, 820.003173828125, 7106.46435546875, 15778.7646484375, 1642.7777099609375, 4970.103515625, 15245.15625, 5956.68994140625, 4779.7578125, 8053.99365234375, 3499.190673828125, 2550.515869140625, 2325.867431640625, 3578.41064453125, 3723.9619140625, 4102.94287109375, 6228.71044921875, 4995.26416015625, 5196.728515625, 3593.01806640625, 3759.317138671875, 5528.57080078125, 3527.5107421875, 2812.041748046875, 4204.07568359375, 2929.71875, 3066.72119140625, 1853.925048828125, 1512.03125, 1494.626220703125, 1445.113037109375, 1324.9296875, 1273.4384765625, 1044.660888671875, 1013.2249145507812, 968.777099609375, 931.3064575195312, 895.8130493164062, 861.791748046875, 804.1857299804688, 718.4696655273438, 691.7647094726562, 689.3431396484375, 642.3884887695312, 637.9889526367188, 619.5878295898438, 613.1804809570312, 603.6297607421875, 603.4398803710938, 592.6245727539062, 584.55810546875, 560.7987670898438, 556.3056030273438, 554.8406982421875, 535.333740234375, 535.0977172851562, 2055.478759765625, 1273.9075927734375, 984.2626953125, 1444.7708740234375, 1004.1038208007812, 1089.8306884765625, 3021.972900390625, 928.331787109375, 912.064208984375, 1210.5587158203125, 1316.3909912109375, 1248.6561279296875, 1541.2059326171875, 3712.45849609375, 4631.61865234375, 1028.6649169921875, 1641.5623779296875, 3990.19189453125, 1657.6767578125, 1143.0360107421875, 1609.6595458984375, 1343.6075439453125, 1482.472412109375, 3073.488525390625, 1599.0853271484375, 1916.3642578125, 1841.9351806640625, 1368.99951171875, 1265.0650634765625, 1482.8724365234375, 1348.6619873046875, 1392.0909423828125, 3222.8173828125, 2802.987060546875, 2128.930419921875, 2015.5777587890625, 1725.937744140625, 1677.297607421875, 1584.7796630859375, 1559.168701171875, 1403.6700439453125, 1232.52734375, 1048.8358154296875, 1047.9512939453125, 998.569091796875, 949.828125, 934.0134887695312, 859.6834716796875, 843.6883544921875, 835.5761108398438, 827.9630126953125, 709.42724609375, 688.44970703125, 671.3958129882812, 654.1828002929688, 633.269775390625, 627.54638671875, 620.8701171875, 560.3968505859375, 552.3408203125, 548.3612670898438, 491.3363037109375, 3200.865966796875, 929.3755493164062, 1600.6104736328125, 1194.8046875, 2109.1875, 5407.5048828125, 999.0059814453125, 2030.46142578125, 1052.9100341796875, 4149.70703125, 1169.19970703125, 1321.5345458984375, 2007.0853271484375, 1452.2962646484375, 2556.55517578125, 1590.0579833984375, 1613.0428466796875, 1084.5279541015625, 1423.674560546875, 1283.836181640625, 1667.9571533203125, 1204.89990234375, 1125.7264404296875, 1240.2811279296875, 1836.016845703125, 1671.1318359375, 965.6976928710938, 904.714599609375, 855.83251953125, 810.46484375, 806.6843872070312, 793.6973266601562, 783.1864624023438, 710.2718505859375, 709.9403076171875, 687.8788452148438, 654.692626953125, 633.833740234375, 589.2774047851562, 401.2103576660156, 392.27923583984375, 363.7696533203125, 351.9170837402344, 342.6949768066406, 316.4818420410156, 288.75811767578125, 275.81298828125, 252.92825317382812, 250.88722229003906, 228.867919921875, 184.34091186523438, 175.1520233154297, 172.05186462402344, 165.8893585205078, 1094.7119140625, 1182.490966796875, 1195.596435546875, 1342.806884765625, 877.7453002929688, 719.7438354492188, 1008.1997680664062, 639.6332397460938, 1266.4951171875, 1545.4051513671875, 1403.3624267578125, 1219.886962890625, 520.2404174804688, 1176.8851318359375, 641.6975708007812, 912.6407470703125, 1497.9598388671875, 760.8567504882812, 740.2198486328125, 696.6478881835938, 669.4635009765625, 606.9168701171875, 604.69921875, 563.15380859375, 545.9273071289062, 418.5966491699219, 379.90087890625, 376.8769836425781, 362.82818603515625, 358.2814636230469, 357.4924011230469, 355.0229797363281, 338.37371826171875, 322.6476745605469, 308.5608215332031, 304.7804260253906, 297.3883056640625, 291.33740234375, 244.3369598388672, 243.0083770751953, 231.1710968017578, 225.2808837890625, 209.76742553710938, 202.04380798339844, 201.0654754638672, 196.8151092529297, 724.4977416992188, 518.5316162109375, 315.87115478515625, 848.1434936523438, 800.348876953125, 1133.03125, 904.8121337890625, 1104.348388671875, 588.2799682617188, 570.670166015625, 1044.3355712890625, 335.99969482421875, 496.54986572265625, 370.4262390136719, 349.1443176269531, 2465.154052734375, 2354.547607421875, 1241.613525390625, 1158.9075927734375, 1099.78955078125, 1035.485595703125, 761.5861206054688, 670.9031372070312, 646.90625, 569.304443359375, 444.7017517089844, 645.502685546875, 375.71807861328125, 217.8394012451172, 211.9995880126953, 178.5298614501953, 1057.3048095703125, 160.89529418945312, 136.24411010742188, 101.92473602294922, 100.57648468017578, 72.96202850341797, 61.33194351196289, 50.88447189331055, 49.6658935546875, 49.63749694824219, 47.45698928833008, 34.1700325012207, 30.330772399902344, 28.516508102416992, 1315.3604736328125, 2480.581298828125, 464.7210693359375, 1377.4267578125, 1792.7830810546875, 592.9933471679688, 773.1144409179688, 1698.98193359375, 1030.775146484375, 520.8992309570312, 1044.7835693359375, 701.0106811523438, 742.067626953125, 585.7019653320312, 628.6946411132812, 384.7919006347656, 482.4088134765625, 395.0539855957031, 1974.5718994140625, 1803.4466552734375, 1370.322021484375, 1272.6453857421875, 597.502197265625, 582.8336181640625, 574.8015747070312, 552.400146484375, 505.95916748046875, 473.09771728515625, 461.50347900390625, 354.36517333984375, 295.2064208984375, 238.6056671142578, 224.06455993652344, 221.6779327392578, 219.12518310546875, 192.27432250976562, 187.12875366210938, 185.00645446777344, 174.90284729003906, 172.24166870117188, 171.6157989501953, 165.9702911376953, 157.25331115722656, 156.38819885253906, 149.16014099121094, 111.81204223632812, 110.7102279663086, 108.88915252685547, 258.06396484375, 1400.1739501953125, 207.70045471191406, 415.7375793457031, 564.4146728515625, 238.5546417236328, 440.7057800292969, 237.9417266845703, 297.5534973144531, 341.1385192871094, 250.04360961914062, 991.6590576171875, 958.5971069335938, 746.9389038085938, 664.0882568359375, 656.2640380859375, 579.9071655273438, 524.8192749023438, 507.9896240234375, 446.2506103515625, 444.3365173339844, 437.5969543457031, 368.71026611328125, 350.2284240722656, 321.4081726074219, 319.689453125, 281.6070861816406, 258.9986572265625, 247.3733367919922, 238.02920532226562, 237.7018280029297, 232.99667358398438, 223.82113647460938, 220.8245849609375, 213.54612731933594, 195.6030731201172, 195.38340759277344, 193.61900329589844, 177.1555633544922, 170.56724548339844, 169.05728149414062, 719.5062255859375, 519.7781982421875, 1575.16748046875, 842.8533325195312, 411.8742370605469, 304.97918701171875, 291.5728454589844, 2465.8291015625, 1361.8397216796875, 1304.282470703125, 699.2562866210938, 641.2439575195312, 593.4326782226562, 465.2581481933594, 430.9250793457031, 419.990234375, 399.7548522949219, 365.228759765625, 294.2028503417969, 293.2703857421875, 269.1199035644531, 234.06573486328125, 228.47506713867188, 223.07144165039062, 190.07916259765625, 179.17999267578125, 172.95896911621094, 151.5706787109375, 148.26515197753906, 133.47779846191406, 132.70297241210938, 131.51336669921875, 130.743408203125, 128.79212951660156, 127.51866912841797, 127.31734466552734, 123.2415771484375, 1115.6832275390625, 281.25396728515625, 415.35711669921875, 985.5731811523438, 344.6114807128906, 210.20315551757812, 200.42723083496094, 208.37437438964844, 210.79937744140625, 163.36849975585938, 1425.5462646484375, 1022.3308715820312, 925.5921630859375, 702.9583740234375, 484.0460205078125, 425.9043273925781, 401.2926940917969, 393.56884765625, 320.196044921875, 299.98504638671875, 256.3367919921875, 251.84974670410156, 242.05734252929688, 231.6634521484375, 196.49362182617188, 175.67156982421875, 167.50289916992188, 162.04440307617188, 156.07611083984375, 148.46725463867188, 143.60183715820312, 138.37525939941406, 136.05686950683594, 117.47451782226562, 110.77259826660156, 93.97216033935547, 90.97762298583984, 90.0436019897461, 86.72312927246094, 77.6810302734375, 210.88291931152344, 133.4534454345703, 282.2565002441406, 119.98448944091797, 117.4247817993164, 2549.837646484375, 1669.0240478515625, 455.7721862792969, 412.1631774902344, 304.33172607421875, 263.913330078125, 233.84921264648438, 180.56454467773438, 169.65127563476562, 158.4951934814453, 150.04747009277344, 130.682373046875, 121.61946105957031, 115.41311645507812, 113.68780517578125, 102.49957275390625, 87.17527770996094, 86.85684204101562, 83.7770767211914, 81.13371276855469, 73.93090057373047, 59.216915130615234, 57.744686126708984, 50.0445442199707, 48.60463333129883, 47.47159194946289, 46.12863540649414, 41.36751174926758, 37.882049560546875, 37.37158966064453, 286.82000732421875, 108.80315399169922, 216.10198974609375, 207.16062927246094, 239.53598022460938, 220.54168701171875, 172.97801208496094, 160.79713439941406, 214.84815979003906, 122.4503402709961, 248.84706115722656, 179.39793395996094, 174.0121612548828, 160.95750427246094, 130.3210906982422, 122.5302963256836, 1326.7213134765625, 1002.0199584960938, 694.7974853515625, 601.1393432617188, 524.6264038085938, 503.709716796875, 423.63214111328125, 385.08233642578125, 372.6494445800781, 285.9795837402344, 282.9984436035156, 274.419189453125, 263.1791076660156, 251.72264099121094, 190.2340545654297, 189.16378784179688, 188.28207397460938, 168.46673583984375, 140.3291778564453, 118.24186706542969, 114.55915832519531, 111.13346862792969, 109.72430419921875, 105.85346984863281, 103.8016357421875, 97.66490936279297, 62.24586486816406, 58.97441101074219, 42.31577682495117, 34.25132369995117, 226.72496032714844, 201.5149383544922, 334.7793884277344, 410.4871520996094, 109.78570556640625, 118.05793762207031, 2716.170654296875, 2299.3466796875, 505.6112060546875, 442.0052490234375, 276.9926452636719, 257.7205505371094, 232.1597900390625, 213.76136779785156, 188.04315185546875, 167.30026245117188, 150.87478637695312, 143.4636993408203, 128.25863647460938, 123.37349700927734, 109.7381820678711, 81.70304870605469, 69.41838073730469, 57.99280548095703, 50.52010726928711, 39.38075637817383, 16.861764907836914, 430.8065490722656, 13.28704833984375, 331.0484313964844, 0.09146325290203094, 0.09145718812942505, 0.09145312756299973, 0.09145204722881317, 0.09144934266805649, 0.09144861996173859, 9.262608528137207, 1060.975341796875, 540.8164672851562, 412.0163879394531, 403.8783264160156, 366.70050048828125, 353.8689880371094, 343.48828125, 335.7900390625, 251.22091674804688, 251.03225708007812, 241.82965087890625, 239.81097412109375, 211.08152770996094, 206.20545959472656, 202.17929077148438, 189.193115234375, 186.5616912841797, 184.4234161376953, 183.57801818847656, 172.25173950195312, 171.62527465820312, 155.50511169433594, 155.2024383544922, 154.57809448242188, 131.78363037109375, 120.17288208007812, 115.70933532714844, 115.60551452636719, 106.65290832519531, 100.9914321899414, 212.44180297851562, 148.8951873779297, 527.6737670898438, 467.9188537597656, 434.4344482421875, 364.5671691894531, 313.3122863769531, 296.95806884765625, 259.9342956542969, 253.53916931152344, 226.27743530273438, 181.15040588378906, 174.6226806640625, 169.22308349609375, 149.7619171142578, 130.39796447753906, 128.837158203125, 125.71088409423828, 98.23818969726562, 96.13433074951172, 89.61901092529297, 82.23514556884766, 81.8736801147461, 72.56990814208984, 69.94893646240234, 69.32060241699219, 62.05043411254883, 59.195655822753906, 55.85036087036133, 52.7572135925293, 52.41123580932617, 49.530704498291016, 336.0744934082031, 86.98004913330078, 58.240352630615234, 685.1057739257812, 421.3913269042969, 367.9986572265625, 324.58203125, 313.7157287597656, 296.6917419433594, 291.36993408203125, 216.226318359375, 203.15164184570312, 195.97384643554688, 185.49266052246094, 178.20419311523438, 157.81642150878906, 141.3933563232422, 131.19813537597656, 130.30184936523438, 118.5425033569336, 109.02168273925781, 106.41251373291016, 105.40386962890625, 95.51700592041016, 87.6799545288086, 86.35523986816406, 82.24147033691406, 79.02335357666016, 66.11912536621094, 62.15013122558594, 61.1532096862793, 59.33247756958008, 52.62084197998047, 138.05821228027344, 68.18933868408203, 65.89056396484375, 502.675537109375, 407.48822021484375, 379.033203125, 347.7784729003906, 321.3472900390625, 315.9717712402344, 287.3678894042969, 241.68585205078125, 223.2766876220703, 156.0692138671875, 154.90927124023438, 148.81100463867188, 145.3788299560547, 123.52015686035156, 114.54566955566406, 106.20292663574219, 105.15990447998047, 103.44876861572266, 87.2474594116211, 81.60589599609375, 79.72911071777344, 77.5858383178711, 76.89358520507812, 66.7049331665039, 65.11485290527344, 56.33632278442383, 53.88140106201172, 47.224246978759766, 46.04142761230469, 43.06351852416992, 294.27862548828125, 590.8594970703125, 516.634033203125, 353.105712890625, 346.8886413574219, 245.44113159179688, 234.5801544189453, 221.0531768798828, 220.77838134765625, 156.70602416992188, 154.8146209716797, 143.99493408203125, 143.53384399414062, 118.06399536132812, 110.3966064453125, 102.94132232666016, 86.8944091796875, 83.03654479980469, 75.20230865478516, 72.85862731933594, 66.08637237548828, 62.331233978271484, 60.27817153930664, 57.38334655761719, 51.097232818603516, 49.49702835083008, 48.40992736816406, 48.24137496948242, 44.554298400878906, 33.07987594604492, 32.939361572265625, 452.0635986328125, 338.53472900390625, 336.4124450683594, 223.2841033935547, 189.24302673339844, 132.47943115234375, 124.32723999023438, 114.16403198242188, 108.22959899902344, 104.18600463867188, 98.5301513671875, 76.45450592041016, 76.32353210449219, 70.03150939941406, 56.29768371582031, 54.26799774169922, 45.63877487182617, 40.187313079833984, 38.11357116699219, 29.854618072509766, 29.513324737548828, 27.30596923828125, 18.869789123535156, 18.487035751342773, 17.8574275970459, 8.471261024475098, 5.930290699005127, 0.5014575123786926, 59.08949279785156, 29.219219207763672, 132.8148956298828, 55.2333984375, 32.9254035949707, 16.7249813079834, 11.266468048095703, 0.16654948890209198, 0.019675064831972122, 0.019671540707349777, 0.019671540707349777, 0.019671540707349777, 0.019671525806188583, 0.019671540707349777, 0.019671618938446045, 0.019669504836201668, 0.019668908789753914, 0.019668659195303917, 0.019668741151690483, 0.019668472930788994, 0.019668471068143845, 0.019668452441692352, 0.019668789580464363, 0.019668448716402054, 0.019668452441692352, 0.019668618217110634, 0.019668519496917725, 0.019668521359562874, 0.01966836303472519, 0.01966829225420952, 0.01966831088066101, 0.01966829225420952, 0.019668467342853546, 0.01966875046491623, 0.019668370485305786, 0.019668562337756157, 0.0196684617549181, 0.019668500870466232, 0.01966852694749832, 0.0196687001734972, 0.019668541848659515, 0.019668662920594215, 0.01966852694749832, 0.019668590277433395], \"Total\": [16156.0, 15862.0, 13427.0, 2717.0, 4625.0, 2551.0, 7509.0, 2300.0, 5989.0, 2467.0, 8624.0, 2698.0, 3864.0, 2466.0, 4626.0, 2355.0, 7564.0, 1975.0, 7480.0, 6108.0, 1670.0, 8574.0, 2866.0, 1804.0, 3194.0, 2139.0, 1889.0, 2108.0, 8484.0, 7177.0, 13427.3427734375, 8624.1259765625, 7564.87646484375, 7480.91650390625, 4506.24267578125, 3865.1572265625, 3813.390380859375, 2983.473876953125, 2812.67578125, 2597.095458984375, 2448.357421875, 2126.637939453125, 2015.728759765625, 1979.2044677734375, 1915.3389892578125, 1882.3958740234375, 1425.85546875, 1272.6248779296875, 1269.7208251953125, 1263.1239013671875, 1210.4947509765625, 1203.1097412109375, 1180.7711181640625, 1093.50048828125, 923.1121215820312, 883.0724487304688, 851.2987060546875, 842.1652221679688, 838.921142578125, 821.1722412109375, 7177.66357421875, 16156.9228515625, 1649.576416015625, 5051.14306640625, 15862.6455078125, 6108.521484375, 4901.27685546875, 8484.06640625, 3640.7705078125, 2628.88916015625, 2399.17138671875, 3878.52294921875, 4090.55810546875, 4573.099609375, 7470.09716796875, 5820.7958984375, 6294.1455078125, 4183.67919921875, 4593.6220703125, 7900.6884765625, 4433.77978515625, 3189.711669921875, 8574.4658203125, 3939.029296875, 3067.887451171875, 1855.09130859375, 1513.197509765625, 1495.79248046875, 1446.279296875, 1326.095947265625, 1274.604736328125, 1045.8271484375, 1014.39111328125, 969.9432983398438, 932.47265625, 896.979248046875, 862.9579467773438, 805.3519287109375, 719.6358642578125, 692.930908203125, 690.5093383789062, 643.5546875, 639.1551513671875, 620.7540283203125, 614.3466796875, 604.7959594726562, 604.6060791015625, 593.7923583984375, 585.7243041992188, 561.9649658203125, 557.4718017578125, 556.0068969726562, 536.4999389648438, 536.263916015625, 2063.585693359375, 1285.02978515625, 999.1473999023438, 1498.593505859375, 1032.1641845703125, 1130.5631103515625, 3383.472412109375, 960.038330078125, 944.5599365234375, 1286.1500244140625, 1415.9697265625, 1337.9295654296875, 1706.2392578125, 4626.19873046875, 5989.6337890625, 1088.3331298828125, 1946.6494140625, 5871.87451171875, 2015.4605712890625, 1257.972900390625, 2007.1158447265625, 1603.7852783203125, 1863.2523193359375, 7298.09521484375, 2393.310302734375, 4547.0498046875, 4274.72900390625, 2273.117431640625, 1819.6904296875, 3071.0849609375, 2684.51220703125, 3679.882568359375, 3223.991943359375, 2804.16162109375, 2130.10498046875, 2016.7523193359375, 1727.1123046875, 1678.47216796875, 1585.9542236328125, 1560.3433837890625, 1404.8446044921875, 1233.701904296875, 1050.0103759765625, 1049.1258544921875, 999.74365234375, 951.002685546875, 935.1880493164062, 860.8580322265625, 844.8629150390625, 836.7506713867188, 829.1375732421875, 710.601806640625, 689.624267578125, 672.5703735351562, 655.3573608398438, 634.4443359375, 628.720947265625, 622.044677734375, 561.5714111328125, 553.515380859375, 549.5358276367188, 492.5108947753906, 3287.913330078125, 951.91552734375, 1727.53515625, 1268.8857421875, 2393.005859375, 7509.9228515625, 1074.2647705078125, 2705.51708984375, 1254.5645751953125, 8574.4658203125, 1481.822509765625, 1836.3739013671875, 3834.20947265625, 2261.658447265625, 7298.09521484375, 3243.63671875, 3556.117431640625, 1369.398193359375, 3466.6103515625, 2684.51220703125, 7900.6884765625, 3939.646728515625, 2104.00048828125, 7470.09716796875, 1837.1885986328125, 1672.3035888671875, 966.8693237304688, 905.88623046875, 857.004150390625, 811.636474609375, 807.8560180664062, 794.8689575195312, 784.3580932617188, 711.4434814453125, 711.1119384765625, 689.0504760742188, 655.8642578125, 635.00537109375, 590.4490356445312, 402.38201904296875, 393.4508972167969, 364.9413146972656, 353.0887451171875, 343.86663818359375, 317.65350341796875, 289.9297790527344, 276.9846496582031, 254.0999298095703, 252.05889892578125, 230.0395965576172, 185.51258850097656, 176.32369995117188, 173.22354125976562, 167.06103515625, 1107.5908203125, 1306.136962890625, 1327.033203125, 1563.5384521484375, 992.2048950195312, 828.8822021484375, 1256.432373046875, 801.7063598632812, 2025.6480712890625, 2866.601806640625, 3864.491455078125, 3194.785888671875, 741.0648803710938, 5989.6337890625, 1562.5823974609375, 4626.19873046875, 1499.126953125, 762.0237426757812, 741.3868408203125, 697.8148803710938, 670.6304931640625, 608.0838623046875, 605.8662109375, 564.32080078125, 547.0942993164062, 419.76361083984375, 381.0678405761719, 378.0439453125, 363.9951477050781, 359.44842529296875, 358.65936279296875, 356.18994140625, 339.5406799316406, 323.81463623046875, 309.727783203125, 305.9473876953125, 298.5552673339844, 292.5043640136719, 245.50396728515625, 244.17538452148438, 232.33810424804688, 226.44789123535156, 210.93443298339844, 203.2108154296875, 202.23248291015625, 197.98211669921875, 733.13330078125, 526.9400024414062, 325.29925537109375, 955.0259399414062, 899.8411254882812, 1529.4390869140625, 1188.4127197265625, 2091.025390625, 940.0935668945312, 1037.603271484375, 7509.9228515625, 406.1461486816406, 1690.9903564453125, 580.53173828125, 4625.90087890625, 2466.319580078125, 2355.713134765625, 1242.7791748046875, 1160.0732421875, 1100.9552001953125, 1036.6512451171875, 762.751708984375, 672.0687255859375, 648.0718383789062, 570.4700317382812, 445.8672790527344, 647.2606201171875, 376.88360595703125, 219.0049591064453, 213.16514587402344, 179.69541931152344, 1064.4033203125, 162.06085205078125, 137.40966796875, 103.09028625488281, 101.74203491210938, 74.12757873535156, 62.497501373291016, 52.05002975463867, 50.831451416015625, 50.80305480957031, 48.6225471496582, 35.33559036254883, 31.49633026123047, 29.682065963745117, 1372.1177978515625, 2698.864990234375, 515.2767944335938, 1594.2342529296875, 2108.1552734375, 683.1161499023438, 907.956787109375, 2139.498291015625, 1587.912109375, 744.6293334960938, 1747.362060546875, 1781.9759521484375, 2393.310302734375, 1925.7301025390625, 2790.6015625, 889.184326171875, 3194.785888671875, 2499.21728515625, 1975.748291015625, 1804.623046875, 1371.4984130859375, 1273.82177734375, 598.6784057617188, 584.0098266601562, 575.9779663085938, 553.5763549804688, 507.1353759765625, 474.27392578125, 462.6796875, 355.5413818359375, 296.38262939453125, 239.78189086914062, 225.24078369140625, 222.85415649414062, 220.30140686035156, 193.45054626464844, 188.3049774169922, 186.18267822265625, 176.07907104492188, 173.4178924560547, 172.79202270507812, 167.14651489257812, 158.42953491210938, 157.56442260742188, 150.33636474609375, 112.98825073242188, 111.88643646240234, 110.06536102294922, 302.1000671386719, 4625.90087890625, 283.46136474609375, 1220.1011962890625, 2866.601806640625, 437.444580078125, 2173.537841796875, 480.908203125, 1604.592529296875, 3679.882568359375, 3556.117431640625, 992.8345336914062, 959.7725830078125, 748.1143798828125, 665.2637329101562, 657.4395141601562, 581.0826416015625, 525.9947509765625, 509.16510009765625, 447.42608642578125, 445.5119934082031, 438.7724304199219, 369.8857421875, 351.4039001464844, 322.5836486816406, 320.86492919921875, 282.7825622558594, 260.17413330078125, 248.548828125, 239.20469665527344, 238.8773193359375, 234.1721649169922, 224.9966278076172, 222.0000762939453, 214.72161865234375, 196.778564453125, 196.55889892578125, 194.79449462890625, 178.3310546875, 171.74273681640625, 170.23277282714844, 728.4261474609375, 543.6748046875, 1889.0709228515625, 961.9721069335938, 512.4861450195312, 907.8182983398438, 1059.77294921875, 2467.004638671875, 1363.0152587890625, 1305.4580078125, 700.431640625, 642.4193115234375, 594.6080322265625, 466.4335632324219, 432.1004943847656, 421.1656494140625, 400.9302673339844, 366.4041748046875, 295.3782653808594, 294.44580078125, 270.2953186035156, 235.2411651611328, 229.65049743652344, 224.2468719482422, 191.2545928955078, 180.3554229736328, 174.1343994140625, 152.74610900878906, 149.44058227539062, 134.65322875976562, 133.87840270996094, 132.6887969970703, 131.91883850097656, 129.96755981445312, 128.694091796875, 128.49276733398438, 124.4169921875, 1497.1512451171875, 362.5518798828125, 638.8548583984375, 2091.025390625, 576.5027465820312, 384.3606262207031, 612.0262451171875, 801.7124633789062, 3466.6103515625, 5989.6337890625, 1426.723876953125, 1023.50830078125, 926.7695922851562, 704.1358032226562, 485.2234802246094, 427.081787109375, 402.47015380859375, 394.7463073730469, 321.3735046386719, 301.1625061035156, 257.5142517089844, 253.02723693847656, 243.23483276367188, 232.8409423828125, 197.67111206054688, 176.84906005859375, 168.68038940429688, 163.22189331054688, 157.25360107421875, 149.64474487304688, 144.77932739257812, 139.55274963378906, 137.23435974121094, 118.65199279785156, 111.9500732421875, 95.1496353149414, 92.15509796142578, 91.22107696533203, 87.90060424804688, 78.85850524902344, 219.8285675048828, 186.23916625976562, 724.3007202148438, 241.99229431152344, 961.9721069335938, 2551.0205078125, 1670.2069091796875, 456.9549255371094, 413.3459167480469, 305.51446533203125, 265.0960693359375, 235.031982421875, 181.747314453125, 170.83404541015625, 159.67796325683594, 151.23023986816406, 131.86514282226562, 122.8022232055664, 116.59587860107422, 114.87056732177734, 103.68233489990234, 88.35803985595703, 88.03960418701172, 84.9598388671875, 82.31647491455078, 75.11366271972656, 60.39968490600586, 58.92745590209961, 51.22731399536133, 49.78740310668945, 48.654361724853516, 47.311405181884766, 42.5502815246582, 39.0648193359375, 38.554359436035156, 307.84124755859375, 118.78495788574219, 298.857421875, 344.8785705566406, 421.85101318359375, 476.110107421875, 358.1301574707031, 371.3983154296875, 813.813720703125, 261.6370544433594, 1562.5823974609375, 791.310546875, 741.0648803710938, 801.7063598632812, 1327.033203125, 1306.136962890625, 1327.8966064453125, 1003.1952514648438, 695.9727783203125, 602.3146362304688, 525.8016967773438, 504.8849792480469, 424.8074035644531, 386.2575988769531, 373.82470703125, 287.15484619140625, 284.1737060546875, 275.5944519042969, 264.3543701171875, 252.89791870117188, 191.40933227539062, 190.3390655517578, 189.4573516845703, 169.6420135498047, 141.50445556640625, 119.41715240478516, 115.73444366455078, 112.30875396728516, 110.89958953857422, 107.02875518798828, 104.97692108154297, 98.84019470214844, 63.42115020751953, 60.149696350097656, 43.49106216430664, 35.42660903930664, 271.0986633300781, 240.58128356933594, 458.49810791015625, 612.0262451171875, 306.59246826171875, 813.813720703125, 2717.318115234375, 2300.494140625, 506.7585754394531, 443.1526184082031, 278.1400146484375, 258.867919921875, 233.30718994140625, 214.9087677001953, 189.1905517578125, 168.44766235351562, 152.02218627929688, 144.61109924316406, 129.40603637695312, 124.52088165283203, 110.88556671142578, 82.85043334960938, 70.56576538085938, 59.14019775390625, 51.66749954223633, 40.52814865112305, 18.0091552734375, 461.1288757324219, 14.434436798095703, 587.3680419921875, 1.2388886213302612, 1.2388463020324707, 1.2388430833816528, 1.23884117603302, 1.23883855342865, 1.238837718963623, 2273.117431640625, 1062.1473388671875, 541.9884643554688, 413.1883544921875, 405.05029296875, 367.8724670410156, 355.04095458984375, 344.6602478027344, 336.9620056152344, 252.3928985595703, 252.20423889160156, 243.0016326904297, 240.9829559326172, 212.25350952148438, 207.37744140625, 203.3512725830078, 190.36509704589844, 187.73367309570312, 185.59539794921875, 184.75, 173.42372131347656, 172.79725646972656, 156.67709350585938, 156.37442016601562, 155.7500762939453, 132.9556121826172, 121.34486389160156, 116.88131713867188, 116.77749633789062, 107.82489013671875, 102.16341400146484, 254.9139404296875, 233.43423461914062, 528.8512573242188, 469.0963134765625, 435.6119079589844, 365.74462890625, 314.48974609375, 298.1355285644531, 261.11175537109375, 254.7166290283203, 227.45489501953125, 182.32786560058594, 175.80014038085938, 170.40054321289062, 150.9393768310547, 131.57542419433594, 130.01461791992188, 126.88834381103516, 99.4156494140625, 97.3117904663086, 90.79647064208984, 83.41260528564453, 83.05113983154297, 73.74736785888672, 71.12639617919922, 70.49806213378906, 63.2278938293457, 60.37311553955078, 57.0278205871582, 53.93467330932617, 53.58869552612305, 50.70816421508789, 724.3007202148438, 147.21934509277344, 481.0209045410156, 686.2903442382812, 422.5758972167969, 369.1832275390625, 325.7666015625, 314.9002990722656, 297.8763122558594, 292.55450439453125, 217.41087341308594, 204.33619689941406, 197.1584014892578, 186.67721557617188, 179.3887481689453, 159.0009765625, 142.57791137695312, 132.3826904296875, 131.4864044189453, 119.72706604003906, 110.20624542236328, 107.59707641601562, 106.58843231201172, 96.70156860351562, 88.86451721191406, 87.53980255126953, 83.42603302001953, 80.20791625976562, 67.3036880493164, 63.33469772338867, 62.33777618408203, 60.51704406738281, 53.8054084777832, 261.6370544433594, 379.7583312988281, 623.6619873046875, 503.85650634765625, 408.669189453125, 380.21417236328125, 348.9594421386719, 322.52825927734375, 317.1527404785156, 288.5488586425781, 242.8668212890625, 224.45765686035156, 157.25018310546875, 156.09024047851562, 149.99197387695312, 146.55979919433594, 124.70113372802734, 115.72664642333984, 107.38390350341797, 106.34088134765625, 104.62974548339844, 88.42843627929688, 82.78687286376953, 80.91008758544922, 78.76681518554688, 78.0745620727539, 67.88591003417969, 66.29582977294922, 57.517295837402344, 55.062374114990234, 48.40522003173828, 47.2224006652832, 44.24449157714844, 459.5342102050781, 592.044189453125, 517.8187255859375, 354.2904052734375, 348.0733337402344, 246.62583923339844, 235.76486206054688, 222.23788452148438, 221.9630889892578, 157.89073181152344, 155.99932861328125, 145.1796417236328, 144.7185516357422, 119.24871063232422, 111.5813217163086, 104.12603759765625, 88.0791244506836, 84.22126007080078, 76.38702392578125, 74.04334259033203, 67.27108764648438, 63.51594543457031, 61.46288299560547, 58.568058013916016, 52.281944274902344, 50.681739807128906, 49.59463882446289, 49.42608642578125, 45.739009857177734, 34.26458740234375, 34.12407302856445, 453.2581481933594, 339.7292785644531, 337.60699462890625, 224.4786834716797, 190.43760681152344, 133.67401123046875, 125.52181243896484, 115.35860443115234, 109.4241714477539, 105.38057708740234, 99.72472381591797, 77.64907836914062, 77.51810455322266, 71.22608184814453, 57.49225997924805, 55.46257400512695, 46.833351135253906, 41.38188934326172, 39.30814743041992, 31.049192428588867, 30.70789909362793, 28.50054359436035, 20.064363479614258, 19.681610107421875, 19.052001953125, 9.665834426879883, 7.12486457824707, 1.6960314512252808, 213.48780822753906, 461.1288757324219, 134.0340576171875, 56.45255661010742, 34.144561767578125, 17.944137573242188, 12.485624313354492, 1.3857060670852661, 1.238966941833496, 1.2388420104980469, 1.238842248916626, 1.2388421297073364, 1.2388417720794678, 1.2388477325439453, 1.23893141746521, 1.2388427257537842, 1.2388277053833008, 1.2388346195220947, 1.238839864730835, 1.2388269901275635, 1.2388279438018799, 1.2388275861740112, 1.2388485670089722, 1.2388298511505127, 1.238830327987671, 1.2388415336608887, 1.238835334777832, 1.2388370037078857, 1.2388286590576172, 1.238826036453247, 1.2388269901275635, 1.238826036453247, 1.2388378381729126, 1.2388606071472168, 1.2388323545455933, 1.2388521432876587, 1.2388463020324707, 1.2388536930084229, 1.2388579845428467, 1.2389112710952759, 1.2388651371002197, 1.2389403581619263, 1.2388697862625122, 1.2389872074127197], \"Category\": [\"Default\", \"Default\", \"Default\", \"Default\", \"Default\", \"Default\", \"Default\", \"Default\", \"Default\", \"Default\", \"Default\", \"Default\", \"Default\", \"Default\", \"Default\", \"Default\", \"Default\", \"Default\", \"Default\", \"Default\", \"Default\", \"Default\", \"Default\", \"Default\", \"Default\", \"Default\", \"Default\", \"Default\", \"Default\", \"Default\", \"Topic1\", \"Topic1\", \"Topic1\", \"Topic1\", \"Topic1\", \"Topic1\", \"Topic1\", \"Topic1\", \"Topic1\", \"Topic1\", \"Topic1\", \"Topic1\", \"Topic1\", \"Topic1\", \"Topic1\", \"Topic1\", \"Topic1\", \"Topic1\", \"Topic1\", \"Topic1\", \"Topic1\", \"Topic1\", \"Topic1\", \"Topic1\", \"Topic1\", \"Topic1\", \"Topic1\", \"Topic1\", \"Topic1\", \"Topic1\", \"Topic1\", \"Topic1\", \"Topic1\", \"Topic1\", \"Topic1\", \"Topic1\", \"Topic1\", \"Topic1\", \"Topic1\", \"Topic1\", \"Topic1\", \"Topic1\", \"Topic1\", \"Topic1\", \"Topic1\", \"Topic1\", \"Topic1\", \"Topic1\", \"Topic1\", \"Topic1\", \"Topic1\", \"Topic1\", \"Topic1\", \"Topic1\", \"Topic2\", \"Topic2\", \"Topic2\", \"Topic2\", \"Topic2\", \"Topic2\", \"Topic2\", \"Topic2\", \"Topic2\", \"Topic2\", \"Topic2\", \"Topic2\", \"Topic2\", \"Topic2\", \"Topic2\", \"Topic2\", \"Topic2\", \"Topic2\", \"Topic2\", \"Topic2\", \"Topic2\", \"Topic2\", \"Topic2\", \"Topic2\", \"Topic2\", \"Topic2\", \"Topic2\", \"Topic2\", \"Topic2\", \"Topic2\", \"Topic2\", \"Topic2\", \"Topic2\", \"Topic2\", \"Topic2\", \"Topic2\", \"Topic2\", \"Topic2\", \"Topic2\", \"Topic2\", \"Topic2\", \"Topic2\", \"Topic2\", \"Topic2\", \"Topic2\", \"Topic2\", \"Topic2\", \"Topic2\", \"Topic2\", \"Topic2\", \"Topic2\", \"Topic2\", \"Topic2\", \"Topic2\", \"Topic2\", \"Topic2\", \"Topic2\", \"Topic2\", \"Topic2\", \"Topic2\", \"Topic2\", \"Topic2\", \"Topic3\", \"Topic3\", \"Topic3\", \"Topic3\", \"Topic3\", \"Topic3\", \"Topic3\", \"Topic3\", \"Topic3\", \"Topic3\", \"Topic3\", \"Topic3\", \"Topic3\", \"Topic3\", \"Topic3\", \"Topic3\", \"Topic3\", \"Topic3\", \"Topic3\", \"Topic3\", \"Topic3\", \"Topic3\", \"Topic3\", \"Topic3\", \"Topic3\", \"Topic3\", \"Topic3\", \"Topic3\", \"Topic3\", \"Topic3\", \"Topic3\", \"Topic3\", \"Topic3\", \"Topic3\", \"Topic3\", \"Topic3\", \"Topic3\", \"Topic3\", \"Topic3\", \"Topic3\", \"Topic3\", \"Topic3\", \"Topic3\", \"Topic3\", \"Topic3\", \"Topic3\", \"Topic3\", \"Topic3\", \"Topic3\", \"Topic3\", \"Topic3\", \"Topic3\", \"Topic3\", \"Topic3\", \"Topic4\", \"Topic4\", \"Topic4\", \"Topic4\", \"Topic4\", \"Topic4\", \"Topic4\", \"Topic4\", \"Topic4\", \"Topic4\", \"Topic4\", \"Topic4\", \"Topic4\", \"Topic4\", \"Topic4\", \"Topic4\", \"Topic4\", \"Topic4\", \"Topic4\", \"Topic4\", \"Topic4\", \"Topic4\", \"Topic4\", \"Topic4\", \"Topic4\", \"Topic4\", \"Topic4\", \"Topic4\", \"Topic4\", \"Topic4\", \"Topic4\", \"Topic4\", \"Topic4\", \"Topic4\", \"Topic4\", \"Topic4\", \"Topic4\", \"Topic4\", \"Topic4\", \"Topic4\", \"Topic4\", \"Topic4\", \"Topic4\", \"Topic4\", \"Topic4\", \"Topic4\", \"Topic5\", \"Topic5\", \"Topic5\", \"Topic5\", \"Topic5\", \"Topic5\", \"Topic5\", \"Topic5\", \"Topic5\", \"Topic5\", \"Topic5\", \"Topic5\", \"Topic5\", \"Topic5\", \"Topic5\", \"Topic5\", \"Topic5\", \"Topic5\", \"Topic5\", \"Topic5\", \"Topic5\", \"Topic5\", \"Topic5\", \"Topic5\", \"Topic5\", \"Topic5\", \"Topic5\", \"Topic5\", \"Topic5\", \"Topic5\", \"Topic5\", \"Topic5\", \"Topic5\", \"Topic5\", \"Topic5\", \"Topic5\", \"Topic5\", \"Topic5\", \"Topic5\", \"Topic5\", \"Topic5\", \"Topic5\", \"Topic5\", \"Topic5\", \"Topic5\", \"Topic6\", \"Topic6\", \"Topic6\", \"Topic6\", \"Topic6\", \"Topic6\", \"Topic6\", \"Topic6\", \"Topic6\", \"Topic6\", \"Topic6\", \"Topic6\", \"Topic6\", \"Topic6\", \"Topic6\", \"Topic6\", \"Topic6\", \"Topic6\", \"Topic6\", \"Topic6\", \"Topic6\", \"Topic6\", \"Topic6\", \"Topic6\", \"Topic6\", \"Topic6\", \"Topic6\", \"Topic6\", \"Topic6\", \"Topic6\", \"Topic6\", \"Topic6\", \"Topic6\", \"Topic6\", \"Topic6\", \"Topic6\", \"Topic6\", \"Topic6\", \"Topic6\", \"Topic6\", \"Topic6\", \"Topic6\", \"Topic6\", \"Topic6\", \"Topic6\", \"Topic6\", \"Topic6\", \"Topic6\", \"Topic7\", \"Topic7\", \"Topic7\", \"Topic7\", \"Topic7\", \"Topic7\", \"Topic7\", \"Topic7\", \"Topic7\", \"Topic7\", \"Topic7\", \"Topic7\", \"Topic7\", \"Topic7\", \"Topic7\", \"Topic7\", \"Topic7\", \"Topic7\", \"Topic7\", \"Topic7\", \"Topic7\", \"Topic7\", \"Topic7\", \"Topic7\", \"Topic7\", \"Topic7\", \"Topic7\", \"Topic7\", \"Topic7\", \"Topic7\", \"Topic7\", \"Topic7\", \"Topic7\", \"Topic7\", \"Topic7\", \"Topic7\", \"Topic7\", \"Topic7\", \"Topic7\", \"Topic7\", \"Topic7\", \"Topic8\", \"Topic8\", \"Topic8\", \"Topic8\", \"Topic8\", \"Topic8\", \"Topic8\", \"Topic8\", \"Topic8\", \"Topic8\", \"Topic8\", \"Topic8\", \"Topic8\", \"Topic8\", \"Topic8\", \"Topic8\", \"Topic8\", \"Topic8\", \"Topic8\", \"Topic8\", \"Topic8\", \"Topic8\", \"Topic8\", \"Topic8\", \"Topic8\", \"Topic8\", \"Topic8\", \"Topic8\", \"Topic8\", \"Topic8\", \"Topic8\", \"Topic8\", \"Topic8\", \"Topic8\", \"Topic8\", \"Topic8\", \"Topic8\", \"Topic9\", \"Topic9\", \"Topic9\", \"Topic9\", \"Topic9\", \"Topic9\", \"Topic9\", \"Topic9\", \"Topic9\", \"Topic9\", \"Topic9\", \"Topic9\", \"Topic9\", \"Topic9\", \"Topic9\", \"Topic9\", \"Topic9\", \"Topic9\", \"Topic9\", \"Topic9\", \"Topic9\", \"Topic9\", \"Topic9\", \"Topic9\", \"Topic9\", \"Topic9\", \"Topic9\", \"Topic9\", \"Topic9\", \"Topic9\", \"Topic9\", \"Topic9\", \"Topic9\", \"Topic9\", \"Topic9\", \"Topic9\", \"Topic9\", \"Topic9\", \"Topic9\", \"Topic9\", \"Topic10\", \"Topic10\", \"Topic10\", \"Topic10\", \"Topic10\", \"Topic10\", \"Topic10\", \"Topic10\", \"Topic10\", \"Topic10\", \"Topic10\", \"Topic10\", \"Topic10\", \"Topic10\", \"Topic10\", \"Topic10\", \"Topic10\", \"Topic10\", \"Topic10\", \"Topic10\", \"Topic10\", \"Topic10\", \"Topic10\", \"Topic10\", \"Topic10\", \"Topic10\", \"Topic10\", \"Topic10\", \"Topic10\", \"Topic10\", \"Topic10\", \"Topic10\", \"Topic10\", \"Topic10\", \"Topic10\", \"Topic11\", \"Topic11\", \"Topic11\", \"Topic11\", \"Topic11\", \"Topic11\", \"Topic11\", \"Topic11\", \"Topic11\", \"Topic11\", \"Topic11\", \"Topic11\", \"Topic11\", \"Topic11\", \"Topic11\", \"Topic11\", \"Topic11\", \"Topic11\", \"Topic11\", \"Topic11\", \"Topic11\", \"Topic11\", \"Topic11\", \"Topic11\", \"Topic11\", \"Topic11\", \"Topic11\", \"Topic11\", \"Topic11\", \"Topic11\", \"Topic11\", \"Topic11\", \"Topic11\", \"Topic11\", \"Topic11\", \"Topic11\", \"Topic11\", \"Topic11\", \"Topic11\", \"Topic11\", \"Topic11\", \"Topic11\", \"Topic11\", \"Topic11\", \"Topic11\", \"Topic11\", \"Topic12\", \"Topic12\", \"Topic12\", \"Topic12\", \"Topic12\", \"Topic12\", \"Topic12\", \"Topic12\", \"Topic12\", \"Topic12\", \"Topic12\", \"Topic12\", \"Topic12\", \"Topic12\", \"Topic12\", \"Topic12\", \"Topic12\", \"Topic12\", \"Topic12\", \"Topic12\", \"Topic12\", \"Topic12\", \"Topic12\", \"Topic12\", \"Topic12\", \"Topic12\", \"Topic12\", \"Topic12\", \"Topic12\", \"Topic12\", \"Topic12\", \"Topic12\", \"Topic12\", \"Topic12\", \"Topic12\", \"Topic12\", \"Topic13\", \"Topic13\", \"Topic13\", \"Topic13\", \"Topic13\", \"Topic13\", \"Topic13\", \"Topic13\", \"Topic13\", \"Topic13\", \"Topic13\", \"Topic13\", \"Topic13\", \"Topic13\", \"Topic13\", \"Topic13\", \"Topic13\", \"Topic13\", \"Topic13\", \"Topic13\", \"Topic13\", \"Topic13\", \"Topic13\", \"Topic13\", \"Topic13\", \"Topic13\", \"Topic13\", \"Topic13\", \"Topic13\", \"Topic13\", \"Topic13\", \"Topic14\", \"Topic14\", \"Topic14\", \"Topic14\", \"Topic14\", \"Topic14\", \"Topic14\", \"Topic14\", \"Topic14\", \"Topic14\", \"Topic14\", \"Topic14\", \"Topic14\", \"Topic14\", \"Topic14\", \"Topic14\", \"Topic14\", \"Topic14\", \"Topic14\", \"Topic14\", \"Topic14\", \"Topic14\", \"Topic14\", \"Topic14\", \"Topic14\", \"Topic14\", \"Topic14\", \"Topic14\", \"Topic14\", \"Topic14\", \"Topic14\", \"Topic14\", \"Topic15\", \"Topic15\", \"Topic15\", \"Topic15\", \"Topic15\", \"Topic15\", \"Topic15\", \"Topic15\", \"Topic15\", \"Topic15\", \"Topic15\", \"Topic15\", \"Topic15\", \"Topic15\", \"Topic15\", \"Topic15\", \"Topic15\", \"Topic15\", \"Topic15\", \"Topic15\", \"Topic15\", \"Topic15\", \"Topic15\", \"Topic15\", \"Topic15\", \"Topic15\", \"Topic15\", \"Topic15\", \"Topic15\", \"Topic15\", \"Topic15\", \"Topic15\", \"Topic15\", \"Topic16\", \"Topic16\", \"Topic16\", \"Topic16\", \"Topic16\", \"Topic16\", \"Topic16\", \"Topic16\", \"Topic16\", \"Topic16\", \"Topic16\", \"Topic16\", \"Topic16\", \"Topic16\", \"Topic16\", \"Topic16\", \"Topic16\", \"Topic16\", \"Topic16\", \"Topic16\", \"Topic16\", \"Topic16\", \"Topic16\", \"Topic16\", \"Topic16\", \"Topic16\", \"Topic16\", \"Topic16\", \"Topic16\", \"Topic16\", \"Topic16\", \"Topic16\", \"Topic16\", \"Topic17\", \"Topic17\", \"Topic17\", \"Topic17\", \"Topic17\", \"Topic17\", \"Topic17\", \"Topic17\", \"Topic17\", \"Topic17\", \"Topic17\", \"Topic17\", \"Topic17\", \"Topic17\", \"Topic17\", \"Topic17\", \"Topic17\", \"Topic17\", \"Topic17\", \"Topic17\", \"Topic17\", \"Topic17\", \"Topic17\", \"Topic17\", \"Topic17\", \"Topic17\", \"Topic17\", \"Topic17\", \"Topic17\", \"Topic17\", \"Topic17\", \"Topic18\", \"Topic18\", \"Topic18\", \"Topic18\", \"Topic18\", \"Topic18\", \"Topic18\", \"Topic18\", \"Topic18\", \"Topic18\", \"Topic18\", \"Topic18\", \"Topic18\", \"Topic18\", \"Topic18\", \"Topic18\", \"Topic18\", \"Topic18\", \"Topic18\", \"Topic18\", \"Topic18\", \"Topic18\", \"Topic18\", \"Topic18\", \"Topic18\", \"Topic18\", \"Topic18\", \"Topic18\", \"Topic18\", \"Topic18\", \"Topic19\", \"Topic19\", \"Topic19\", \"Topic19\", \"Topic19\", \"Topic19\", \"Topic19\", \"Topic19\", \"Topic19\", \"Topic19\", \"Topic19\", \"Topic19\", \"Topic19\", \"Topic19\", \"Topic19\", \"Topic19\", \"Topic19\", \"Topic19\", \"Topic19\", \"Topic19\", \"Topic19\", \"Topic19\", \"Topic19\", \"Topic19\", \"Topic19\", \"Topic19\", \"Topic19\", \"Topic19\", \"Topic19\", \"Topic19\", \"Topic20\", \"Topic20\", \"Topic20\", \"Topic20\", \"Topic20\", \"Topic20\", \"Topic20\", \"Topic20\", \"Topic20\", \"Topic20\", \"Topic20\", \"Topic20\", \"Topic20\", \"Topic20\", \"Topic20\", \"Topic20\", \"Topic20\", \"Topic20\", \"Topic20\", \"Topic20\", \"Topic20\", \"Topic20\", \"Topic20\", \"Topic20\", \"Topic20\", \"Topic20\", \"Topic20\", \"Topic20\", \"Topic20\", \"Topic20\", \"Topic20\", \"Topic20\", \"Topic20\", \"Topic20\", \"Topic20\", \"Topic20\", \"Topic20\", \"Topic20\", \"Topic20\", \"Topic20\", \"Topic20\", \"Topic20\"], \"logprob\": [30.0, 29.0, 28.0, 27.0, 26.0, 25.0, 24.0, 23.0, 22.0, 21.0, 20.0, 19.0, 18.0, 17.0, 16.0, 15.0, 14.0, 13.0, 12.0, 11.0, 10.0, 9.0, 8.0, 7.0, 6.0, 5.0, 4.0, 3.0, 2.0, 1.0, -3.410099983215332, -3.8529000282287598, -3.9839000701904297, -3.9951000213623047, -4.502099990844727, -4.655600070953369, -4.669099807739258, -4.914599895477295, -4.973599910736084, -5.053400039672852, -5.112400054931641, -5.253300189971924, -5.3069000244140625, -5.325200080871582, -5.357999801635742, -5.375400066375732, -5.65339994430542, -5.767099857330322, -5.769400119781494, -5.774600028991699, -5.817200183868408, -5.823400020599365, -5.842100143432617, -5.919000148773193, -6.088600158691406, -6.132999897003174, -6.1697001457214355, -6.180500030517578, -6.184299945831299, -6.2058000564575195, -4.046299934387207, -3.2486000061035156, -5.510900020599365, -4.403900146484375, -3.2829999923706055, -4.222799777984619, -4.44290018081665, -3.921099901199341, -4.754799842834473, -5.071000099182129, -5.1631999015808105, -4.732399940490723, -4.692500114440918, -4.595600128173828, -4.178100109100342, -4.398799896240234, -4.359300136566162, -4.728300094604492, -4.68310022354126, -4.297399997711182, -4.746699810028076, -4.973400115966797, -4.571300029754639, -4.932400226593018, -4.303100109100342, -4.806399822235107, -5.010200023651123, -5.0218000411987305, -5.055500030517578, -5.142300128936768, -5.182000160217285, -5.380000114440918, -5.410600185394287, -5.455399990081787, -5.494900226593018, -5.533699989318848, -5.572400093078613, -5.641600131988525, -5.754300117492676, -5.792200088500977, -5.7957000732421875, -5.866300106048584, -5.8730998039245605, -5.902400016784668, -5.912799835205078, -5.928500175476074, -5.928800106048584, -5.946899890899658, -5.960599899291992, -6.002099990844727, -6.0100998878479, -6.012800216674805, -6.048600196838379, -6.048999786376953, -4.703199863433838, -5.181600093841553, -5.439599990844727, -5.055699825286865, -5.419600009918213, -5.337699890136719, -4.317800045013428, -5.4980998039245605, -5.515699863433838, -5.232600212097168, -5.148799896240234, -5.201600074768066, -4.991099834442139, -4.111999988555908, -3.8907999992370605, -5.395400047302246, -4.927999973297119, -4.039899826049805, -4.918300151824951, -5.289999961853027, -4.947700023651123, -5.128300189971924, -5.03000020980835, -4.300899982452393, -4.9542999267578125, -4.7733001708984375, -4.812900066375732, -5.109600067138672, -5.188600063323975, -5.029699802398682, -5.124599933624268, -5.092899799346924, -4.026100158691406, -4.1656999588012695, -4.440800189971924, -4.495500087738037, -4.650599956512451, -4.679200172424316, -4.735899925231934, -4.752200126647949, -4.8572998046875, -4.987299919128418, -5.14870023727417, -5.149600028991699, -5.197800159454346, -5.247900009155273, -5.264699935913086, -5.347599983215332, -5.366399765014648, -5.375999927520752, -5.385200023651123, -5.539700031280518, -5.569699764251709, -5.594799995422363, -5.620800018310547, -5.653299808502197, -5.662300109863281, -5.672999858856201, -5.7754998207092285, -5.789999961853027, -5.7972002029418945, -5.9070000648498535, -4.0329999923706055, -5.269599914550781, -4.72599983215332, -5.018400192260742, -4.450099945068359, -3.5085999965667725, -5.197400093078613, -4.488100051879883, -5.144800186157227, -3.773400068283081, -5.04010009765625, -4.917600154876709, -4.49970006942749, -4.823200225830078, -4.257699966430664, -4.732600212097168, -4.718299865722656, -5.115200042724609, -4.843200206756592, -4.946499824523926, -4.684800148010254, -5.010000228881836, -5.078000068664551, -4.981100082397461, -3.2964000701904297, -3.390399932861328, -3.9388999938964844, -4.0040998458862305, -4.059599876403809, -4.114099979400635, -4.118800163269043, -4.135000228881836, -4.1483001708984375, -4.246099948883057, -4.246500015258789, -4.27810001373291, -4.327499866485596, -4.359899997711182, -4.432799816131592, -4.817200183868408, -4.839700222015381, -4.915200233459473, -4.948299884796143, -4.974899768829346, -5.0543999671936035, -5.146100044250488, -5.191999912261963, -5.278600215911865, -5.2866997718811035, -5.378600120544434, -5.594900131225586, -5.646100044250488, -5.663899898529053, -5.700399875640869, -3.813499927520752, -3.736299991607666, -3.7253000736236572, -3.6092000007629395, -4.03439998626709, -4.232800006866455, -3.8958001136779785, -4.350800037384033, -3.6677000522613525, -3.4686999320983887, -3.5650999546051025, -3.705199956893921, -4.557400226593018, -3.7411000728607178, -4.347599983215332, -3.9953999519348145, -3.454699993133545, -4.1321001052856445, -4.159599781036377, -4.220300197601318, -4.2600998878479, -4.3582000732421875, -4.361800193786621, -4.433000087738037, -4.464099884033203, -4.729599952697754, -4.826600074768066, -4.83459997177124, -4.872600078582764, -4.885200023651123, -4.887400150299072, -4.894400119781494, -4.942399978637695, -4.989999771118164, -5.034599781036377, -5.046999931335449, -5.071499824523926, -5.092100143432617, -5.26800012588501, -5.273499965667725, -5.323400020599365, -5.3491997718811035, -5.420599937438965, -5.458099842071533, -5.462900161743164, -5.484300136566162, -4.181099891662598, -4.515600204467773, -5.011199951171875, -4.023499965667725, -4.081500053405762, -3.7339000701904297, -3.9588000774383545, -3.759500026702881, -4.389400005340576, -4.4197001457214355, -3.8153998851776123, -4.949399948120117, -4.558899879455566, -4.851900100708008, -4.911099910736084, -2.782599925994873, -2.8285000324249268, -3.468400001525879, -3.537400007247925, -3.5896999835968018, -3.6500000953674316, -3.957200050354004, -4.084000110626221, -4.1203999519348145, -4.248199939727783, -4.495200157165527, -4.122600078582764, -4.66379976272583, -5.208799839019775, -5.236000061035156, -5.407800197601318, -3.6291000843048096, -5.5117998123168945, -5.678100109100342, -5.968400001525879, -5.9816999435424805, -6.302700042724609, -6.47629976272583, -6.663000106811523, -6.687300205230713, -6.68779993057251, -6.732800006866455, -7.061200141906738, -7.1803998947143555, -7.242099761962891, -3.4107000827789307, -2.7762999534606934, -4.451200008392334, -3.3645999431610107, -3.101099967956543, -4.207399845123291, -3.942199945449829, -3.1547999382019043, -3.6545000076293945, -4.336999893188477, -3.6410000324249268, -4.04010009765625, -3.9832000732421875, -4.219799995422363, -4.148900032043457, -4.639900207519531, -4.41379976272583, -4.61359977722168, -2.5480000972747803, -2.6386001110076904, -2.913300037384033, -2.9872000217437744, -3.743299961090088, -3.768199920654297, -3.7820000648498535, -3.8217999935150146, -3.909600019454956, -3.976799964904785, -4.0015997886657715, -4.265699863433838, -4.448400020599365, -4.661200046539307, -4.724100112915039, -4.734799861907959, -4.746399879455566, -4.877099990844727, -4.904300212860107, -4.9156999588012695, -4.971799850463867, -4.987199783325195, -4.990799903869629, -5.0243000984191895, -5.078199863433838, -5.083700180053711, -5.13100004196167, -5.4191999435424805, -5.429100036621094, -5.445700168609619, -4.582900047302246, -2.891700029373169, -4.800000190734863, -4.105999946594238, -3.800299882888794, -4.661499977111816, -4.047699928283691, -4.664000034332275, -4.440499782562256, -4.303800106048584, -4.6143999099731445, -3.2077999114990234, -3.2416999340057373, -3.4911999702453613, -3.6087000370025635, -3.6205999851226807, -3.74429988861084, -3.844099998474121, -3.876699924468994, -4.00629997253418, -4.0106000900268555, -4.0258002281188965, -4.1971001625061035, -4.248600006103516, -4.334400177001953, -4.339799880981445, -4.466599941253662, -4.550300121307373, -4.596199989318848, -4.634699821472168, -4.636099815368652, -4.656099796295166, -4.696300029754639, -4.709799766540527, -4.743299961090088, -4.830999851226807, -4.832200050354004, -4.84119987487793, -4.930099964141846, -4.9679999351501465, -4.976900100708008, -3.528599977493286, -3.8536999225616455, -2.744999885559082, -3.370300054550171, -4.086400032043457, -4.386899948120117, -4.43179988861084, -2.2702999114990234, -2.864000082015991, -2.9072000980377197, -3.530600070953369, -3.6171998977661133, -3.694700002670288, -3.937999963760376, -4.014699935913086, -4.04040002822876, -4.089799880981445, -4.180099964141846, -4.396399974822998, -4.399499893188477, -4.485499858856201, -4.625, -4.649199962615967, -4.673099994659424, -4.833199977874756, -4.892199993133545, -4.927599906921387, -5.059599876403809, -5.081600189208984, -5.186699867248535, -5.192500114440918, -5.201499938964844, -5.207399845123291, -5.222400188446045, -5.232399940490723, -5.23390007019043, -5.266499996185303, -3.0634000301361084, -4.441400051116943, -4.051499843597412, -3.1874001026153564, -4.2382001876831055, -4.732500076293945, -4.780200004577637, -4.741300106048584, -4.729700088500977, -4.984600067138672, -2.349100112915039, -2.6816000938415527, -2.7809998989105225, -3.0560998916625977, -3.4291999340057373, -3.5571999549865723, -3.6166999340057373, -3.636199951171875, -3.8424999713897705, -3.9077000617980957, -4.064899921417236, -4.082600116729736, -4.122200012207031, -4.166100025177002, -4.3308000564575195, -4.442800045013428, -4.4903998374938965, -4.523600101470947, -4.561100006103516, -4.611100196838379, -4.644400119781494, -4.68149995803833, -4.698299884796143, -4.845200061798096, -4.903900146484375, -5.068399906158447, -5.100800037384033, -5.111100196838379, -5.14870023727417, -5.258800029754639, -4.2600998878479, -4.717700004577637, -3.968600034713745, -4.824100017547607, -4.845600128173828, -1.7059999704360962, -2.1298000812530518, -3.427799940109253, -3.52839994430542, -3.831700086593628, -3.9742000102996826, -4.095099925994873, -4.353700160980225, -4.416100025177002, -4.484099864959717, -4.538899898529053, -4.677000045776367, -4.748899936676025, -4.801300048828125, -4.816400051116943, -4.920000076293945, -5.081900119781494, -5.085599899291992, -5.121699810028076, -5.15369987487793, -5.246699810028076, -5.468599796295166, -5.493800163269043, -5.636899948120117, -5.666100025177002, -5.689700126647949, -5.718400001525879, -5.827300071716309, -5.915299892425537, -5.928899765014648, -3.8910000324249268, -4.860300064086914, -4.174099922180176, -4.216300010681152, -4.071100234985352, -4.15369987487793, -4.396699905395508, -4.469699859619141, -4.179900169372559, -4.742099761962891, -4.0329999923706055, -4.360199928283691, -4.390699863433838, -4.468699932098389, -4.679800033569336, -4.741499900817871, -2.3210999965667725, -2.601799964904785, -2.9679999351501465, -3.112799882888794, -3.2488999366760254, -3.289599895477295, -3.4626998901367188, -3.5580999851226807, -3.5910000801086426, -3.8557000160217285, -3.8661999702453613, -3.896899938583374, -3.938800096511841, -3.983299970626831, -4.263400077819824, -4.269000053405762, -4.27370023727417, -4.384900093078613, -4.567599773406982, -4.738900184631348, -4.770500183105469, -4.800899982452393, -4.813600063323975, -4.8495001792907715, -4.869100093841553, -4.930099964141846, -5.380499839782715, -5.434500217437744, -5.76639986038208, -5.97790002822876, -4.087900161743164, -4.205699920654297, -3.6981000900268555, -3.49429988861084, -4.8130998611450195, -4.7403998374938965, -1.5390000343322754, -1.7056000232696533, -3.2202000617980957, -3.3547000885009766, -3.822000026702881, -3.8940999507904053, -3.998500108718872, -4.081099987030029, -4.2093000411987305, -4.326200008392334, -4.429500102996826, -4.479899883270264, -4.591899871826172, -4.630799770355225, -4.747900009155273, -5.042900085449219, -5.2058000564575195, -5.385700225830078, -5.523600101470947, -5.77269983291626, -6.6209001541137695, -3.3803000450134277, -6.8592000007629395, -3.643699884414673, -11.837800025939941, -11.837900161743164, -11.837900161743164, -11.837900161743164, -11.837900161743164, -11.838000297546387, -7.21999979019165, -2.4674999713897705, -3.1412999629974365, -3.413300037384033, -3.433300018310547, -3.529900074005127, -3.565500020980835, -3.5952000617980957, -3.6178998947143555, -3.908099889755249, -3.908799886703491, -3.946199893951416, -3.9546000957489014, -4.082200050354004, -4.105500221252441, -4.125199794769287, -4.1915998458862305, -4.205599784851074, -4.217199802398682, -4.221799850463867, -4.285399913787842, -4.289100170135498, -4.387700080871582, -4.389699935913086, -4.393700122833252, -4.553199768066406, -4.645500183105469, -4.683300018310547, -4.684199810028076, -4.764800071716309, -4.819399833679199, -4.075699806213379, -4.43120002746582, -2.809299945831299, -2.929500102996826, -3.003700017929077, -3.1791000366210938, -3.3306000232696533, -3.384200096130371, -3.5172998905181885, -3.5422000885009766, -3.6559998989105225, -3.8784000873565674, -3.91510009765625, -3.946500062942505, -4.068699836730957, -4.207200050354004, -4.219200134277344, -4.243800163269043, -4.4903998374938965, -4.51200008392334, -4.582200050354004, -4.6682000160217285, -4.672599792480469, -4.7932000160217285, -4.829999923706055, -4.839000225067139, -4.94980001449585, -4.9969000816345215, -5.055099964141846, -5.112100124359131, -5.118599891662598, -5.17519998550415, -3.2604000568389893, -4.612100124359131, -5.013199806213379, -2.490600109100342, -2.976599931716919, -3.1120998859405518, -3.237600088119507, -3.271699905395508, -3.327500104904175, -3.345599889755249, -3.643899917602539, -3.706199884414673, -3.7421998977661133, -3.7971999645233154, -3.8371999263763428, -3.958699941635132, -4.068600177764893, -4.143499851226807, -4.150300025939941, -4.244900226593018, -4.32859992980957, -4.35290002822876, -4.362400054931641, -4.460899829864502, -4.546500205993652, -4.561699867248535, -4.610499858856201, -4.650400161743164, -4.828700065612793, -4.890600204467773, -4.906799793243408, -4.936999797821045, -5.05709981918335, -4.09250020980835, -4.797900199890137, -4.832200050354004, -2.7325000762939453, -2.9423999786376953, -3.0148000717163086, -3.1008999347686768, -3.1798999309539795, -3.1967999935150146, -3.2916998863220215, -3.4647998809814453, -3.5439999103546143, -3.902100086212158, -3.909600019454956, -3.9498000144958496, -3.973099946975708, -4.136000156402588, -4.21150016784668, -4.287099838256836, -4.296999931335449, -4.313399791717529, -4.483699798583984, -4.55049991607666, -4.573800086975098, -4.601099967956543, -4.610000133514404, -4.752200126647949, -4.776299953460693, -4.92110013961792, -4.965700149536133, -5.097499847412109, -5.122900009155273, -5.189799785614014, -3.267899990081787, -2.4460999965667725, -2.5803000926971436, -2.960900068283081, -2.9786999225616455, -3.3245999813079834, -3.3698999881744385, -3.42930006980896, -3.430500030517578, -3.7732999324798584, -3.785399913787842, -3.8578999042510986, -3.8610999584198, -4.056399822235107, -4.123600006103516, -4.19350004196167, -4.36299991607666, -4.408400058746338, -4.507500171661377, -4.539100170135498, -4.63670015335083, -4.695199966430664, -4.728700160980225, -4.777900218963623, -4.893899917602539, -4.9257001876831055, -4.947999954223633, -4.951399803161621, -5.030900001525879, -5.328700065612793, -5.333000183105469, -2.334399938583374, -2.6236000061035156, -2.6298999786376953, -3.039799928665161, -3.205199956893921, -3.561800003051758, -3.6252999305725098, -3.710599899291992, -3.7639999389648438, -3.8020999431610107, -3.8578999042510986, -4.111599922180176, -4.11329984664917, -4.1992998123168945, -4.417600154876709, -4.4542999267578125, -4.627500057220459, -4.754700183868408, -4.807700157165527, -5.0518999099731445, -5.063399791717529, -5.14109992980957, -5.510700225830078, -5.531199932098389, -5.565800189971924, -6.311600208282471, -6.6682000160217285, -9.138500213623047, -4.369200229644775, -5.073400020599365, -2.042799949645996, -2.9202001094818115, -3.4375, -4.1149001121521, -4.509900093078613, -8.724200248718262, -10.860199928283691, -10.860400199890137, -10.860400199890137, -10.860400199890137, -10.860400199890137, -10.860400199890137, -10.860400199890137, -10.86050033569336, -10.86050033569336, -10.86050033569336, -10.86050033569336, -10.86050033569336, -10.86050033569336, -10.86050033569336, -10.86050033569336, -10.86050033569336, -10.86050033569336, -10.86050033569336, -10.86050033569336, -10.86050033569336, -10.86050033569336, -10.86050033569336, -10.86050033569336, -10.86050033569336, -10.86050033569336, -10.86050033569336, -10.86050033569336, -10.86050033569336, -10.86050033569336, -10.86050033569336, -10.86050033569336, -10.86050033569336, -10.86050033569336, -10.86050033569336, -10.86050033569336, -10.86050033569336], \"loglift\": [30.0, 29.0, 28.0, 27.0, 26.0, 25.0, 24.0, 23.0, 22.0, 21.0, 20.0, 19.0, 18.0, 17.0, 16.0, 15.0, 14.0, 13.0, 12.0, 11.0, 10.0, 9.0, 8.0, 7.0, 6.0, 5.0, 4.0, 3.0, 2.0, 1.0, 1.0218000411987305, 1.0218000411987305, 1.0217000246047974, 1.0217000246047974, 1.0216000080108643, 1.0216000080108643, 1.0216000080108643, 1.0214999914169312, 1.0214999914169312, 1.021399974822998, 1.021399974822998, 1.021299958229065, 1.021299958229065, 1.021299958229065, 1.021299958229065, 1.021299958229065, 1.0211000442504883, 1.0210000276565552, 1.0210000276565552, 1.0210000276565552, 1.020900011062622, 1.020900011062622, 1.020900011062622, 1.020799994468689, 1.0205999612808228, 1.0205999612808228, 1.0204999446868896, 1.0204999446868896, 1.0204999446868896, 1.0204999446868896, 1.0118999481201172, 0.998199999332428, 1.017799973487854, 1.0056999921798706, 0.982200026512146, 0.9966999888420105, 0.9968000054359436, 0.9699000120162964, 0.982200026512146, 0.991599977016449, 0.9908999800682068, 0.9413999915122986, 0.9279999732971191, 0.9133999943733215, 0.8402000069618225, 0.8689000010490417, 0.830299973487854, 0.869700014591217, 0.8215000033378601, 0.664900004863739, 0.7932000160217285, 0.8959000110626221, 0.3091999888420105, 0.7258999943733215, 1.6051000356674194, 1.6049000024795532, 1.604699969291687, 1.604699969291687, 1.604699969291687, 1.604599952697754, 1.604599952697754, 1.6044000387191772, 1.6043000221252441, 1.6043000221252441, 1.604200005531311, 1.604200005531311, 1.604099988937378, 1.604099988937378, 1.6038999557495117, 1.6038000583648682, 1.6038000583648682, 1.603700041770935, 1.603700041770935, 1.603600025177002, 1.603600025177002, 1.603600025177002, 1.603600025177002, 1.6035000085830688, 1.6035000085830688, 1.6033999919891357, 1.6033999919891357, 1.6033999919891357, 1.6032999753952026, 1.6032999753952026, 1.6016000509262085, 1.5967999696731567, 1.590499997138977, 1.5688999891281128, 1.5779000520706177, 1.5687999725341797, 1.4924999475479126, 1.5719000101089478, 1.5705000162124634, 1.5448999404907227, 1.5326000452041626, 1.5363999605178833, 1.5038000345230103, 1.3854999542236328, 1.3483999967575073, 1.5491000413894653, 1.434999942779541, 1.2192000150680542, 1.410099983215332, 1.5096999406814575, 1.3847999572753906, 1.4285000562667847, 1.3768999576568604, 0.7407000064849854, 1.202299952507019, 0.7415000200271606, 0.7635999917984009, 1.0983999967575073, 1.2419999837875366, 0.8773999810218811, 0.9171000123023987, 0.633400022983551, 1.8323999643325806, 1.8323999643325806, 1.8322999477386475, 1.832200050354004, 1.8321000337600708, 1.8321000337600708, 1.8321000337600708, 1.8321000337600708, 1.8320000171661377, 1.8319000005722046, 1.8316999673843384, 1.8316999673843384, 1.8315999507904053, 1.8315999507904053, 1.8315000534057617, 1.8314000368118286, 1.8314000368118286, 1.8314000368118286, 1.8314000368118286, 1.8310999870300293, 1.8310999870300293, 1.8310999870300293, 1.8309999704360962, 1.8309999704360962, 1.830899953842163, 1.830899953842163, 1.8307000398635864, 1.8307000398635864, 1.8307000398635864, 1.830399990081787, 1.805999994277954, 1.8087999820709229, 1.756500005722046, 1.7726000547409058, 1.7065999507904053, 1.5044000148773193, 1.760200023651123, 1.545799970626831, 1.6576000452041626, 1.107100009918213, 1.595900058746338, 1.5038000345230103, 1.1855000257492065, 1.3898999691009521, 0.7839000225067139, 1.1198999881744385, 1.0422999858856201, 1.5995999574661255, 0.9429000020027161, 1.0951999425888062, 0.2775000035762787, 0.6481000185012817, 1.2073999643325806, 0.03720000013709068, 3.1245999336242676, 3.124500036239624, 3.124000072479248, 3.124000072479248, 3.1238999366760254, 3.123800039291382, 3.123800039291382, 3.123800039291382, 3.123800039291382, 3.1236000061035156, 3.1236000061035156, 3.123500108718872, 3.123500108718872, 3.1233999729156494, 3.123300075531006, 3.122299909591675, 3.122299909591675, 3.121999979019165, 3.1219000816345215, 3.121799945831299, 3.1215999126434326, 3.1212000846862793, 3.121000051498413, 3.1205999851226807, 3.1205999851226807, 3.1201000213623047, 3.1189000606536865, 3.1185998916625977, 3.118499994277954, 3.1182000637054443, 3.113600015640259, 3.0257999897003174, 3.020900011062622, 2.973099946975708, 3.002700090408325, 2.984100103378296, 2.905100107192993, 2.899399995803833, 2.655600070953369, 2.5074000358581543, 2.112299919128418, 2.1624999046325684, 2.771399974822998, 1.4981000423431396, 2.235300064086914, 1.5020999908447266, 3.169600009918213, 3.1689000129699707, 3.168800115585327, 3.1686999797821045, 3.1686999797821045, 3.1684999465942383, 3.1684999465942383, 3.168299913406372, 3.168299913406372, 3.16759991645813, 3.16729998588562, 3.16729998588562, 3.1672000885009766, 3.167099952697754, 3.167099952697754, 3.167099952697754, 3.1670000553131104, 3.166800022125244, 3.166599988937378, 3.166599988937378, 3.1665000915527344, 3.1663999557495117, 3.165600061416626, 3.165600061416626, 3.1654000282287598, 3.1651999950408936, 3.164900064468384, 3.164599895477295, 3.164599895477295, 3.1644999980926514, 3.1584999561309814, 3.1542999744415283, 3.1410000324249268, 3.0517001152038574, 3.0532000064849854, 2.8703999519348145, 2.8977999687194824, 2.5320000648498535, 2.7016000747680664, 2.572499990463257, 1.19760000705719, 2.980799913406372, 1.9450000524520874, 2.721100091934204, 0.5864999890327454, 3.343899965286255, 3.343899965286255, 3.343400001525879, 3.343400001525879, 3.3433001041412354, 3.3431999683380127, 3.3427999019622803, 3.342600107192993, 3.342600107192993, 3.3422999382019043, 3.3417000770568848, 3.341599941253662, 3.3413000106811523, 3.3389999866485596, 3.338900089263916, 3.337899923324585, 3.3376998901367188, 3.337100028991699, 3.3357999324798584, 3.3329999446868896, 3.3327999114990234, 3.3285000324249268, 3.325500011444092, 3.321700096130371, 3.321199893951416, 3.321199893951416, 3.3201000690460205, 3.310800075531006, 3.3066999912261963, 3.30430006980896, 3.3020999431610107, 3.259999990463257, 3.2411000728607178, 3.198199987411499, 3.182300090789795, 3.202899932861328, 3.1835999488830566, 3.113800048828125, 2.9123001098632812, 2.986999988555908, 2.8301000595092773, 2.411400079727173, 2.1733999252319336, 2.154099941253662, 1.8539999723434448, 2.5067999362945557, 1.4538999795913696, 1.4996999502182007, 3.800299882888794, 3.8001999855041504, 3.799999952316284, 3.799999952316284, 3.7988998889923096, 3.7988998889923096, 3.798799991607666, 3.798799991607666, 3.7985999584198, 3.7983999252319336, 3.79830002784729, 3.797600030899048, 3.7969000339508057, 3.7960000038146973, 3.7957000732421875, 3.795599937438965, 3.7955000400543213, 3.794800043106079, 3.794600009918213, 3.794600009918213, 3.7941999435424805, 3.794100046157837, 3.794100046157837, 3.793800115585327, 3.7934000492095947, 3.7934000492095947, 3.7929999828338623, 3.7904000282287598, 3.790299892425537, 3.79010009765625, 3.6433000564575195, 2.605799913406372, 3.4899001121520996, 2.724299907684326, 2.175800085067749, 3.194499969482422, 2.205199956893921, 3.0971999168395996, 2.1159000396728516, 1.4225000143051147, 1.1461000442504883, 3.8285999298095703, 3.8285999298095703, 3.828200101852417, 3.828000068664551, 3.828000068664551, 3.8278000354766846, 3.8276000022888184, 3.827500104904175, 3.827199935913086, 3.827199935913086, 3.8271000385284424, 3.8266000747680664, 3.8264999389648438, 3.826200008392334, 3.8261001110076904, 3.825700044631958, 3.8252999782562256, 3.8250999450683594, 3.824899911880493, 3.824899911880493, 3.8248000144958496, 3.8245999813079834, 3.82450008392334, 3.8243000507354736, 3.8238000869750977, 3.8238000869750977, 3.8238000869750977, 3.823199987411499, 3.8229000568389893, 3.8229000568389893, 3.817500114440918, 3.784899950027466, 3.648099899291992, 3.6975998878479004, 3.611299991607666, 2.739000082015991, 2.539299964904785, 3.8559000492095947, 3.8554999828338623, 3.8554000854492188, 3.8547000885009766, 3.8545000553131104, 3.8543999195098877, 3.853800058364868, 3.853600025177002, 3.8534998893737793, 3.8533999919891357, 3.853100061416626, 3.852299928665161, 3.852299928665161, 3.8519999980926514, 3.851300001144409, 3.8512001037597656, 3.851099967956543, 3.8501999378204346, 3.8498001098632812, 3.849600076675415, 3.848599910736084, 3.848400115966797, 3.847599983215332, 3.8475000858306885, 3.847399950027466, 3.847399950027466, 3.8471999168395996, 3.8471999168395996, 3.847100019454956, 3.8468000888824463, 3.5622000694274902, 3.602400064468384, 3.425800085067749, 3.104099988937378, 3.3417999744415283, 3.2527999877929688, 2.740000009536743, 2.5088999271392822, 1.0563000440597534, 0.25459998846054077, 4.324699878692627, 4.324399948120117, 4.3242998123168945, 4.32390022277832, 4.3231000900268555, 4.322800159454346, 4.3225998878479, 4.322500228881836, 4.321899890899658, 4.321599960327148, 4.320899963378906, 4.320899963378906, 4.320700168609619, 4.320499897003174, 4.3196001052856445, 4.318900108337402, 4.31850004196167, 4.318299770355225, 4.317999839782715, 4.317599773406982, 4.317399978637695, 4.3171000480651855, 4.31689977645874, 4.3155999183654785, 4.315000057220459, 4.3130998611450195, 4.312699794769287, 4.3125, 4.311999797821045, 4.310500144958496, 4.283999919891357, 3.992300033569336, 3.3831000328063965, 3.624000072479248, 2.2223000526428223, 4.38670015335083, 4.38640022277832, 4.384500026702881, 4.384300231933594, 4.383299827575684, 4.382699966430664, 4.3821001052856445, 4.3805999755859375, 4.380199909210205, 4.379700183868408, 4.379300117492676, 4.3780999183654785, 4.377500057220459, 4.3769001960754395, 4.376800060272217, 4.375699996948242, 4.373700141906738, 4.373600006103516, 4.3730998039245605, 4.372700214385986, 4.371300220489502, 4.367400169372559, 4.3668999671936035, 4.363800048828125, 4.363100051879883, 4.362500190734863, 4.361800193786621, 4.35890007019043, 4.356400012969971, 4.355999946594238, 4.316400051116943, 4.2993998527526855, 4.062900066375732, 3.8773999214172363, 3.821199893951416, 3.6175999641418457, 3.65939998626709, 3.549999952316284, 3.055299997329712, 3.6278998851776123, 2.5499000549316406, 2.9030001163482666, 2.938199996948242, 2.7815001010894775, 2.0664000511169434, 2.020699977874756, 4.424499988555908, 4.424200057983398, 4.423699855804443, 4.423399925231934, 4.423099994659424, 4.422999858856201, 4.422599792480469, 4.422299861907959, 4.4222002029418945, 4.421199798583984, 4.421199798583984, 4.42110013961792, 4.420899868011475, 4.4207000732421875, 4.4191999435424805, 4.4191999435424805, 4.419099807739258, 4.418399810791016, 4.416999816894531, 4.415500164031982, 4.41510009765625, 4.41480016708374, 4.414700031280518, 4.414299964904785, 4.414100170135498, 4.413400173187256, 4.406599998474121, 4.405600070953369, 4.3979997634887695, 4.391600131988525, 4.246600151062012, 4.248199939727783, 4.110899925231934, 4.025899887084961, 3.398400068283081, 2.494800090789795, 4.490600109100342, 4.490499973297119, 4.488699913024902, 4.488399982452393, 4.486800193786621, 4.486499786376953, 4.486000061035156, 4.485599994659424, 4.484899997711182, 4.484099864959717, 4.483399868011475, 4.482999801635742, 4.482100009918213, 4.4816999435424805, 4.480599880218506, 4.4770002365112305, 4.474599838256836, 4.471399784088135, 4.468500137329102, 4.462299823760986, 4.425099849700928, 4.422999858856201, 4.408199787139893, 3.91759991645813, 1.8848999738693237, 1.8848999738693237, 1.8848999738693237, 1.8848999738693237, 1.8847999572753906, 1.8847999572753906, -1.0118999481201172, 4.501399993896484, 4.500400066375732, 4.49970006942749, 4.49970006942749, 4.4994001388549805, 4.499199867248535, 4.499100208282471, 4.499100208282471, 4.497900009155273, 4.497900009155273, 4.497700214385986, 4.497700214385986, 4.497000217437744, 4.4969000816345215, 4.496799945831299, 4.496399879455566, 4.496300220489502, 4.496200084686279, 4.496200084686279, 4.495800018310547, 4.495699882507324, 4.494999885559082, 4.494999885559082, 4.494999885559082, 4.49370002746582, 4.492800235748291, 4.492499828338623, 4.492499828338623, 4.491600036621094, 4.491000175476074, 4.320300102233887, 4.0528998374938965, 4.85699987411499, 4.8566999435424805, 4.856500148773193, 4.855999946594238, 4.855400085449219, 4.855199813842773, 4.854700088500977, 4.854599952697754, 4.854000091552734, 4.852700233459473, 4.852499961853027, 4.85230016708374, 4.851399898529053, 4.850200176239014, 4.850100040435791, 4.849899768829346, 4.847300052642822, 4.8470001220703125, 4.846099853515625, 4.84499979019165, 4.844900131225586, 4.843100070953369, 4.84250020980835, 4.842299938201904, 4.840400218963623, 4.8394999504089355, 4.8383002281188965, 4.837100028991699, 4.836999893188477, 4.835700035095215, 4.091300010681152, 4.332900047302246, 2.7479000091552734, 4.914999961853027, 4.914000034332275, 4.913599967956543, 4.913099765777588, 4.913000106811523, 4.912799835205078, 4.912700176239014, 4.911300182342529, 4.910999774932861, 4.910699844360352, 4.910399913787842, 4.910099983215332, 4.909299850463867, 4.908400058746338, 4.907800197601318, 4.907700061798096, 4.906799793243408, 4.906000137329102, 4.905700206756592, 4.905600070953369, 4.904399871826172, 4.90339994430542, 4.903200149536133, 4.902500152587891, 4.901899814605713, 4.89900016784668, 4.897900104522705, 4.897600173950195, 4.896999835968018, 4.894499778747559, 4.277500152587891, 3.19950008392334, 2.6691999435424805, 4.9822001457214355, 4.981599807739258, 4.981400012969971, 4.981100082397461, 4.980800151824951, 4.980800151824951, 4.980400085449219, 4.979599952697754, 4.9791998863220215, 4.9770002365112305, 4.976900100708008, 4.976600170135498, 4.976399898529053, 4.974999904632568, 4.974299907684326, 4.973499774932861, 4.973299980163574, 4.973199844360352, 4.971099853515625, 4.970099925994873, 4.969799995422363, 4.969399929046631, 4.969299793243408, 4.9670000076293945, 4.9664998054504395, 4.963799953460693, 4.962800025939941, 4.959799766540527, 4.959199905395508, 4.957499980926514, 4.53879976272583, 5.1072998046875, 5.10699987411499, 5.105899810791016, 5.105899810791016, 5.104499816894531, 5.104300022125244, 5.104000091552734, 5.103899955749512, 5.101799964904785, 5.1016998291015625, 5.101099967956543, 5.101099967956543, 5.099299907684326, 5.098599910736084, 5.097899913787842, 5.095799922943115, 5.095099925994873, 5.093699932098389, 5.093200206756592, 5.0914998054504395, 5.0904998779296875, 5.089799880981445, 5.088900089263916, 5.086400032043457, 5.085599899291992, 5.085100173950195, 5.085000038146973, 5.083099842071533, 5.074100017547607, 5.073999881744385, 5.486100196838379, 5.485199928283691, 5.485199928283691, 5.483399868011475, 5.482399940490723, 5.479700088500977, 5.479100227355957, 5.478300094604492, 5.477700233459473, 5.47730016708374, 5.4766998291015625, 5.473199844360352, 5.473199844360352, 5.471799850463867, 5.467700004577637, 5.466899871826172, 5.462900161743164, 5.459400177001953, 5.457799911499023, 5.44950008392334, 5.448999881744385, 5.445899963378906, 5.427299976348877, 5.42609977722168, 5.423999786376953, 5.356800079345703, 5.305200099945068, 4.270199775695801, 4.20419979095459, 2.7298998832702637, 6.995999813079834, 6.98330020904541, 6.968800067901611, 6.934800148010254, 6.902400016784668, 4.886499881744385, 2.862499952316284, 2.8624000549316406, 2.8624000549316406, 2.8624000549316406, 2.8624000549316406, 2.8624000549316406, 2.8624000549316406, 2.862299919128418, 2.862299919128418, 2.862299919128418, 2.862299919128418, 2.862299919128418, 2.862299919128418, 2.862299919128418, 2.862299919128418, 2.862299919128418, 2.862299919128418, 2.862299919128418, 2.862299919128418, 2.862299919128418, 2.862299919128418, 2.862299919128418, 2.862299919128418, 2.862299919128418, 2.862299919128418, 2.862299919128418, 2.862299919128418, 2.862299919128418, 2.862299919128418, 2.862299919128418, 2.862299919128418, 2.8622000217437744, 2.8622000217437744, 2.8622000217437744, 2.8622000217437744, 2.8622000217437744]}, \"token.table\": {\"Topic\": [10, 19, 8, 11, 17, 8, 17, 2, 3, 6, 10, 1, 8, 1, 3, 9, 1, 2, 3, 2, 11, 10, 19, 10, 8, 15, 4, 4, 6, 8, 15, 3, 5, 5, 1, 19, 8, 5, 9, 10, 11, 6, 16, 2, 4, 6, 7, 10, 12, 13, 1, 1, 14, 2, 3, 14, 11, 1, 1, 2, 3, 5, 3, 3, 17, 10, 4, 7, 12, 10, 2, 4, 19, 9, 4, 2, 14, 7, 20, 10, 15, 16, 7, 7, 4, 18, 2, 5, 16, 12, 15, 1, 4, 11, 18, 11, 12, 1, 2, 3, 16, 14, 14, 19, 9, 11, 4, 1, 2, 3, 5, 9, 1, 2, 3, 18, 10, 16, 2, 1, 2, 15, 3, 5, 9, 3, 3, 17, 5, 5, 3, 3, 12, 11, 7, 12, 2, 6, 14, 4, 1, 3, 5, 2, 8, 15, 15, 15, 4, 6, 15, 3, 19, 6, 17, 16, 12, 17, 3, 10, 15, 2, 17, 4, 14, 11, 6, 6, 2, 11, 1, 3, 3, 5, 9, 1, 7, 7, 9, 14, 8, 18, 19, 5, 9, 5, 9, 11, 9, 14, 18, 2, 4, 10, 2, 11, 3, 5, 11, 4, 7, 8, 9, 15, 14, 3, 17, 15, 18, 2, 12, 2, 2, 9, 12, 19, 16, 1, 5, 16, 10, 18, 19, 16, 3, 16, 19, 4, 4, 9, 6, 4, 7, 16, 7, 17, 5, 7, 11, 4, 11, 11, 17, 17, 8, 6, 10, 6, 9, 11, 12, 18, 1, 3, 6, 7, 1, 3, 3, 4, 8, 3, 20, 17, 2, 8, 10, 9, 15, 12, 4, 3, 3, 12, 11, 11, 12, 3, 16, 7, 12, 6, 1, 4, 11, 12, 12, 8, 18, 12, 2, 1, 5, 6, 13, 2, 7, 5, 9, 1, 2, 3, 5, 7, 19, 7, 15, 3, 5, 6, 18, 18, 1, 2, 5, 11, 2, 7, 11, 15, 15, 1, 2, 4, 5, 5, 1, 7, 8, 1, 7, 5, 9, 4, 17, 15, 2, 3, 5, 17, 1, 6, 9, 11, 1, 1, 9, 16, 1, 14, 14, 2, 11, 18, 11, 7, 8, 19, 9, 1, 4, 14, 2, 2, 5, 1, 2, 3, 3, 14, 4, 9, 1, 6, 16, 8, 6, 17, 8, 14, 2, 4, 6, 2, 3, 18, 15, 1, 6, 2, 6, 5, 17, 11, 16, 15, 13, 12, 1, 10, 10, 10, 9, 16, 5, 8, 2, 3, 9, 17, 3, 9, 5, 6, 1, 3, 12, 5, 10, 2, 1, 2, 5, 7, 2, 13, 3, 9, 18, 19, 3, 9, 8, 1, 2, 6, 9, 1, 3, 1, 2, 11, 1, 1, 2, 4, 6, 18, 2, 6, 1, 1, 3, 5, 3, 1, 2, 6, 20, 1, 7, 1, 2, 11, 13, 11, 4, 6, 16, 6, 18, 2, 17, 1, 2, 3, 5, 3, 5, 8, 15, 4, 13, 1, 2, 3, 6, 6, 19, 17, 1, 3, 13, 1, 2, 3, 1, 15, 1, 3, 16, 16, 8, 4, 1, 2, 6, 12, 2, 11, 11, 11, 5, 5, 8, 13, 19, 4, 4, 11, 16, 19, 1, 4, 13, 8, 6, 12, 12, 14, 4, 13, 1, 2, 3, 5, 2, 3, 1, 3, 6, 5, 1, 2, 4, 6, 12, 1, 2, 4, 1, 2, 7, 2, 7, 18, 17, 2, 3, 10, 14, 2, 15, 10, 3, 10, 6, 5, 7, 3, 4, 14, 13, 13, 13, 2, 3, 1, 17, 17, 8, 11, 18, 9, 6, 8, 1, 2, 3, 13, 6, 13, 16, 1, 12, 8, 19, 1, 3, 5, 5, 7, 11, 12, 12, 3, 10, 18, 10, 16, 1, 7, 15, 7, 13, 7, 14, 13, 1, 2, 3, 7, 5, 11, 5, 1, 3, 6, 1, 2, 5, 11, 8, 17, 19, 1, 4, 11, 18, 18, 14, 9, 10, 1, 2, 4, 12, 2, 4, 12, 2, 4, 6, 15, 3, 5, 9, 18, 3, 2, 3, 12, 3, 5, 9, 8, 2, 5, 7, 11, 4, 2, 8, 1, 19, 1, 2, 3, 14, 2, 9, 6, 1, 3, 6, 5, 10, 15, 1, 11, 1, 3, 2, 17, 14, 18, 9, 10, 2, 3, 3, 1, 14, 2, 1, 5, 6, 18, 2, 6, 2, 3, 2, 4, 8, 12, 9, 2, 5, 10, 9, 11, 10, 11, 4, 1, 3, 9, 1, 5, 16, 5, 11, 20, 5, 15, 18, 15, 9, 3, 1, 2, 4, 7, 1, 2, 11, 4, 11, 13, 14, 1, 3, 5, 8, 15, 13, 2, 19, 10, 7, 4, 12, 8, 2, 13, 9, 9, 1, 2, 3, 2, 4, 9, 11, 1, 5, 6, 3, 4, 8, 6, 2, 2, 4, 16, 17, 8, 9, 16, 1, 5, 13, 8, 17, 2, 18, 2, 5, 14, 8, 14, 12, 13, 5, 5, 8, 7, 2, 5, 6, 2, 13, 3, 12, 9, 4, 11, 12, 11, 14, 16, 19, 7, 19, 2, 12, 14, 7, 2, 3, 5, 9, 3, 10, 16, 1, 2, 3, 5, 19, 10, 20, 7, 9, 6, 19, 18, 18, 2, 3, 4, 1, 18, 11, 11, 14, 2, 4, 8, 1, 3, 5, 9, 4, 10, 7, 2, 6, 1, 3, 16, 12, 3, 4, 9, 10, 15, 1, 4, 6, 1, 3, 1, 3, 13, 16, 7, 6, 1, 2, 3, 17, 17, 3, 10, 19, 5, 19, 7, 12, 7, 3, 16, 16, 18, 3, 11, 3, 17, 3, 1, 3, 4, 11, 5, 1, 2, 4, 17, 2, 15, 14, 12, 8, 11, 6, 7, 9, 1, 2, 4, 9, 2, 4, 6, 4, 19, 15, 2, 2, 11, 12, 2, 4, 4, 3, 4, 5, 5, 16, 10, 11, 17, 19, 1, 5, 14, 16, 1, 2, 3, 5, 9, 8, 14, 1, 1, 2, 3, 7, 8, 19, 2, 8, 15, 2, 7, 4, 19, 13, 5, 3, 5, 3, 1, 2, 4, 15, 1, 3, 5, 1, 3, 1, 1, 2, 5, 7, 7, 3], \"Freq\": [0.9890090227127075, 0.9469525218009949, 0.9991950392723083, 0.9951177835464478, 0.9869500398635864, 0.9960434436798096, 0.9718723893165588, 0.9986286163330078, 0.04081282392144203, 0.9583725333213806, 0.9879176020622253, 0.010982582345604897, 0.9884324073791504, 0.16021494567394257, 0.839335024356842, 0.9924846887588501, 0.2285471111536026, 0.6795104146003723, 0.0916232094168663, 0.998763382434845, 0.984630286693573, 0.9866141080856323, 0.9473503232002258, 0.9957261681556702, 0.9954951405525208, 0.9954485893249512, 0.9974797368049622, 0.5656870007514954, 0.43298110365867615, 0.9949944019317627, 0.9787502884864807, 0.9992561340332031, 0.9972660541534424, 0.9974842667579651, 0.9998694658279419, 0.9869848489761353, 0.9972326159477234, 0.8879339694976807, 0.11099174618721008, 0.9974785447120667, 0.986312747001648, 0.9622026681900024, 0.9890546798706055, 0.3369204103946686, 0.013224913738667965, 0.6492802500724792, 0.9956647157669067, 0.996347188949585, 0.9958697557449341, 0.9995149374008179, 0.9994455575942993, 0.9992297887802124, 0.9923497438430786, 0.8380174040794373, 0.1614929437637329, 0.9970680475234985, 0.9956091642379761, 0.9998841285705566, 0.056959327310323715, 0.13363534212112427, 0.7923188209533691, 0.016795698553323746, 0.9986280202865601, 0.9996923208236694, 0.9904952049255371, 0.9959402084350586, 0.9989067912101746, 0.15861384570598602, 0.8373335003852844, 0.9860770106315613, 0.374201238155365, 0.6249851584434509, 0.9972242116928101, 0.9952077865600586, 0.995671272277832, 0.9986839294433594, 0.9944812059402466, 0.9930698871612549, 0.9922851324081421, 0.9994926452636719, 0.9857602715492249, 0.9967949986457825, 0.9953349828720093, 0.9912534952163696, 0.9936488270759583, 0.994429886341095, 0.9991154670715332, 0.9948569536209106, 0.9785398840904236, 0.9984753131866455, 0.9880264401435852, 0.42941734194755554, 0.4108583331108093, 0.15935160219669342, 0.9950348138809204, 0.9659976959228516, 0.9959782958030701, 0.43795597553253174, 0.4828912317752838, 0.07879951596260071, 0.9824102520942688, 0.9928290843963623, 0.9933549761772156, 0.9878761172294617, 0.9934855103492737, 0.9992774128913879, 0.9992204904556274, 0.26318663358688354, 0.26318663358688354, 0.001247329986654222, 0.21204610168933868, 0.25944462418556213, 0.018997864797711372, 0.5025121569633484, 0.47829917073249817, 0.9818421602249146, 0.9910054802894592, 0.9946864247322083, 0.9987853169441223, 0.30444738268852234, 0.6951732039451599, 0.9841634631156921, 0.2582646310329437, 0.7407944798469543, 0.9988831281661987, 0.998853325843811, 0.9976447224617004, 0.9935058951377869, 0.9975687265396118, 0.9969034194946289, 0.9996269941329956, 0.9989786148071289, 0.9923077821731567, 0.9596839547157288, 0.9938716888427734, 0.9918882250785828, 0.29947787523269653, 0.6996769905090332, 0.99335777759552, 0.9990217089653015, 0.8183085322380066, 0.18068529665470123, 0.000653079419862479, 0.1951272189617157, 0.8039241433143616, 0.977256178855896, 0.9805798530578613, 0.970353901386261, 0.8589491248130798, 0.14070647954940796, 0.997186541557312, 0.9979287981987, 0.8421212434768677, 0.9934539794921875, 0.9930153489112854, 0.9939272999763489, 0.9903207421302795, 0.9937210083007812, 0.14496740698814392, 0.3893410563468933, 0.463895708322525, 0.9990274906158447, 0.9972505569458008, 0.9947946071624756, 0.9974070191383362, 0.9950429201126099, 0.9991323947906494, 0.9927067160606384, 0.9914166927337646, 0.007781920954585075, 0.9839357137680054, 0.015837999060750008, 0.0911271944642067, 0.8890458345413208, 0.01889222301542759, 0.9984744191169739, 0.990976870059967, 0.997313916683197, 0.9946066737174988, 0.9889169931411743, 0.9966393113136292, 0.9668176174163818, 0.9804161190986633, 0.4006919264793396, 0.5984359979629517, 0.220658078789711, 0.7750614881515503, 0.9918650984764099, 0.9925553798675537, 0.9956784248352051, 0.9877482652664185, 0.9727134704589844, 0.02615862898528576, 0.995966374874115, 0.0649685487151146, 0.9322987198829651, 0.23729130625724792, 0.7615199685096741, 0.9958881735801697, 0.9918464422225952, 0.7337860465049744, 0.11641798168420792, 0.14816834032535553, 0.982670247554779, 0.9953861832618713, 0.9972051978111267, 0.9933865070343018, 0.9921961426734924, 0.9838429093360901, 0.9984207153320312, 0.9597305655479431, 0.9973435997962952, 0.9973598718643188, 0.32678335905075073, 0.6699059009552002, 0.9874768853187561, 0.9789263010025024, 0.4491119086742401, 0.5503066778182983, 0.992745041847229, 0.9981094002723694, 0.9935939908027649, 0.9827860593795776, 0.9806297421455383, 0.9991028904914856, 0.9971410036087036, 0.9447826147079468, 0.9982685446739197, 0.9984363317489624, 0.995115339756012, 0.9984098076820374, 0.9988282918930054, 0.9977611899375916, 0.9970581531524658, 0.9944912791252136, 0.9804538488388062, 0.9976502656936646, 0.994092583656311, 0.9995999336242676, 0.9012585282325745, 0.097962886095047, 0.9635658860206604, 0.980705976486206, 0.9959155321121216, 0.9920690655708313, 0.9897411465644836, 0.99251389503479, 0.9993730187416077, 0.9979560375213623, 0.9979102611541748, 0.9948766827583313, 0.9711470603942871, 0.9960132837295532, 0.003637297311797738, 0.9984071254730225, 0.99032062292099, 0.6939708590507507, 0.30586498975753784, 0.999585747718811, 0.04230470210313797, 0.9564540982246399, 0.9991229176521301, 0.974269449710846, 0.9946322441101074, 0.0010395311983302236, 0.8763247728347778, 0.1216251477599144, 0.9934402108192444, 0.9912279844284058, 0.9936540722846985, 0.9963123798370361, 0.9994812607765198, 0.6392850875854492, 0.35878247022628784, 0.9894915819168091, 0.1579507738351822, 0.839633047580719, 0.9993987679481506, 0.9962707161903381, 0.9982708692550659, 0.9906939268112183, 0.9983460903167725, 0.022939961403608322, 0.7016929388046265, 0.23479725420475006, 0.039132874459028244, 0.9657156467437744, 0.9927583336830139, 0.993407666683197, 0.9881327748298645, 0.9975842237472534, 0.16988958418369293, 0.8272883892059326, 0.9994649887084961, 0.9914058446884155, 0.4526287615299225, 0.5463549494743347, 0.9986565709114075, 0.9961676597595215, 0.41930684447288513, 0.3782729506492615, 0.07663287967443466, 0.0328814834356308, 0.09266600012779236, 0.992451012134552, 0.9911108613014221, 0.9957422018051147, 0.3733671009540558, 0.6254696846008301, 0.9974231123924255, 0.9678465723991394, 0.9761989116668701, 0.9989019632339478, 0.42442670464515686, 0.08935298770666122, 0.48306459188461304, 0.9977267980575562, 0.9991006255149841, 0.9934673309326172, 0.9952629804611206, 0.9819768667221069, 0.9900157451629639, 0.0026471009477972984, 0.0071053761057555676, 0.9966592788696289, 0.9936060905456543, 0.9998775124549866, 0.9983021020889282, 0.9991594552993774, 0.975195050239563, 0.024719566106796265, 0.5279706120491028, 0.4715389907360077, 0.9984754920005798, 0.9943774938583374, 0.997964084148407, 0.21543553471565247, 0.07616408169269562, 0.06745961308479309, 0.6397782564163208, 0.9985724687576294, 0.9961299896240234, 0.9992551207542419, 0.9727422595024109, 0.9986278414726257, 0.9997597336769104, 0.9947238564491272, 0.9922584295272827, 0.9996384382247925, 0.9912106990814209, 0.9952251315116882, 0.9958394169807434, 0.003392153885215521, 0.991874635219574, 0.9851736426353455, 0.998866856098175, 0.9954871535301208, 0.9662086963653564, 0.9883824586868286, 0.975256085395813, 0.024483416229486465, 0.9951829314231873, 0.9981890320777893, 0.024592740461230278, 0.971413254737854, 0.028992388397455215, 0.43583640456199646, 0.5351709723472595, 0.9977458715438843, 0.9958781003952026, 0.9924927949905396, 0.9953339099884033, 0.9987952709197998, 0.9990748763084412, 0.9889329671859741, 0.9937685132026672, 0.9894239902496338, 0.9838464260101318, 0.9963273406028748, 0.9928125739097595, 0.6681122779846191, 0.021309398114681244, 0.31003084778785706, 0.998908281326294, 0.9972017407417297, 0.9859090447425842, 0.9898658394813538, 0.0056369611993432045, 0.9930446147918701, 0.20518828928470612, 0.794111430644989, 0.9955700039863586, 0.9983000755310059, 0.4662947952747345, 0.5274482369422913, 0.9961912631988525, 0.9439643025398254, 0.9980993866920471, 0.9986163973808289, 0.9920281767845154, 0.9941197633743286, 0.9897542595863342, 0.993034839630127, 0.9829066395759583, 0.9950393438339233, 0.9981003999710083, 0.20148402452468872, 0.7198969721794128, 0.0784154012799263, 0.9871125817298889, 0.9972622394561768, 0.9995927810668945, 0.9992482662200928, 0.9666297435760498, 0.9493089318275452, 0.05056537687778473, 0.9964494705200195, 0.9979997873306274, 0.9949232935905457, 0.9994701743125916, 0.6818376779556274, 0.075453020632267, 0.039566829800605774, 0.20289501547813416, 0.43414005637168884, 0.5635308027267456, 0.9267539381980896, 0.0729362890124321, 0.9811049699783325, 0.9822060465812683, 0.4500981271266937, 0.5463619232177734, 0.9949637651443481, 0.03229037672281265, 0.9666280746459961, 0.9980548620223999, 0.9972323179244995, 0.05753079056739807, 0.9417711496353149, 0.6495553255081177, 0.12258145958185196, 0.22620701789855957, 0.999346911907196, 0.9610629081726074, 6.304118869593367e-05, 0.031709715723991394, 0.007060613017529249, 0.996755838394165, 0.13548824191093445, 0.8637375831604004, 0.9993914365768433, 0.2761695086956024, 0.4299255609512329, 0.29391059279441833, 0.9969322681427002, 0.9225161075592041, 0.07554422318935394, 0.0015469806967303157, 0.9664789438247681, 0.6581421494483948, 0.34095531702041626, 0.9992584586143494, 0.9641213417053223, 0.03538059815764427, 0.9957714080810547, 0.9881916046142578, 0.9886322617530823, 0.010834326036274433, 0.9850310683250427, 0.9996972680091858, 0.9670592546463013, 0.9972041845321655, 0.9736201763153076, 0.6998124122619629, 0.08897958695888519, 0.2111208438873291, 0.9947906732559204, 0.02752675861120224, 0.13816314935684204, 0.833743155002594, 0.9927171468734741, 0.9969165325164795, 0.9006239771842957, 0.26889505982398987, 0.2073439210653305, 0.5234456062316895, 0.9954112768173218, 0.9836429953575134, 0.9927327632904053, 0.9968066215515137, 0.022060781717300415, 0.97592693567276, 0.9993504881858826, 0.22841575741767883, 0.42106878757476807, 0.35036540031433105, 0.9994000196456909, 0.9873434901237488, 0.2491205781698227, 0.7503186464309692, 0.9934607744216919, 0.9849401712417603, 0.9985104203224182, 0.9989404082298279, 0.3267782926559448, 0.07439786195755005, 0.5980443358421326, 0.9914994835853577, 0.9986655712127686, 0.9924213290214539, 0.9958654046058655, 0.9768263101577759, 0.9976595044136047, 0.9938739538192749, 0.9955704808235168, 0.9346627593040466, 0.06288914382457733, 0.9986822605133057, 0.7982972860336304, 0.200821653008461, 0.9886953830718994, 0.9666064381599426, 0.9987651705741882, 0.9984167814254761, 0.9959012866020203, 0.9982395768165588, 0.9945340752601624, 0.9926370978355408, 0.9967441558837891, 0.9924597144126892, 0.9974206686019897, 0.993276059627533, 0.9610602855682373, 0.03598139435052872, 0.0024720041546970606, 0.9982175827026367, 0.35725995898246765, 0.6420067548751831, 0.5551141500473022, 0.14020656049251556, 0.3043001592159271, 0.9953734278678894, 0.49125921726226807, 0.4309045076370239, 0.07766573876142502, 0.9980523586273193, 0.0015449727652594447, 0.041377607733011246, 0.8931652307510376, 0.06531751155853271, 0.5216277837753296, 0.2922860383987427, 0.1857169270515442, 0.9642374515533447, 0.035366494208574295, 0.996357798576355, 0.9920496940612793, 0.908604621887207, 0.09062198549509048, 0.9891133308410645, 0.9917905330657959, 0.999710738658905, 0.996299684047699, 0.9961399435997009, 0.03639199584722519, 0.9598388671875, 0.9798265099525452, 0.9972385764122009, 0.9954163432121277, 0.13029596209526062, 0.8686397075653076, 0.9940942525863647, 0.9985030889511108, 0.9778112769126892, 0.9897353053092957, 0.8226407766342163, 0.17713072896003723, 0.9997006058692932, 0.9964308738708496, 0.9893572330474854, 0.3972412645816803, 0.6002112627029419, 0.9984188675880432, 0.9948089122772217, 0.8680807948112488, 0.13028530776500702, 0.0008798489579930902, 0.6022565960884094, 0.39241263270378113, 0.003959320485591888, 0.9760389924049377, 0.9622941613197327, 0.9981198310852051, 0.9994323253631592, 0.9986022710800171, 0.9960048794746399, 0.9868991374969482, 0.14074711501598358, 0.7201139330863953, 0.1390160769224167, 0.9951863288879395, 0.10250860452651978, 0.16575859487056732, 0.7306464314460754, 0.9808861017227173, 0.9991390705108643, 0.9915134310722351, 0.9982362985610962, 0.9985263347625732, 0.9851568937301636, 0.5032145380973816, 0.49489694833755493, 0.9976629018783569, 0.9900712370872498, 0.992013692855835, 0.9989074468612671, 0.9989197850227356, 0.989134669303894, 0.3630363941192627, 0.1127634271979332, 0.45358458161354065, 0.07030139118432999, 0.9849318861961365, 0.013284244574606419, 0.9959704279899597, 0.6812151074409485, 0.09316987544298172, 0.2253994345664978, 0.032820720225572586, 0.9031558632850647, 0.026373792439699173, 0.03692330792546272, 0.9976053833961487, 0.9887518882751465, 0.9736295342445374, 0.9987855553627014, 0.9049586653709412, 0.09417083114385605, 0.9956610202789307, 0.9630934596061707, 0.9976283311843872, 0.997295618057251, 0.9951989650726318, 0.5584176182746887, 0.07814741134643555, 0.36304906010627747, 0.9942144751548767, 0.9978141784667969, 0.9967930912971497, 0.99781733751297, 0.052985236048698425, 0.027789460495114326, 0.9192753434181213, 0.9865196943283081, 0.059481430798769, 0.28801533579826355, 0.6495997905731201, 0.9891858100891113, 0.9989456534385681, 0.8435006141662598, 0.15616576373577118, 0.9893681406974792, 0.2317735105752945, 0.022041860967874527, 0.7454156875610352, 0.9981368780136108, 0.21540215611457825, 0.2234797477722168, 0.12385624647140503, 0.4334968626499176, 0.9965654015541077, 0.6631283164024353, 0.33597031235694885, 0.9993008971214294, 0.8276574611663818, 0.3455997407436371, 0.16370514035224915, 0.4901905357837677, 0.9959404468536377, 0.984839677810669, 0.014011946506798267, 0.9841927886009216, 0.5537734031677246, 0.28769007325172424, 0.15804947912693024, 0.2792108654975891, 0.7141355276107788, 0.9983903765678406, 0.9995059967041016, 0.9840071797370911, 0.026156406849622726, 0.9735658168792725, 0.9987409710884094, 0.9709696769714355, 0.9951841235160828, 0.9895285367965698, 0.9934387803077698, 0.9946171641349792, 0.9978079199790955, 0.9989268779754639, 0.9983205795288086, 0.999110221862793, 0.9914038777351379, 0.9981926679611206, 0.9695013761520386, 0.017089232802391052, 0.013337938115000725, 0.9754801988601685, 0.09509452432394028, 0.902427613735199, 0.9293984174728394, 0.06921052187681198, 0.9983212947845459, 0.9957990050315857, 0.996606171131134, 0.990388035774231, 0.9903601408004761, 0.9454825520515442, 0.054211340844631195, 0.997467041015625, 0.9950897693634033, 0.9837741255760193, 0.9888733625411987, 0.9967438578605652, 0.9964451193809509, 0.5281816720962524, 0.41077589988708496, 0.060866374522447586, 0.3575654923915863, 0.5355464816093445, 0.10582655668258667, 0.4290614426136017, 0.5689212083816528, 0.8810132145881653, 0.9939056038856506, 0.9860345125198364, 0.9969163537025452, 0.9937764406204224, 0.992812991142273, 0.9990377426147461, 0.09453701972961426, 0.16918987035751343, 0.5389657020568848, 0.19674864411354065, 0.9996353983879089, 0.5334900617599487, 0.4641783535480499, 0.9991008639335632, 0.9722813963890076, 0.9973990321159363, 0.9960919618606567, 0.4902929365634918, 0.4839951694011688, 0.025657575577497482, 0.40076255798339844, 0.5909549593925476, 0.9888591170310974, 0.7166685461997986, 0.2763623893260956, 0.9991695880889893, 0.9971523880958557, 0.9979837536811829, 0.9982471466064453, 0.997810423374176, 0.9986565709114075, 0.9877861142158508, 0.9974531531333923, 0.9977906942367554, 0.8581300973892212, 0.0005153934471309185, 0.14121779799461365, 0.1528136432170868, 0.8022716045379639, 0.028652556240558624, 0.015122182667255402, 0.10767707973718643, 0.04126830771565437, 0.850506603717804, 0.9993559718132019, 0.9954807758331299, 0.9981088042259216, 0.9990144968032837, 0.9988899230957031, 0.8021460175514221, 0.19729803502559662, 0.9902715086936951, 0.974113941192627, 0.997711718082428, 0.9886109232902527, 0.9749319553375244, 0.36001476645469666, 0.6373467445373535, 0.9966472387313843, 0.995675265789032, 0.9952616095542908, 0.9992091059684753, 0.9858281016349792, 0.9415698051452637, 0.0575360544025898, 0.9886122345924377, 0.9968127012252808, 0.9933420419692993, 0.9993247985839844, 0.9937071204185486, 0.9988322257995605, 0.9942407011985779, 0.997304379940033, 0.9931406378746033, 0.583060622215271, 0.022446991875767708, 0.39338353276252747, 0.9992086291313171, 0.9943971037864685, 0.9987295866012573, 0.977591872215271, 0.9944397211074829, 0.5898155570030212, 0.2641882300376892, 0.14499633014202118, 0.3555605411529541, 0.6382954120635986, 0.9895553588867188, 0.9145593047142029, 0.9920773506164551, 0.9769473075866699, 0.9655289649963379, 0.03281951695680618, 0.9971450567245483, 0.9961671829223633, 0.025490952655673027, 0.8813183307647705, 0.06769728660583496, 0.025073068216443062, 0.9977234601974487, 0.99638831615448, 0.9935105443000793, 0.9703718423843384, 0.0015215552411973476, 0.0007607776205986738, 0.027387993410229683, 0.9787624478340149, 0.9983869791030884, 0.9473845958709717, 0.8540216684341431, 0.14233694970607758, 0.9524919390678406, 0.5896117091178894, 0.985499382019043, 0.9732267260551453, 0.7953833937644958, 0.08265117555856705, 0.12129329144954681, 0.9995781779289246, 0.9761328101158142, 0.9760417938232422, 0.9841846823692322, 0.9971239566802979, 0.8023866415023804, 0.197354257106781, 0.9950907230377197, 0.897203266620636, 0.06297697871923447, 0.03957928344607353, 0.9976797103881836, 0.9979710578918457, 0.9915459752082825, 0.9996212720870972, 0.9991735816001892, 0.9847886562347412, 0.8815844058990479, 0.11819250136613846, 0.9850975275039673, 0.9988085627555847, 0.4157823324203491, 0.2952054738998413, 0.11434014141559601, 0.05197279155254364, 0.1205768808722496, 0.46669793128967285, 0.3818722367286682, 0.15087082982063293, 0.7957093715667725, 0.20411477982997894, 0.8338579535484314, 0.16599516570568085, 0.9870808720588684, 0.9910154342651367, 0.9936477541923523, 0.9770209193229675, 0.8256879448890686, 0.16427963972091675, 0.010009301826357841, 0.9862366914749146, 0.9844236969947815, 0.500015914440155, 0.4958835542201996, 0.974044144153595, 0.9954624772071838, 0.9882227778434753, 0.9985309839248657, 0.9977938532829285, 0.9918238520622253, 0.8163086175918579, 0.17906124889850616, 0.9976467490196228, 0.9943585395812988, 0.0757671669125557, 0.9176245927810669, 0.9993983507156372, 0.9963653683662415, 0.9990032911300659, 0.910389244556427, 0.06404993683099747, 0.025179937481880188, 0.9842610359191895, 0.9981808662414551, 0.9987232089042664, 0.9335319399833679, 0.06577327102422714, 0.9902647137641907, 0.9976431131362915, 0.9917808771133423, 0.9981762170791626, 0.9929648637771606, 0.9959213733673096, 0.9934391975402832, 0.9976555109024048, 0.9967391490936279, 0.9877223372459412, 0.002838236978277564, 0.7733361124992371, 0.19650617241859436, 0.02721368335187435, 0.08370442688465118, 0.06387969106435776, 0.8513621091842651, 0.9929366111755371, 0.966720700263977, 0.9830648303031921, 0.9982828497886658, 0.27437832951545715, 0.7227526903152466, 0.9883468151092529, 0.11388776451349258, 0.8848978877067566, 0.9975458979606628, 0.9299383163452148, 0.06888432055711746, 0.9985703229904175, 0.9940415620803833, 0.993704617023468, 0.9874657392501831, 0.9887024164199829, 0.9873906970024109, 0.9934127926826477, 0.9997242093086243, 0.9981293678283691, 0.9959210753440857, 0.9941245317459106, 0.7438380718231201, 0.016755396500229836, 0.21756629645824432, 0.021832790225744247, 0.9969265460968018, 0.16083858907222748, 0.8316532373428345, 0.9990776181221008, 0.858813464641571, 0.06214625760912895, 0.06597064435482025, 0.0129072992131114, 0.9925360679626465, 0.9952400326728821, 0.7237399220466614, 0.27553072571754456, 0.9929990172386169, 0.9994117021560669, 0.999354898929596, 0.9993530511856079, 0.9978533387184143, 0.9807204008102417, 0.9971977472305298, 0.010912067256867886, 0.9875420928001404, 0.9994310736656189, 0.5220967531204224, 0.42137211561203003, 0.05608031898736954, 0.9936035871505737, 0.170735701918602, 0.7888934016227722, 0.039815835654735565, 0.9766092300415039, 0.023333651944994926, 0.9998999834060669, 0.37117093801498413, 0.25054579973220825, 0.0754447653889656, 0.302643746137619, 0.9925017356872559, 0.9976651072502136], \"Term\": [\"absolute\", \"abstract\", \"accept\", \"accident\", \"accuracy\", \"acquire\", \"acquisition\", \"add\", \"address\", \"address\", \"advanced\", \"age\", \"age\", \"agree\", \"agree\", \"algorithm\", \"also\", \"also\", \"also\", \"amount\", \"amp\", \"analogy\", \"analyze\", \"animal\", \"anti\", \"anywhere\", \"apple\", \"application\", \"application\", \"arab\", \"arbitrary\", \"argument\", \"arm\", \"armenian\", \"article\", \"assist\", \"assumption\", \"attack\", \"attack\", \"author\", \"auto\", \"automate\", \"automatically\", \"available\", \"available\", \"available\", \"average\", \"avoid\", \"aware\", \"ax\", \"back\", \"bad\", \"bag\", \"base\", \"base\", \"baseball\", \"battery\", \"be\", \"become\", \"become\", \"become\", \"become\", \"belief\", \"believe\", \"belt\", \"benefit\", \"bike\", \"bill\", \"bill\", \"birth\", \"bit\", \"bit\", \"black\", \"blank\", \"blind\", \"block\", \"blow\", \"blue\", \"board\", \"book\", \"bounce\", \"box\", \"boy\", \"brave\", \"brother\", \"btw\", \"build\", \"burn\", \"bury\", \"bus\", \"button\", \"buy\", \"buy\", \"buy\", \"buyer\", \"buying\", \"cable\", \"call\", \"call\", \"call\", \"campaign\", \"canadian\", \"cap\", \"capacity\", \"capture\", \"car\", \"card\", \"carry\", \"carry\", \"carry\", \"carry\", \"carry\", \"case\", \"case\", \"case\", \"catalog\", \"category\", \"cd\", \"center\", \"change\", \"change\", \"characteristic\", \"child\", \"child\", \"chip\", \"christian\", \"church\", \"circuit\", \"city\", \"civilian\", \"claim\", \"clear\", \"clock\", \"closet\", \"club\", \"cluster\", \"code\", \"code\", \"cold\", \"color\", \"come\", \"come\", \"come\", \"community\", \"community\", \"competition\", \"compress\", \"comprise\", \"computer\", \"computer\", \"concept\", \"conclusion\", \"cone\", \"conference\", \"configuration\", \"confirm\", \"connector\", \"constitution\", \"contain\", \"contain\", \"contain\", \"control\", \"controller\", \"convert\", \"cool\", \"cop\", \"copy\", \"correction\", \"cost\", \"cost\", \"could\", \"could\", \"country\", \"country\", \"country\", \"couple\", \"coverage\", \"cpu\", \"crack\", \"crazy\", \"creation\", \"creature\", \"crew\", \"crime\", \"crime\", \"criminal\", \"criminal\", \"cross\", \"cryptography\", \"cylinder\", \"dare\", \"datum\", \"datum\", \"daughter\", \"dealer\", \"dealer\", \"death\", \"death\", \"decent\", \"default\", \"defense\", \"defense\", \"defense\", \"deletion\", \"deliver\", \"deny\", \"dept\", \"depth\", \"desert\", \"design\", \"designer\", \"detail\", \"develop\", \"device\", \"device\", \"devil\", \"diagnostic\", \"die\", \"die\", \"diet\", \"direct\", \"direction\", \"dirty\", \"discount\", \"discussion\", \"disease\", \"dish\", \"disk\", \"display\", \"distance\", \"distribution\", \"distribution_usa\", \"division\", \"doctor\", \"dog\", \"domain\", \"door\", \"draft\", \"drive\", \"driver\", \"driver\", \"driving\", \"dynamic\", \"eat\", \"economic\", \"electrical\", \"element\", \"email\", \"encryption\", \"engine\", \"engineering\", \"enhancement\", \"enough\", \"enough\", \"entry\", \"era\", \"even\", \"even\", \"evidence\", \"exactly\", \"exactly\", \"exist\", \"expansion\", \"expensive\", \"explain\", \"explain\", \"explain\", \"export\", \"exposure\", \"extension\", \"external\", \"fact\", \"factor\", \"factor\", \"factory\", \"fairly\", \"fairly\", \"faith\", \"family\", \"fan\", \"fancy\", \"faq\", \"fast\", \"fast\", \"fast\", \"fast\", \"fatal\", \"father\", \"fax\", \"fee\", \"field\", \"fight\", \"fight\", \"file\", \"film\", \"final\", \"final\", \"fire\", \"firearm\", \"first\", \"first\", \"first\", \"first\", \"first\", \"flight\", \"floppy\", \"font\", \"force\", \"force\", \"format\", \"formation\", \"forum\", \"friend\", \"front\", \"front\", \"front\", \"function\", \"game\", \"gear\", \"generate\", \"generic\", \"get\", \"get\", \"get\", \"gift\", \"girl\", \"go\", \"goal\", \"god\", \"good\", \"good\", \"government\", \"government\", \"graphic\", \"greatly_appreciate\", \"greek\", \"ground\", \"ground\", \"ground\", \"ground\", \"guess\", \"guilty\", \"gun\", \"handling\", \"hard\", \"have\", \"headache\", \"health\", \"hear\", \"heat\", \"helmet\", \"high\", \"high\", \"highly\", \"highway\", \"hit\", \"homosexual\", \"horror\", \"horse\", \"host\", \"host\", \"hot\", \"hour\", \"house\", \"house\", \"however\", \"however\", \"however\", \"human\", \"ice\", \"icon\", \"ide\", \"ill\", \"image\", \"immediate\", \"imply\", \"import\", \"impressive\", \"improve\", \"improvement\", \"include\", \"include\", \"include\", \"increase\", \"indeed\", \"indication\", \"infinite\", \"info\", \"info\", \"information\", \"information\", \"inhabitant\", \"input\", \"insurance\", \"insurance\", \"interface\", \"interior\", \"internal\", \"internet\", \"interpret\", \"interpretation\", \"introduction\", \"investigation\", \"investment\", \"islamic\", \"israeli\", \"issue\", \"issue\", \"issue\", \"japanese\", \"jewish\", \"key\", \"kill\", \"kinda\", \"know\", \"know\", \"laboratory\", \"land\", \"language\", \"large\", \"last\", \"last\", \"last\", \"last\", \"launch\", \"launch\", \"law\", \"law\", \"leadership\", \"leather\", \"legal\", \"legal\", \"letter\", \"level\", \"level\", \"library\", \"license\", \"life\", \"life\", \"light\", \"light\", \"light\", \"like\", \"line\", \"line\", \"line\", \"line\", \"link\", \"list\", \"list\", \"little\", \"live\", \"live\", \"live\", \"logic\", \"look\", \"look\", \"look\", \"looking\", \"lose\", \"lose\", \"lot\", \"low\", \"low\", \"lunar\", \"luxury\", \"machine\", \"machine\", \"mad\", \"mail\", \"mailing\", \"main\", \"maintenance\", \"make\", \"make\", \"make\", \"male\", \"man\", \"man\", \"man\", \"management\", \"manager\", \"maneuver\", \"many\", \"many\", \"many\", \"map\", \"mapping\", \"mass\", \"material\", \"matter\", \"matter\", \"max\", \"may\", \"may\", \"may\", \"maybe\", \"mb\", \"mean\", \"mean\", \"medical\", \"medicine\", \"member\", \"memory\", \"message\", \"message\", \"message\", \"meter\", \"method\", \"mid\", \"mile\", \"mileage\", \"military\", \"minority\", \"mirror\", \"mission\", \"mission\", \"mode\", \"model\", \"model\", \"modem\", \"module\", \"money\", \"monitor\", \"moon\", \"moral\", \"morality\", \"motherboard\", \"motif\", \"motor\", \"mouse\", \"movie\", \"much\", \"much\", \"much\", \"murder\", \"must\", \"must\", \"name\", \"name\", \"name\", \"national\", \"need\", \"need\", \"need\", \"network\", \"network\", \"new\", \"new\", \"new\", \"next\", \"next\", \"next\", \"nntp_poste\", \"nntp_poste\", \"nntp_posting\", \"noise\", \"note\", \"note\", \"novel\", \"nuclear\", \"number\", \"object\", \"objective\", \"observation\", \"observation\", \"observer\", \"occupy\", \"offense\", \"offer\", \"offer\", \"oil\", \"orbit\", \"orbital\", \"orbiter\", \"order\", \"order\", \"organization\", \"output\", \"own\", \"owner\", \"owner\", \"package\", \"packet\", \"page\", \"page\", \"part\", \"part\", \"part\", \"part\", \"partially\", \"particle\", \"patient\", \"pay\", \"pc\", \"pen\", \"penalty\", \"people\", \"people\", \"people\", \"percent\", \"performance\", \"performance\", \"performance\", \"peripheral\", \"person\", \"phase\", \"phone\", \"physical\", \"physician\", \"pick\", \"pick\", \"picture\", \"pitch\", \"planetary\", \"play\", \"player\", \"plot\", \"point\", \"point\", \"point\", \"point\", \"police\", \"police\", \"population\", \"post\", \"post\", \"post\", \"power\", \"power\", \"power\", \"power\", \"practice\", \"preferably\", \"presentation\", \"pretty\", \"price\", \"price\", \"primarily\", \"primitive\", \"printer\", \"private\", \"prize\", \"problem\", \"problem\", \"problem\", \"procedure\", \"process\", \"processor\", \"product\", \"program\", \"program\", \"program\", \"programmer\", \"protect\", \"protect\", \"protect\", \"proud\", \"prove\", \"provide\", \"provide\", \"pub\", \"public\", \"public\", \"public\", \"publish\", \"pull\", \"pull\", \"pull\", \"pull\", \"purchase\", \"purpose\", \"purpose\", \"put\", \"qualified\", \"question\", \"question\", \"question\", \"quick\", \"rate\", \"rate\", \"ray\", \"read\", \"read\", \"read\", \"ready\", \"ready\", \"reality\", \"really\", \"rear\", \"reason\", \"reason\", \"receive\", \"recieve\", \"red\", \"reflect\", \"regulation\", \"relationship\", \"release\", \"religion\", \"religious\", \"remember\", \"remind\", \"remove\", \"reply\", \"reply\", \"reply\", \"repost\", \"request\", \"request\", \"require\", \"require\", \"research\", \"resolution\", \"respect\", \"restore\", \"restriction\", \"return\", \"return\", \"revelation\", \"review\", \"revolver\", \"reward\", \"ride\", \"rider\", \"right\", \"right\", \"right\", \"risk\", \"risk\", \"risk\", \"road\", \"road\", \"rod\", \"role\", \"roman\", \"route\", \"routine\", \"rsa\", \"rule\", \"run\", \"run\", \"run\", \"run\", \"s\", \"safety\", \"safety\", \"sale\", \"salesman\", \"satellite\", \"saturn\", \"say\", \"say\", \"say\", \"scale\", \"scale\", \"scare\", \"schedule\", \"schedule\", \"science\", \"score\", \"screen\", \"scsi\", \"season\", \"section\", \"secular\", \"secure\", \"security\", \"see\", \"see\", \"see\", \"sell\", \"sell\", \"sell\", \"sell\", \"send\", \"send\", \"send\", \"sense\", \"serial\", \"serious\", \"server\", \"service\", \"set\", \"set\", \"severe\", \"shaft\", \"shall\", \"sheet\", \"shock\", \"shoot\", \"shoot\", \"shuttle\", \"sight\", \"signal\", \"single\", \"sky\", \"small\", \"small\", \"smart\", \"society\", \"soft\", \"software\", \"solar\", \"soldier\", \"somehow\", \"son\", \"soul\", \"source\", \"source\", \"source\", \"space\", \"spacecraft\", \"speak\", \"spec\", \"specify\", \"speed\", \"speed\", \"speed\", \"sport\", \"sport\", \"spring\", \"ssf\", \"staff\", \"stamp\", \"standard\", \"standard\", \"star\", \"stat\", \"state\", \"state\", \"state\", \"state\", \"statement\", \"statistic\", \"status\", \"still\", \"still\", \"still\", \"still\", \"strip\", \"study\", \"stuff_delete\", \"stupid\", \"stupid\", \"submission\", \"subtly\", \"suck\", \"sue\", \"support\", \"support\", \"support\", \"sure\", \"survey\", \"suspension\", \"sustain\", \"switch\", \"system\", \"system\", \"table\", \"take\", \"take\", \"take\", \"tap\", \"tape\", \"task\", \"team\", \"technology\", \"television\", \"tell\", \"tell\", \"terminal\", \"test\", \"text\", \"text\", \"text\", \"text\", \"text\", \"thank\", \"thank\", \"thank\", \"thing\", \"thing\", \"think\", \"think\", \"thrust\", \"ticket\", \"tie\", \"tiff\", \"time\", \"time\", \"time\", \"timing\", \"tire\", \"topic\", \"topic\", \"tour\", \"town\", \"trace\", \"trade\", \"transfer\", \"travel\", \"treat\", \"treat\", \"treatment\", \"trick\", \"trip\", \"trip\", \"true\", \"trust\", \"truth\", \"try\", \"try\", \"try\", \"turbo\", \"turkish\", \"turn\", \"type\", \"type\", \"unique\", \"unit\", \"universe\", \"university\", \"unix\", \"unlikely\", \"up\", \"update\", \"upgrade\", \"usage\", \"use\", \"use\", \"use\", \"use\", \"user\", \"user\", \"user\", \"utility\", \"utilize\", \"variation\", \"various\", \"vehicle\", \"vehicle\", \"vendor\", \"version\", \"version\", \"video\", \"view\", \"view\", \"village\", \"violation\", \"violence\", \"vision\", \"volt\", \"voltage\", \"vote\", \"want\", \"war\", \"water\", \"wave\", \"way\", \"way\", \"way\", \"way\", \"weapon\", \"wear\", \"wear\", \"week\", \"well\", \"well\", \"well\", \"well\", \"western\", \"white\", \"whole\", \"whole\", \"widget\", \"will\", \"win\", \"window\", \"wing\", \"winter\", \"withdraw\", \"woman\", \"woman\", \"word\", \"work\", \"work\", \"work\", \"workstation\", \"world\", \"world\", \"world\", \"would\", \"would\", \"write\", \"year\", \"year\", \"year\", \"year\", \"yesterday\", \"young\"]}, \"R\": 30, \"lambda.step\": 0.01, \"plot.opts\": {\"xlab\": \"PC1\", \"ylab\": \"PC2\"}, \"topic.order\": [20, 18, 8, 7, 6, 10, 19, 2, 17, 9, 12, 14, 5, 13, 4, 15, 16, 11, 1, 3]};\n",
       "\n",
       "function LDAvis_load_lib(url, callback){\n",
       "  var s = document.createElement('script');\n",
       "  s.src = url;\n",
       "  s.async = true;\n",
       "  s.onreadystatechange = s.onload = callback;\n",
       "  s.onerror = function(){console.warn(\"failed to load library \" + url);};\n",
       "  document.getElementsByTagName(\"head\")[0].appendChild(s);\n",
       "}\n",
       "\n",
       "if(typeof(LDAvis) !== \"undefined\"){\n",
       "   // already loaded: just create the visualization\n",
       "   !function(LDAvis){\n",
       "       new LDAvis(\"#\" + \"ldavis_el596818136836607441362927052\", ldavis_el596818136836607441362927052_data);\n",
       "   }(LDAvis);\n",
       "}else if(typeof define === \"function\" && define.amd){\n",
       "   // require.js is available: use it to load d3/LDAvis\n",
       "   require.config({paths: {d3: \"https://cdnjs.cloudflare.com/ajax/libs/d3/3.5.5/d3.min\"}});\n",
       "   require([\"d3\"], function(d3){\n",
       "      window.d3 = d3;\n",
       "      LDAvis_load_lib(\"https://cdn.rawgit.com/bmabey/pyLDAvis/files/ldavis.v1.0.0.js\", function(){\n",
       "        new LDAvis(\"#\" + \"ldavis_el596818136836607441362927052\", ldavis_el596818136836607441362927052_data);\n",
       "      });\n",
       "    });\n",
       "}else{\n",
       "    // require.js not available: dynamically load d3 & LDAvis\n",
       "    LDAvis_load_lib(\"https://cdnjs.cloudflare.com/ajax/libs/d3/3.5.5/d3.min.js\", function(){\n",
       "         LDAvis_load_lib(\"https://cdn.rawgit.com/bmabey/pyLDAvis/files/ldavis.v1.0.0.js\", function(){\n",
       "                 new LDAvis(\"#\" + \"ldavis_el596818136836607441362927052\", ldavis_el596818136836607441362927052_data);\n",
       "            })\n",
       "         });\n",
       "}\n",
       "</script>"
      ],
      "text/plain": [
       "PreparedData(topic_coordinates=              x         y  topics  cluster       Freq\n",
       "topic                                                \n",
       "19     0.358057 -0.053192       1        1  35.991421\n",
       "17     0.309797  0.081345       2        1  20.078922\n",
       "7      0.334990 -0.173991       3        1  15.996448\n",
       "6      0.136895  0.319787       4        1   4.392613\n",
       "5      0.145871 -0.201441       5        1   4.198688\n",
       "9      0.077086  0.205794       6        1   3.528272\n",
       "18     0.052112  0.004579       7        1   2.235080\n",
       "1     -0.024042  0.018474       8        1   2.171359\n",
       "16     0.014542 -0.107599       9        1   2.114542\n",
       "8     -0.083175 -0.019965      10        1   1.322652\n",
       "11    -0.059049  0.110552      11        1   1.243632\n",
       "13    -0.093471  0.013597      12        1   1.197006\n",
       "4     -0.140578 -0.023620      13        1   1.120968\n",
       "12    -0.111027 -0.009130      14        1   1.108070\n",
       "3     -0.137837 -0.027437      15        1   0.775678\n",
       "14    -0.128117 -0.030033      16        1   0.732271\n",
       "15    -0.143520 -0.025504      17        1   0.684310\n",
       "10    -0.149004 -0.022648      18        1   0.604032\n",
       "0     -0.162947 -0.027560      19        1   0.413320\n",
       "2     -0.196583 -0.032010      20        1   0.090717, topic_info=        Term          Freq         Total Category  logprob  loglift\n",
       "174    would  16156.000000  16156.000000  Default  30.0000  30.0000\n",
       "19      line  15862.000000  15862.000000  Default  29.0000  29.0000\n",
       "197    write  13427.000000  13427.000000  Default  28.0000  28.0000\n",
       "3685      ax   2717.000000   2717.000000  Default  27.0000  27.0000\n",
       "40      year   4625.000000   4625.000000  Default  26.0000  26.0000\n",
       "...      ...           ...           ...      ...      ...      ...\n",
       "3949    item      0.019669      1.238911  Topic20 -10.8605   2.8622\n",
       "6920   frame      0.019669      1.238865  Topic20 -10.8605   2.8622\n",
       "5769  hockey      0.019669      1.238940  Topic20 -10.8605   2.8622\n",
       "3141  dollar      0.019669      1.238870  Topic20 -10.8605   2.8622\n",
       "3382     pin      0.019669      1.238987  Topic20 -10.8605   2.8622\n",
       "\n",
       "[836 rows x 6 columns], token_table=      Topic      Freq       Term\n",
       "term                            \n",
       "472      10  0.989009   absolute\n",
       "2857     19  0.946953   abstract\n",
       "1211      8  0.999195     accept\n",
       "853      11  0.995118   accident\n",
       "1014     17  0.986950   accuracy\n",
       "...     ...       ...        ...\n",
       "40        2  0.250546       year\n",
       "40        5  0.075445       year\n",
       "40        7  0.302644       year\n",
       "720       7  0.992502  yesterday\n",
       "570       3  0.997665      young\n",
       "\n",
       "[1001 rows x 3 columns], R=30, lambda_step=0.01, plot_opts={'xlab': 'PC1', 'ylab': 'PC2'}, topic_order=[20, 18, 8, 7, 6, 10, 19, 2, 17, 9, 12, 14, 5, 13, 4, 15, 16, 11, 1, 3])"
      ]
     },
     "execution_count": 20,
     "metadata": {},
     "output_type": "execute_result"
    }
   ],
   "source": [
    "# Visualize the topics\n",
    "pyLDAvis.enable_notebook()\n",
    "vis = pyLDAvis.gensim.prepare(lda_model, corpus, id2word)\n",
    "vis"
   ]
  },
  {
   "cell_type": "markdown",
   "metadata": {},
   "source": [
    "> <b>LDA Mallet:</b> Download Mallet from http://mallet.cs.umass.edu/download.php and extract into notebooks working directory."
   ]
  },
  {
   "cell_type": "code",
   "execution_count": 34,
   "metadata": {},
   "outputs": [],
   "source": [
    "import os\n",
    "os.environ.update({'MALLET_HOME':r'C:/Users/22917746/Desktop/binder repo/notebooks/mallet-2.0.8/'})"
   ]
  },
  {
   "cell_type": "code",
   "execution_count": 35,
   "metadata": {},
   "outputs": [
    {
     "name": "stdout",
     "output_type": "stream",
     "text": [
      "C:/Users/22917746/Desktop/binder repo/notebooks/mallet-2.0.8/\n"
     ]
    }
   ],
   "source": [
    "print(os.environ['MALLET_HOME'])"
   ]
  },
  {
   "cell_type": "code",
   "execution_count": 33,
   "metadata": {},
   "outputs": [
    {
     "ename": "CalledProcessError",
     "evalue": "Command 'C:/Users/22917746/Desktop/binder repo/notebooks/mallet-2.0.8/bin/mallet import-file --preserve-case --keep-sequence --remove-stopwords --token-regex \"\\S+\" --input C:\\Users\\22917746\\AppData\\Local\\Temp\\fbc0a4_corpus.txt --output C:\\Users\\22917746\\AppData\\Local\\Temp\\fbc0a4_corpus.mallet' returned non-zero exit status 1.",
     "output_type": "error",
     "traceback": [
      "\u001b[1;31m---------------------------------------------------------------------------\u001b[0m",
      "\u001b[1;31mCalledProcessError\u001b[0m                        Traceback (most recent call last)",
      "\u001b[1;32m<ipython-input-33-17c59008b103>\u001b[0m in \u001b[0;36m<module>\u001b[1;34m\u001b[0m\n\u001b[0;32m      4\u001b[0m \u001b[1;33m\u001b[0m\u001b[0m\n\u001b[0;32m      5\u001b[0m \u001b[0mmallet_path\u001b[0m \u001b[1;33m=\u001b[0m \u001b[1;34mr'C:/Users/22917746/Desktop/binder repo/notebooks/mallet-2.0.8/bin/mallet'\u001b[0m \u001b[1;31m# update this path\u001b[0m\u001b[1;33m\u001b[0m\u001b[0m\n\u001b[1;32m----> 6\u001b[1;33m \u001b[0mldamallet\u001b[0m \u001b[1;33m=\u001b[0m \u001b[0mgensim\u001b[0m\u001b[1;33m.\u001b[0m\u001b[0mmodels\u001b[0m\u001b[1;33m.\u001b[0m\u001b[0mwrappers\u001b[0m\u001b[1;33m.\u001b[0m\u001b[0mLdaMallet\u001b[0m\u001b[1;33m(\u001b[0m\u001b[0mmallet_path\u001b[0m\u001b[1;33m,\u001b[0m \u001b[0mcorpus\u001b[0m\u001b[1;33m=\u001b[0m\u001b[0mcorpus\u001b[0m\u001b[1;33m,\u001b[0m \u001b[0mnum_topics\u001b[0m\u001b[1;33m=\u001b[0m\u001b[1;36m20\u001b[0m\u001b[1;33m,\u001b[0m \u001b[0mid2word\u001b[0m\u001b[1;33m=\u001b[0m\u001b[0mid2word\u001b[0m\u001b[1;33m)\u001b[0m\u001b[1;33m\u001b[0m\u001b[0m\n\u001b[0m",
      "\u001b[1;32mc:\\users\\22917746\\appdata\\local\\programs\\python\\python36\\lib\\site-packages\\gensim\\models\\wrappers\\ldamallet.py\u001b[0m in \u001b[0;36m__init__\u001b[1;34m(self, mallet_path, corpus, num_topics, alpha, id2word, workers, prefix, optimize_interval, iterations, topic_threshold, random_seed)\u001b[0m\n\u001b[0;32m    129\u001b[0m         \u001b[0mself\u001b[0m\u001b[1;33m.\u001b[0m\u001b[0mrandom_seed\u001b[0m \u001b[1;33m=\u001b[0m \u001b[0mrandom_seed\u001b[0m\u001b[1;33m\u001b[0m\u001b[0m\n\u001b[0;32m    130\u001b[0m         \u001b[1;32mif\u001b[0m \u001b[0mcorpus\u001b[0m \u001b[1;32mis\u001b[0m \u001b[1;32mnot\u001b[0m \u001b[1;32mNone\u001b[0m\u001b[1;33m:\u001b[0m\u001b[1;33m\u001b[0m\u001b[0m\n\u001b[1;32m--> 131\u001b[1;33m             \u001b[0mself\u001b[0m\u001b[1;33m.\u001b[0m\u001b[0mtrain\u001b[0m\u001b[1;33m(\u001b[0m\u001b[0mcorpus\u001b[0m\u001b[1;33m)\u001b[0m\u001b[1;33m\u001b[0m\u001b[0m\n\u001b[0m\u001b[0;32m    132\u001b[0m \u001b[1;33m\u001b[0m\u001b[0m\n\u001b[0;32m    133\u001b[0m     \u001b[1;32mdef\u001b[0m \u001b[0mfinferencer\u001b[0m\u001b[1;33m(\u001b[0m\u001b[0mself\u001b[0m\u001b[1;33m)\u001b[0m\u001b[1;33m:\u001b[0m\u001b[1;33m\u001b[0m\u001b[0m\n",
      "\u001b[1;32mc:\\users\\22917746\\appdata\\local\\programs\\python\\python36\\lib\\site-packages\\gensim\\models\\wrappers\\ldamallet.py\u001b[0m in \u001b[0;36mtrain\u001b[1;34m(self, corpus)\u001b[0m\n\u001b[0;32m    270\u001b[0m \u001b[1;33m\u001b[0m\u001b[0m\n\u001b[0;32m    271\u001b[0m         \"\"\"\n\u001b[1;32m--> 272\u001b[1;33m         \u001b[0mself\u001b[0m\u001b[1;33m.\u001b[0m\u001b[0mconvert_input\u001b[0m\u001b[1;33m(\u001b[0m\u001b[0mcorpus\u001b[0m\u001b[1;33m,\u001b[0m \u001b[0minfer\u001b[0m\u001b[1;33m=\u001b[0m\u001b[1;32mFalse\u001b[0m\u001b[1;33m)\u001b[0m\u001b[1;33m\u001b[0m\u001b[0m\n\u001b[0m\u001b[0;32m    273\u001b[0m         \u001b[0mcmd\u001b[0m \u001b[1;33m=\u001b[0m \u001b[0mself\u001b[0m\u001b[1;33m.\u001b[0m\u001b[0mmallet_path\u001b[0m \u001b[1;33m+\u001b[0m \u001b[1;34m' train-topics --input %s --num-topics %s  --alpha %s --optimize-interval %s '\u001b[0m\u001b[0;31m\\\u001b[0m\u001b[1;33m\u001b[0m\u001b[0m\n\u001b[0;32m    274\u001b[0m             \u001b[1;34m'--num-threads %s --output-state %s --output-doc-topics %s --output-topic-keys %s '\u001b[0m\u001b[0;31m\\\u001b[0m\u001b[1;33m\u001b[0m\u001b[0m\n",
      "\u001b[1;32mc:\\users\\22917746\\appdata\\local\\programs\\python\\python36\\lib\\site-packages\\gensim\\models\\wrappers\\ldamallet.py\u001b[0m in \u001b[0;36mconvert_input\u001b[1;34m(self, corpus, infer, serialize_corpus)\u001b[0m\n\u001b[0;32m    259\u001b[0m             \u001b[0mcmd\u001b[0m \u001b[1;33m=\u001b[0m \u001b[0mcmd\u001b[0m \u001b[1;33m%\u001b[0m \u001b[1;33m(\u001b[0m\u001b[0mself\u001b[0m\u001b[1;33m.\u001b[0m\u001b[0mfcorpustxt\u001b[0m\u001b[1;33m(\u001b[0m\u001b[1;33m)\u001b[0m\u001b[1;33m,\u001b[0m \u001b[0mself\u001b[0m\u001b[1;33m.\u001b[0m\u001b[0mfcorpusmallet\u001b[0m\u001b[1;33m(\u001b[0m\u001b[1;33m)\u001b[0m\u001b[1;33m)\u001b[0m\u001b[1;33m\u001b[0m\u001b[0m\n\u001b[0;32m    260\u001b[0m         \u001b[0mlogger\u001b[0m\u001b[1;33m.\u001b[0m\u001b[0minfo\u001b[0m\u001b[1;33m(\u001b[0m\u001b[1;34m\"converting temporary corpus to MALLET format with %s\"\u001b[0m\u001b[1;33m,\u001b[0m \u001b[0mcmd\u001b[0m\u001b[1;33m)\u001b[0m\u001b[1;33m\u001b[0m\u001b[0m\n\u001b[1;32m--> 261\u001b[1;33m         \u001b[0mcheck_output\u001b[0m\u001b[1;33m(\u001b[0m\u001b[0margs\u001b[0m\u001b[1;33m=\u001b[0m\u001b[0mcmd\u001b[0m\u001b[1;33m,\u001b[0m \u001b[0mshell\u001b[0m\u001b[1;33m=\u001b[0m\u001b[1;32mTrue\u001b[0m\u001b[1;33m)\u001b[0m\u001b[1;33m\u001b[0m\u001b[0m\n\u001b[0m\u001b[0;32m    262\u001b[0m \u001b[1;33m\u001b[0m\u001b[0m\n\u001b[0;32m    263\u001b[0m     \u001b[1;32mdef\u001b[0m \u001b[0mtrain\u001b[0m\u001b[1;33m(\u001b[0m\u001b[0mself\u001b[0m\u001b[1;33m,\u001b[0m \u001b[0mcorpus\u001b[0m\u001b[1;33m)\u001b[0m\u001b[1;33m:\u001b[0m\u001b[1;33m\u001b[0m\u001b[0m\n",
      "\u001b[1;32mc:\\users\\22917746\\appdata\\local\\programs\\python\\python36\\lib\\site-packages\\gensim\\utils.py\u001b[0m in \u001b[0;36mcheck_output\u001b[1;34m(stdout, *popenargs, **kwargs)\u001b[0m\n\u001b[0;32m   1916\u001b[0m             \u001b[0merror\u001b[0m \u001b[1;33m=\u001b[0m \u001b[0msubprocess\u001b[0m\u001b[1;33m.\u001b[0m\u001b[0mCalledProcessError\u001b[0m\u001b[1;33m(\u001b[0m\u001b[0mretcode\u001b[0m\u001b[1;33m,\u001b[0m \u001b[0mcmd\u001b[0m\u001b[1;33m)\u001b[0m\u001b[1;33m\u001b[0m\u001b[0m\n\u001b[0;32m   1917\u001b[0m             \u001b[0merror\u001b[0m\u001b[1;33m.\u001b[0m\u001b[0moutput\u001b[0m \u001b[1;33m=\u001b[0m \u001b[0moutput\u001b[0m\u001b[1;33m\u001b[0m\u001b[0m\n\u001b[1;32m-> 1918\u001b[1;33m             \u001b[1;32mraise\u001b[0m \u001b[0merror\u001b[0m\u001b[1;33m\u001b[0m\u001b[0m\n\u001b[0m\u001b[0;32m   1919\u001b[0m         \u001b[1;32mreturn\u001b[0m \u001b[0moutput\u001b[0m\u001b[1;33m\u001b[0m\u001b[0m\n\u001b[0;32m   1920\u001b[0m     \u001b[1;32mexcept\u001b[0m \u001b[0mKeyboardInterrupt\u001b[0m\u001b[1;33m:\u001b[0m\u001b[1;33m\u001b[0m\u001b[0m\n",
      "\u001b[1;31mCalledProcessError\u001b[0m: Command 'C:/Users/22917746/Desktop/binder repo/notebooks/mallet-2.0.8/bin/mallet import-file --preserve-case --keep-sequence --remove-stopwords --token-regex \"\\S+\" --input C:\\Users\\22917746\\AppData\\Local\\Temp\\fbc0a4_corpus.txt --output C:\\Users\\22917746\\AppData\\Local\\Temp\\fbc0a4_corpus.mallet' returned non-zero exit status 1."
     ]
    }
   ],
   "source": [
    "# Download File: http://mallet.cs.umass.edu/dist/mallet-2.0.8.zip\n",
    "\n",
    "\n",
    "mallet_path = r'C:/Users/22917746/Desktop/binder repo/notebooks/mallet-2.0.8/bin/mallet' # update this path\n",
    "ldamallet = gensim.models.wrappers.LdaMallet(mallet_path, corpus=corpus, num_topics=20, id2word=id2word)"
   ]
  },
  {
   "cell_type": "code",
   "execution_count": null,
   "metadata": {},
   "outputs": [],
   "source": []
  },
  {
   "cell_type": "code",
   "execution_count": 20,
   "metadata": {},
   "outputs": [
    {
     "name": "stdout",
     "output_type": "stream",
     "text": [
      "[(4,\n",
      "  [('game', 0.024669252959315626),\n",
      "   ('team', 0.01804187804635432),\n",
      "   ('year', 0.014622500746045956),\n",
      "   ('play', 0.014038098080175072),\n",
      "   ('player', 0.012061076295633145),\n",
      "   ('win', 0.010904705063165224),\n",
      "   ('good', 0.010419775191485129),\n",
      "   ('season', 0.007734009748333831),\n",
      "   ('hockey', 0.00693822739480752),\n",
      "   ('fan', 0.006540336218044365)]),\n",
      " (14,\n",
      "  [('write', 0.011085139030301292),\n",
      "   ('question', 0.01009565055282291),\n",
      "   ('science', 0.00980884229848135),\n",
      "   ('exist', 0.00973714023489596),\n",
      "   ('evidence', 0.008346120201339395),\n",
      "   ('argument', 0.00815969483601738),\n",
      "   ('system', 0.00810233318514907),\n",
      "   ('make', 0.00810233318514907),\n",
      "   ('reason', 0.007256248834841467),\n",
      "   ('thing', 0.007041142644085297)]),\n",
      " (11,\n",
      "  [('drug', 0.00915375864181325),\n",
      "   ('research', 0.0075610396429509055),\n",
      "   ('study', 0.007035967445523759),\n",
      "   ('food', 0.006913450599457425),\n",
      "   ('problem', 0.0061433447098976105),\n",
      "   ('doctor', 0.0057932965782795135),\n",
      "   ('disease', 0.00556576529272775),\n",
      "   ('medical', 0.005548262886146845),\n",
      "   ('organization', 0.005425746040080511),\n",
      "   ('effect', 0.005408243633499606)]),\n",
      " (12,\n",
      "  [('write', 0.1136276465173366),\n",
      "   ('organization', 0.10774010432648051),\n",
      "   ('line', 0.10342513040810064),\n",
      "   ('article', 0.10227447069653268),\n",
      "   ('nntp_post', 0.05977677201595581),\n",
      "   ('host', 0.05087833691316355),\n",
      "   ('reply', 0.034308837066584844),\n",
      "   ('usa', 0.015457195458729672),\n",
      "   ('distribution_world', 0.013596962258361461),\n",
      "   ('post', 0.00830392758514882)]),\n",
      " (1,\n",
      "  [('leave', 0.013436459097837746),\n",
      "   ('time', 0.013097724834867047),\n",
      "   ('day', 0.01024671145486366),\n",
      "   ('people', 0.010162027889120984),\n",
      "   ('back', 0.009710382205160052),\n",
      "   ('man', 0.008171964094168125),\n",
      "   ('happen', 0.007861457686444985),\n",
      "   ('call', 0.00776266019307853),\n",
      "   ('start', 0.0073674702196127135),\n",
      "   ('face', 0.007198103088127364)]),\n",
      " (2,\n",
      "  [('god', 0.021087040833287163),\n",
      "   ('christian', 0.016698986093412378),\n",
      "   ('people', 0.008244224056734445),\n",
      "   ('religion', 0.007956119452601253),\n",
      "   ('word', 0.0078453099894731),\n",
      "   ('bible', 0.007812067150534656),\n",
      "   ('church', 0.007047481854950413),\n",
      "   ('faith', 0.006415867915119952),\n",
      "   ('atheist', 0.005861820599479196),\n",
      "   ('belief', 0.0057510111363510445)]),\n",
      " (3,\n",
      "  [('window', 0.03304615384615384),\n",
      "   ('image', 0.01589230769230769),\n",
      "   ('file', 0.014692307692307692),\n",
      "   ('program', 0.0132),\n",
      "   ('display', 0.01296923076923077),\n",
      "   ('graphic', 0.012307692307692308),\n",
      "   ('color', 0.012061538461538462),\n",
      "   ('package', 0.00893846153846154),\n",
      "   ('screen', 0.008),\n",
      "   ('version', 0.007984615384615385)]),\n",
      " (10,\n",
      "  [('key', 0.031186003386277514),\n",
      "   ('system', 0.01283560428928485),\n",
      "   ('encryption', 0.011464968152866241),\n",
      "   ('bit', 0.01020720793356446),\n",
      "   ('government', 0.009175199548496332),\n",
      "   ('security', 0.009110699024429573),\n",
      "   ('chip', 0.008675320486978957),\n",
      "   ('technology', 0.008143191163428203),\n",
      "   ('message', 0.007788438281061034),\n",
      "   ('public', 0.007723937756994276)]),\n",
      " (18,\n",
      "  [('gun', 0.021209049989566877),\n",
      "   ('state', 0.017184845142635706),\n",
      "   ('law', 0.016678093421170298),\n",
      "   ('people', 0.010209556741288341),\n",
      "   ('crime', 0.0076012758219811015),\n",
      "   ('case', 0.007005097326139446),\n",
      "   ('weapon', 0.006960383938951322),\n",
      "   ('kill', 0.006677199153426536),\n",
      "   ('firearm', 0.006662294691030494),\n",
      "   ('police', 0.0060363072703967565)]),\n",
      " (5,\n",
      "  [('ax', 0.851311826711456),\n",
      "   ('max', 0.06211629792656087),\n",
      "   ('tm', 0.0024035677053168077),\n",
      "   ('qax', 0.002027105293640681),\n",
      "   ('_', 0.0012597011467624232),\n",
      "   ('giz', 0.0010135526468203406),\n",
      "   ('mf', 0.0009845939997683308),\n",
      "   ('ml', 0.0007963627939302676),\n",
      "   ('wm_wm', 0.0007674041468782579),\n",
      "   ('gq', 0.000752924823352253)])]\n",
      "\n",
      "Coherence Score:  0.6328970286381035\n"
     ]
    }
   ],
   "source": [
    "# Show Topics\n",
    "pprint(ldamallet.show_topics(formatted=False))\n",
    "\n",
    "# Compute Coherence Score\n",
    "coherence_model_ldamallet = CoherenceModel(model=ldamallet, texts=data_lemmatized, dictionary=id2word, coherence='c_v')\n",
    "coherence_ldamallet = coherence_model_ldamallet.get_coherence()\n",
    "print('\\nCoherence Score: ', coherence_ldamallet)"
   ]
  },
  {
   "cell_type": "markdown",
   "metadata": {},
   "source": [
    "## How to find the best number of topics"
   ]
  },
  {
   "cell_type": "code",
   "execution_count": 21,
   "metadata": {},
   "outputs": [],
   "source": [
    "def compute_coherence_values(dictionary, corpus, texts, limit, start=2, step=3):\n",
    "    \"\"\"\n",
    "    Compute c_v coherence for various number of topics\n",
    "\n",
    "    Parameters:\n",
    "    ----------\n",
    "    dictionary : Gensim dictionary\n",
    "    corpus : Gensim corpus\n",
    "    texts : List of input texts\n",
    "    limit : Max num of topics\n",
    "\n",
    "    Returns:\n",
    "    -------\n",
    "    model_list : List of LDA topic models\n",
    "    coherence_values : Coherence values corresponding to the LDA model with respective number of topics\n",
    "    \"\"\"\n",
    "    coherence_values = []\n",
    "    model_list = []\n",
    "    for num_topics in range(start, limit, step):\n",
    "        model = gensim.models.wrappers.LdaMallet(mallet_path, corpus=corpus, num_topics=num_topics, id2word=id2word)\n",
    "        model_list.append(model)\n",
    "        coherencemodel = CoherenceModel(model=model, texts=texts, dictionary=dictionary, coherence='c_v')\n",
    "        coherence_values.append(coherencemodel.get_coherence())\n",
    "\n",
    "    return model_list, coherence_values"
   ]
  },
  {
   "cell_type": "code",
   "execution_count": 22,
   "metadata": {},
   "outputs": [],
   "source": [
    "# Can take a long time to run.\n",
    "model_list, coherence_values = compute_coherence_values(dictionary=id2word, corpus=corpus, texts=data_lemmatized, start=2, limit=40, step=6)"
   ]
  },
  {
   "cell_type": "code",
   "execution_count": 23,
   "metadata": {},
   "outputs": [
    {
     "data": {
      "image/png": "[encoded data removed]",
      "text/plain": [
       "<Figure size 432x288 with 1 Axes>"
      ]
     },
     "metadata": {
      "needs_background": "light"
     },
     "output_type": "display_data"
    }
   ],
   "source": [
    "# Show graph\n",
    "limit=40; start=2; step=6;\n",
    "x = range(start, limit, step)\n",
    "plt.plot(x, coherence_values)\n",
    "plt.xlabel(\"Num Topics\")\n",
    "plt.ylabel(\"Coherence score\")\n",
    "plt.legend((\"coherence_values\"), loc='best')\n",
    "plt.show()"
   ]
  },
  {
   "cell_type": "code",
   "execution_count": null,
   "metadata": {},
   "outputs": [],
   "source": []
  }
 ],
 "metadata": {
  "celltoolbar": "Slideshow",
  "kernelspec": {
   "display_name": "Python 3",
   "language": "python",
   "name": "python3"
  },
  "language_info": {
   "codemirror_mode": {
    "name": "ipython",
    "version": 3
   },
   "file_extension": ".py",
   "mimetype": "text/x-python",
   "name": "python",
   "nbconvert_exporter": "python",
   "pygments_lexer": "ipython3",
   "version": "3.6.5"
  }
 },
 "nbformat": 4,
 "nbformat_minor": 4
}
